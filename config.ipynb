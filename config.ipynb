{
 "cells": [
  {
   "cell_type": "code",
   "execution_count": 1,
   "id": "48c95a48",
   "metadata": {},
   "outputs": [],
   "source": [
    "import torch\n",
    "import os"
   ]
  },
  {
   "cell_type": "code",
   "execution_count": 2,
   "id": "723361c5",
   "metadata": {},
   "outputs": [],
   "source": [
    "# base path of the dataset\n",
    "DATASET_PATH = \"..\\cellpose dataset\""
   ]
  },
  {
   "cell_type": "code",
   "execution_count": 3,
   "id": "e68cc156",
   "metadata": {},
   "outputs": [],
   "source": [
    "IMAGE_DATASET_PATH = os.path.join(DATASET_PATH, \"train_img\")\n",
    "MASK_DATASET_PATH = os.path.join(DATASET_PATH, \"train_masks\")"
   ]
  },
  {
   "cell_type": "code",
   "execution_count": 4,
   "id": "d1bbf839",
   "metadata": {},
   "outputs": [],
   "source": [
    "# determine the device to be used for training and evaluation\n",
    "DEVICE = \"cuda\" if torch.cuda.is_available() else \"cpu\"\n",
    "\n",
    "# determine if we will be pinning memory during data loading\n",
    "PIN_MEMORY = True if DEVICE == \"cuda\" else False"
   ]
  },
  {
   "cell_type": "code",
   "execution_count": 5,
   "id": "bf8eb1c8",
   "metadata": {},
   "outputs": [],
   "source": [
    "NUM_CHANNELS = 1\n",
    "NUM_CLASSES = 1\n",
    "NUM_LEVELS = 5\n",
    "\n",
    "TEST_SPLIT= 0.15\n",
    "\n",
    "# initialize learning rate, number of epochs to train for, and the\n",
    "# batch size\n",
    "INIT_LR = 0.001\n",
    "NUM_EPOCHS = 150\n",
    "BATCH_SIZE = 8\n",
    "\n",
    "# define the input image dimensions\n",
    "INPUT_IMAGE_WIDTH = 128\n",
    "INPUT_IMAGE_HEIGHT = 128\n",
    "\n",
    "# define threshold to filter weak predictions\n",
    "THRESHOLD = 0.5\n",
    "\n",
    "# define the path to the base output directory\n",
    "BASE_OUTPUT = \"output\"\n",
    "\n",
    "# define the path to the output serialized model, model training\n",
    "# plot, and testing image paths\n",
    "MODEL_PATH = os.path.join(BASE_OUTPUT, \"unet-t1-150.pth\")\n",
    "PLOT_PATH = os.path.sep.join([BASE_OUTPUT, \"plot-t1-150.png\"])\n",
    "TEST_PATHS = os.path.sep.join([BASE_OUTPUT, \"test_paths-t1-150.txt\"])"
   ]
  },
  {
   "cell_type": "code",
   "execution_count": null,
   "id": "b15a9f29",
   "metadata": {},
   "outputs": [],
   "source": []
  },
  {
   "cell_type": "code",
   "execution_count": null,
   "id": "cf82928b",
   "metadata": {},
   "outputs": [],
   "source": []
  }
 ],
 "metadata": {
  "kernelspec": {
   "display_name": "Python 3",
   "language": "python",
   "name": "python3"
  },
  "language_info": {
   "codemirror_mode": {
    "name": "ipython",
    "version": 3
   },
   "file_extension": ".py",
   "mimetype": "text/x-python",
   "name": "python",
   "nbconvert_exporter": "python",
   "pygments_lexer": "ipython3",
   "version": "3.8.8"
  }
 },
 "nbformat": 4,
 "nbformat_minor": 5
}
