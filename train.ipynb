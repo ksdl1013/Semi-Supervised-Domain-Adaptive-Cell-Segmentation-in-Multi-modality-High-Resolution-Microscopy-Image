{
 "cells": [
  {
   "cell_type": "code",
   "execution_count": 1,
   "id": "5cee30c0",
   "metadata": {},
   "outputs": [
    {
     "name": "stdout",
     "output_type": "stream",
     "text": [
      "importing Jupyter notebook from config.ipynb\n",
      "importing Jupyter notebook from dataset.ipynb\n",
      "importing Jupyter notebook from model.ipynb\n"
     ]
    }
   ],
   "source": [
    "# import the necessary packages\n",
    "import import_ipynb\n",
    "import config\n",
    "from dataset import SegmentationDataset\n",
    "from model import UNet\n",
    "from torch.nn import BCEWithLogitsLoss\n",
    "from torch.optim import Adam\n",
    "from torch.utils.data import DataLoader\n",
    "from sklearn.model_selection import train_test_split\n",
    "from torchvision import transforms\n",
    "from imutils import paths\n",
    "from tqdm import tqdm\n",
    "import matplotlib.pyplot as plt\n",
    "import torch\n",
    "import time\n",
    "import os"
   ]
  },
  {
   "cell_type": "code",
   "execution_count": 2,
   "id": "556af968",
   "metadata": {},
   "outputs": [],
   "source": [
    "imagePaths = sorted(list(paths.list_images(config.IMAGE_DATASET_PATH)))\n",
    "maskPaths = sorted(list(paths.list_images(config.MASK_DATASET_PATH)))"
   ]
  },
  {
   "cell_type": "code",
   "execution_count": 3,
   "id": "43d9d1fc",
   "metadata": {},
   "outputs": [
    {
     "name": "stdout",
     "output_type": "stream",
     "text": [
      "[INFO] saving testing image paths...\n"
     ]
    }
   ],
   "source": [
    "split = train_test_split(imagePaths, maskPaths,\n",
    "    test_size=config.TEST_SPLIT, random_state=42)\n",
    "\n",
    "# unpack the data split\n",
    "(trainImages, testImages) = split[:2]\n",
    "(trainMasks, testMasks) = split[2:]\n",
    "\n",
    "# write the testing image paths to disk so that we can use then\n",
    "# when evaluating/testing our model\n",
    "print(\"[INFO] saving testing image paths...\")\n",
    "f = open(config.TEST_PATHS, \"w\")\n",
    "f.write(\"\\n\".join(testImages))\n",
    "f.close()"
   ]
  },
  {
   "cell_type": "code",
   "execution_count": 4,
   "id": "b0f69ee0",
   "metadata": {},
   "outputs": [],
   "source": [
    "# define transformations\n",
    "transforms = transforms.Compose([transforms.ToPILImage(),\n",
    "     transforms.Resize((config.INPUT_IMAGE_HEIGHT,\n",
    "        config.INPUT_IMAGE_WIDTH)),\n",
    "        transforms.ToTensor()])"
   ]
  },
  {
   "cell_type": "code",
   "execution_count": 5,
   "id": "3d69b178",
   "metadata": {},
   "outputs": [],
   "source": [
    "# create the train datasets\n",
    "trainDS = SegmentationDataset(imagePaths=trainImages, maskPaths=trainMasks,\n",
    "    transforms=transforms)\n",
    "testDS = SegmentationDataset(imagePaths=testImages, maskPaths=testMasks,\n",
    "    transforms=transforms)"
   ]
  },
  {
   "cell_type": "code",
   "execution_count": 6,
   "id": "4bbe2a0b",
   "metadata": {},
   "outputs": [],
   "source": [
    "# create the training data loaders\n",
    "trainLoader = DataLoader(trainDS, shuffle=True,\n",
    "    batch_size=config.BATCH_SIZE, pin_memory=config.PIN_MEMORY)\n",
    "    #num_workers=os.cpu_count())\n",
    "testLoader = DataLoader(testDS, shuffle=False,\n",
    "    batch_size=config.BATCH_SIZE, pin_memory=config.PIN_MEMORY)\n",
    "    #num_workers=os.cpu_count())"
   ]
  },
  {
   "cell_type": "code",
   "execution_count": 7,
   "id": "923e28b3",
   "metadata": {},
   "outputs": [],
   "source": [
    "# initialize our UNet model\n",
    "unet = UNet().to(config.DEVICE)\n",
    "# initialize loss function and optimizer\n",
    "\n",
    "lossFunc = BCEWithLogitsLoss()\n",
    "opt = Adam(unet.parameters(), lr=config.INIT_LR)\n",
    "\n",
    "# calculate steps per epoch for training and test set\n",
    "trainSteps = len(trainDS) // config.BATCH_SIZE\n",
    "testSteps = len(testDS) // config.BATCH_SIZE\n",
    "\n",
    "# initialize a dictionary to store training history\n",
    "H = {\"train_loss\": [], \"test_loss\": []}\n",
    "P ={\"x\":[], 'y1':[]}"
   ]
  },
  {
   "cell_type": "code",
   "execution_count": 8,
   "id": "6e6273ab",
   "metadata": {
    "scrolled": true
   },
   "outputs": [
    {
     "name": "stderr",
     "output_type": "stream",
     "text": [
      "\r",
      "  0%|                                                                                          | 0/150 [00:00<?, ?it/s]"
     ]
    },
    {
     "name": "stdout",
     "output_type": "stream",
     "text": [
      "[INFO] training the network...\n",
      "torch.Size([8, 1, 128, 128])\n",
      "torch.Size([8, 1, 128, 128])\n",
      "torch.Size([8, 1, 128, 128])\n",
      "torch.Size([8, 1, 128, 128])\n",
      "torch.Size([8, 1, 128, 128])\n",
      "torch.Size([8, 1, 128, 128])\n",
      "torch.Size([8, 1, 128, 128])\n",
      "torch.Size([8, 1, 128, 128])\n",
      "torch.Size([8, 1, 128, 128])\n",
      "torch.Size([8, 1, 128, 128])\n",
      "torch.Size([1, 1, 128, 128])\n"
     ]
    },
    {
     "name": "stderr",
     "output_type": "stream",
     "text": [
      "\r",
      "  1%|▌                                                                             | 1/150 [08:23<20:50:39, 503.62s/it]"
     ]
    },
    {
     "name": "stdout",
     "output_type": "stream",
     "text": [
      "[INFO] EPOCH: 1/150\n",
      "Train loss: 0.621009, Validation loss: 0.5471\n",
      "torch.Size([8, 1, 128, 128])\n",
      "torch.Size([8, 1, 128, 128])\n",
      "torch.Size([8, 1, 128, 128])\n",
      "torch.Size([8, 1, 128, 128])\n",
      "torch.Size([8, 1, 128, 128])\n",
      "torch.Size([8, 1, 128, 128])\n",
      "torch.Size([8, 1, 128, 128])\n",
      "torch.Size([8, 1, 128, 128])\n",
      "torch.Size([8, 1, 128, 128])\n",
      "torch.Size([8, 1, 128, 128])\n"
     ]
    },
    {
     "name": "stderr",
     "output_type": "stream",
     "text": [
      "\r",
      "  1%|█                                                                             | 2/150 [16:44<20:37:39, 501.75s/it]"
     ]
    },
    {
     "name": "stdout",
     "output_type": "stream",
     "text": [
      "torch.Size([1, 1, 128, 128])\n",
      "[INFO] EPOCH: 2/150\n",
      "Train loss: 0.566505, Validation loss: 0.5192\n",
      "torch.Size([8, 1, 128, 128])\n",
      "torch.Size([8, 1, 128, 128])\n",
      "torch.Size([8, 1, 128, 128])\n",
      "torch.Size([8, 1, 128, 128])\n",
      "torch.Size([8, 1, 128, 128])\n",
      "torch.Size([8, 1, 128, 128])\n",
      "torch.Size([8, 1, 128, 128])\n",
      "torch.Size([8, 1, 128, 128])\n",
      "torch.Size([8, 1, 128, 128])\n",
      "torch.Size([8, 1, 128, 128])\n"
     ]
    },
    {
     "name": "stderr",
     "output_type": "stream",
     "text": [
      "\r",
      "  2%|█▌                                                                            | 3/150 [24:53<20:15:32, 496.14s/it]"
     ]
    },
    {
     "name": "stdout",
     "output_type": "stream",
     "text": [
      "torch.Size([1, 1, 128, 128])\n",
      "[INFO] EPOCH: 3/150\n",
      "Train loss: 0.555968, Validation loss: 0.5116\n",
      "torch.Size([8, 1, 128, 128])\n",
      "torch.Size([8, 1, 128, 128])\n",
      "torch.Size([8, 1, 128, 128])\n",
      "torch.Size([8, 1, 128, 128])\n",
      "torch.Size([8, 1, 128, 128])\n",
      "torch.Size([8, 1, 128, 128])\n",
      "torch.Size([8, 1, 128, 128])\n",
      "torch.Size([8, 1, 128, 128])\n",
      "torch.Size([8, 1, 128, 128])\n",
      "torch.Size([8, 1, 128, 128])\n"
     ]
    },
    {
     "name": "stderr",
     "output_type": "stream",
     "text": [
      "\r",
      "  3%|██                                                                            | 4/150 [33:37<20:34:23, 507.28s/it]"
     ]
    },
    {
     "name": "stdout",
     "output_type": "stream",
     "text": [
      "torch.Size([1, 1, 128, 128])\n",
      "[INFO] EPOCH: 4/150\n",
      "Train loss: 0.555237, Validation loss: 0.5332\n",
      "torch.Size([8, 1, 128, 128])\n",
      "torch.Size([8, 1, 128, 128])\n",
      "torch.Size([8, 1, 128, 128])\n",
      "torch.Size([8, 1, 128, 128])\n",
      "torch.Size([8, 1, 128, 128])\n",
      "torch.Size([8, 1, 128, 128])\n",
      "torch.Size([8, 1, 128, 128])\n",
      "torch.Size([8, 1, 128, 128])\n",
      "torch.Size([8, 1, 128, 128])\n",
      "torch.Size([8, 1, 128, 128])\n"
     ]
    },
    {
     "name": "stderr",
     "output_type": "stream",
     "text": [
      "\r",
      "  3%|██▌                                                                           | 5/150 [42:10<20:30:11, 509.04s/it]"
     ]
    },
    {
     "name": "stdout",
     "output_type": "stream",
     "text": [
      "torch.Size([1, 1, 128, 128])\n",
      "[INFO] EPOCH: 5/150\n",
      "Train loss: 0.547660, Validation loss: 0.5201\n",
      "torch.Size([8, 1, 128, 128])\n",
      "torch.Size([8, 1, 128, 128])\n",
      "torch.Size([8, 1, 128, 128])\n",
      "torch.Size([8, 1, 128, 128])\n",
      "torch.Size([8, 1, 128, 128])\n",
      "torch.Size([8, 1, 128, 128])\n",
      "torch.Size([8, 1, 128, 128])\n",
      "torch.Size([8, 1, 128, 128])\n",
      "torch.Size([8, 1, 128, 128])\n",
      "torch.Size([8, 1, 128, 128])\n"
     ]
    },
    {
     "name": "stderr",
     "output_type": "stream",
     "text": [
      "\r",
      "  4%|███                                                                           | 6/150 [50:37<20:20:28, 508.53s/it]"
     ]
    },
    {
     "name": "stdout",
     "output_type": "stream",
     "text": [
      "torch.Size([1, 1, 128, 128])\n",
      "[INFO] EPOCH: 6/150\n",
      "Train loss: 0.542770, Validation loss: 0.4967\n",
      "torch.Size([8, 1, 128, 128])\n",
      "torch.Size([8, 1, 128, 128])\n",
      "torch.Size([8, 1, 128, 128])\n",
      "torch.Size([8, 1, 128, 128])\n",
      "torch.Size([8, 1, 128, 128])\n",
      "torch.Size([8, 1, 128, 128])\n",
      "torch.Size([8, 1, 128, 128])\n",
      "torch.Size([8, 1, 128, 128])\n",
      "torch.Size([8, 1, 128, 128])\n",
      "torch.Size([8, 1, 128, 128])\n"
     ]
    },
    {
     "name": "stderr",
     "output_type": "stream",
     "text": [
      "\r",
      "  5%|███▋                                                                          | 7/150 [59:06<20:11:56, 508.51s/it]"
     ]
    },
    {
     "name": "stdout",
     "output_type": "stream",
     "text": [
      "torch.Size([1, 1, 128, 128])\n",
      "[INFO] EPOCH: 7/150\n",
      "Train loss: 0.542557, Validation loss: 0.5083\n",
      "torch.Size([8, 1, 128, 128])\n",
      "torch.Size([8, 1, 128, 128])\n",
      "torch.Size([8, 1, 128, 128])\n",
      "torch.Size([8, 1, 128, 128])\n",
      "torch.Size([8, 1, 128, 128])\n",
      "torch.Size([8, 1, 128, 128])\n",
      "torch.Size([8, 1, 128, 128])\n",
      "torch.Size([8, 1, 128, 128])\n",
      "torch.Size([8, 1, 128, 128])\n",
      "torch.Size([8, 1, 128, 128])\n"
     ]
    },
    {
     "name": "stderr",
     "output_type": "stream",
     "text": [
      "\r",
      "  5%|████                                                                        | 8/150 [1:08:04<20:26:09, 518.09s/it]"
     ]
    },
    {
     "name": "stdout",
     "output_type": "stream",
     "text": [
      "torch.Size([1, 1, 128, 128])\n",
      "[INFO] EPOCH: 8/150\n",
      "Train loss: 0.541652, Validation loss: 0.5133\n",
      "torch.Size([8, 1, 128, 128])\n",
      "torch.Size([8, 1, 128, 128])\n",
      "torch.Size([8, 1, 128, 128])\n",
      "torch.Size([8, 1, 128, 128])\n",
      "torch.Size([8, 1, 128, 128])\n",
      "torch.Size([8, 1, 128, 128])\n",
      "torch.Size([8, 1, 128, 128])\n",
      "torch.Size([8, 1, 128, 128])\n",
      "torch.Size([8, 1, 128, 128])\n",
      "torch.Size([8, 1, 128, 128])\n"
     ]
    },
    {
     "name": "stderr",
     "output_type": "stream",
     "text": [
      "\r",
      "  6%|████▌                                                                       | 9/150 [1:16:24<20:04:03, 512.37s/it]"
     ]
    },
    {
     "name": "stdout",
     "output_type": "stream",
     "text": [
      "torch.Size([1, 1, 128, 128])\n",
      "[INFO] EPOCH: 9/150\n",
      "Train loss: 0.546716, Validation loss: 0.5102\n",
      "torch.Size([8, 1, 128, 128])\n",
      "torch.Size([8, 1, 128, 128])\n",
      "torch.Size([8, 1, 128, 128])\n",
      "torch.Size([8, 1, 128, 128])\n",
      "torch.Size([8, 1, 128, 128])\n",
      "torch.Size([8, 1, 128, 128])\n",
      "torch.Size([8, 1, 128, 128])\n",
      "torch.Size([8, 1, 128, 128])\n",
      "torch.Size([8, 1, 128, 128])\n",
      "torch.Size([8, 1, 128, 128])\n"
     ]
    },
    {
     "name": "stderr",
     "output_type": "stream",
     "text": [
      "\r",
      "  7%|█████                                                                      | 10/150 [1:24:47<19:48:59, 509.57s/it]"
     ]
    },
    {
     "name": "stdout",
     "output_type": "stream",
     "text": [
      "torch.Size([1, 1, 128, 128])\n",
      "[INFO] EPOCH: 10/150\n",
      "Train loss: 0.539646, Validation loss: 0.4922\n",
      "torch.Size([8, 1, 128, 128])\n",
      "torch.Size([8, 1, 128, 128])\n",
      "torch.Size([8, 1, 128, 128])\n",
      "torch.Size([8, 1, 128, 128])\n",
      "torch.Size([8, 1, 128, 128])\n",
      "torch.Size([8, 1, 128, 128])\n",
      "torch.Size([8, 1, 128, 128])\n",
      "torch.Size([8, 1, 128, 128])\n",
      "torch.Size([8, 1, 128, 128])\n",
      "torch.Size([8, 1, 128, 128])\n"
     ]
    },
    {
     "name": "stderr",
     "output_type": "stream",
     "text": [
      "\r",
      "  7%|█████▌                                                                     | 11/150 [1:33:25<19:46:38, 512.22s/it]"
     ]
    },
    {
     "name": "stdout",
     "output_type": "stream",
     "text": [
      "torch.Size([1, 1, 128, 128])\n",
      "[INFO] EPOCH: 11/150\n",
      "Train loss: 0.533785, Validation loss: 0.4974\n",
      "torch.Size([8, 1, 128, 128])\n",
      "torch.Size([8, 1, 128, 128])\n",
      "torch.Size([8, 1, 128, 128])\n",
      "torch.Size([8, 1, 128, 128])\n",
      "torch.Size([8, 1, 128, 128])\n",
      "torch.Size([8, 1, 128, 128])\n",
      "torch.Size([8, 1, 128, 128])\n",
      "torch.Size([8, 1, 128, 128])\n",
      "torch.Size([8, 1, 128, 128])\n",
      "torch.Size([8, 1, 128, 128])\n"
     ]
    },
    {
     "name": "stderr",
     "output_type": "stream",
     "text": [
      "\r",
      "  8%|██████                                                                     | 12/150 [1:42:02<19:41:25, 513.66s/it]"
     ]
    },
    {
     "name": "stdout",
     "output_type": "stream",
     "text": [
      "torch.Size([1, 1, 128, 128])\n",
      "[INFO] EPOCH: 12/150\n",
      "Train loss: 0.527958, Validation loss: 0.5004\n",
      "torch.Size([8, 1, 128, 128])\n",
      "torch.Size([8, 1, 128, 128])\n",
      "torch.Size([8, 1, 128, 128])\n",
      "torch.Size([8, 1, 128, 128])\n",
      "torch.Size([8, 1, 128, 128])\n",
      "torch.Size([8, 1, 128, 128])\n",
      "torch.Size([8, 1, 128, 128])\n",
      "torch.Size([8, 1, 128, 128])\n",
      "torch.Size([8, 1, 128, 128])\n",
      "torch.Size([8, 1, 128, 128])\n"
     ]
    },
    {
     "name": "stderr",
     "output_type": "stream",
     "text": [
      "\r",
      "  9%|██████▌                                                                    | 13/150 [1:50:17<19:19:51, 507.97s/it]"
     ]
    },
    {
     "name": "stdout",
     "output_type": "stream",
     "text": [
      "torch.Size([1, 1, 128, 128])\n",
      "[INFO] EPOCH: 13/150\n",
      "Train loss: 0.530040, Validation loss: 0.4945\n",
      "torch.Size([8, 1, 128, 128])\n",
      "torch.Size([8, 1, 128, 128])\n",
      "torch.Size([8, 1, 128, 128])\n",
      "torch.Size([8, 1, 128, 128])\n",
      "torch.Size([8, 1, 128, 128])\n",
      "torch.Size([8, 1, 128, 128])\n",
      "torch.Size([8, 1, 128, 128])\n",
      "torch.Size([8, 1, 128, 128])\n",
      "torch.Size([8, 1, 128, 128])\n",
      "torch.Size([8, 1, 128, 128])\n"
     ]
    },
    {
     "name": "stderr",
     "output_type": "stream",
     "text": [
      "\r",
      "  9%|███████                                                                    | 14/150 [1:58:27<18:58:47, 502.41s/it]"
     ]
    },
    {
     "name": "stdout",
     "output_type": "stream",
     "text": [
      "torch.Size([1, 1, 128, 128])\n",
      "[INFO] EPOCH: 14/150\n",
      "Train loss: 0.526315, Validation loss: 0.5122\n",
      "torch.Size([8, 1, 128, 128])\n",
      "torch.Size([8, 1, 128, 128])\n",
      "torch.Size([8, 1, 128, 128])\n",
      "torch.Size([8, 1, 128, 128])\n",
      "torch.Size([8, 1, 128, 128])\n",
      "torch.Size([8, 1, 128, 128])\n",
      "torch.Size([8, 1, 128, 128])\n",
      "torch.Size([8, 1, 128, 128])\n",
      "torch.Size([8, 1, 128, 128])\n",
      "torch.Size([8, 1, 128, 128])\n"
     ]
    },
    {
     "name": "stderr",
     "output_type": "stream",
     "text": [
      "\r",
      " 10%|███████▌                                                                   | 15/150 [2:06:37<18:41:54, 498.62s/it]"
     ]
    },
    {
     "name": "stdout",
     "output_type": "stream",
     "text": [
      "torch.Size([1, 1, 128, 128])\n",
      "[INFO] EPOCH: 15/150\n",
      "Train loss: 0.531607, Validation loss: 0.4821\n",
      "torch.Size([8, 1, 128, 128])\n",
      "torch.Size([8, 1, 128, 128])\n",
      "torch.Size([8, 1, 128, 128])\n",
      "torch.Size([8, 1, 128, 128])\n",
      "torch.Size([8, 1, 128, 128])\n",
      "torch.Size([8, 1, 128, 128])\n",
      "torch.Size([8, 1, 128, 128])\n",
      "torch.Size([8, 1, 128, 128])\n",
      "torch.Size([8, 1, 128, 128])\n",
      "torch.Size([8, 1, 128, 128])\n"
     ]
    },
    {
     "name": "stderr",
     "output_type": "stream",
     "text": [
      "\r",
      " 11%|████████                                                                   | 16/150 [2:14:41<18:24:00, 494.33s/it]"
     ]
    },
    {
     "name": "stdout",
     "output_type": "stream",
     "text": [
      "torch.Size([1, 1, 128, 128])\n",
      "[INFO] EPOCH: 16/150\n",
      "Train loss: 0.531149, Validation loss: 0.5018\n",
      "torch.Size([8, 1, 128, 128])\n",
      "torch.Size([8, 1, 128, 128])\n",
      "torch.Size([8, 1, 128, 128])\n",
      "torch.Size([8, 1, 128, 128])\n",
      "torch.Size([8, 1, 128, 128])\n",
      "torch.Size([8, 1, 128, 128])\n",
      "torch.Size([8, 1, 128, 128])\n",
      "torch.Size([8, 1, 128, 128])\n",
      "torch.Size([8, 1, 128, 128])\n",
      "torch.Size([8, 1, 128, 128])\n"
     ]
    },
    {
     "name": "stderr",
     "output_type": "stream",
     "text": [
      "\r",
      " 11%|████████▌                                                                  | 17/150 [2:22:43<18:07:30, 490.60s/it]"
     ]
    },
    {
     "name": "stdout",
     "output_type": "stream",
     "text": [
      "torch.Size([1, 1, 128, 128])\n",
      "[INFO] EPOCH: 17/150\n",
      "Train loss: 0.531171, Validation loss: 0.4902\n",
      "torch.Size([8, 1, 128, 128])\n",
      "torch.Size([8, 1, 128, 128])\n",
      "torch.Size([8, 1, 128, 128])\n",
      "torch.Size([8, 1, 128, 128])\n",
      "torch.Size([8, 1, 128, 128])\n",
      "torch.Size([8, 1, 128, 128])\n",
      "torch.Size([8, 1, 128, 128])\n",
      "torch.Size([8, 1, 128, 128])\n",
      "torch.Size([8, 1, 128, 128])\n",
      "torch.Size([8, 1, 128, 128])\n"
     ]
    },
    {
     "name": "stderr",
     "output_type": "stream",
     "text": [
      "\r",
      " 12%|█████████                                                                  | 18/150 [2:30:46<17:53:58, 488.17s/it]"
     ]
    },
    {
     "name": "stdout",
     "output_type": "stream",
     "text": [
      "torch.Size([1, 1, 128, 128])\n",
      "[INFO] EPOCH: 18/150\n",
      "Train loss: 0.524491, Validation loss: 0.4938\n",
      "torch.Size([8, 1, 128, 128])\n",
      "torch.Size([8, 1, 128, 128])\n",
      "torch.Size([8, 1, 128, 128])\n",
      "torch.Size([8, 1, 128, 128])\n",
      "torch.Size([8, 1, 128, 128])\n",
      "torch.Size([8, 1, 128, 128])\n",
      "torch.Size([8, 1, 128, 128])\n",
      "torch.Size([8, 1, 128, 128])\n",
      "torch.Size([8, 1, 128, 128])\n",
      "torch.Size([8, 1, 128, 128])\n"
     ]
    },
    {
     "name": "stderr",
     "output_type": "stream",
     "text": [
      "\r",
      " 13%|█████████▌                                                                 | 19/150 [2:38:49<17:42:48, 486.79s/it]"
     ]
    },
    {
     "name": "stdout",
     "output_type": "stream",
     "text": [
      "torch.Size([1, 1, 128, 128])\n",
      "[INFO] EPOCH: 19/150\n",
      "Train loss: 0.519618, Validation loss: 0.4800\n",
      "torch.Size([8, 1, 128, 128])\n",
      "torch.Size([8, 1, 128, 128])\n",
      "torch.Size([8, 1, 128, 128])\n",
      "torch.Size([8, 1, 128, 128])\n",
      "torch.Size([8, 1, 128, 128])\n",
      "torch.Size([8, 1, 128, 128])\n",
      "torch.Size([8, 1, 128, 128])\n",
      "torch.Size([8, 1, 128, 128])\n",
      "torch.Size([8, 1, 128, 128])\n",
      "torch.Size([8, 1, 128, 128])\n"
     ]
    },
    {
     "name": "stderr",
     "output_type": "stream",
     "text": [
      "\r",
      " 13%|██████████                                                                 | 20/150 [2:46:54<17:33:39, 486.31s/it]"
     ]
    },
    {
     "name": "stdout",
     "output_type": "stream",
     "text": [
      "torch.Size([1, 1, 128, 128])\n",
      "[INFO] EPOCH: 20/150\n",
      "Train loss: 0.526796, Validation loss: 0.4851\n",
      "torch.Size([8, 1, 128, 128])\n",
      "torch.Size([8, 1, 128, 128])\n",
      "torch.Size([8, 1, 128, 128])\n",
      "torch.Size([8, 1, 128, 128])\n",
      "torch.Size([8, 1, 128, 128])\n",
      "torch.Size([8, 1, 128, 128])\n",
      "torch.Size([8, 1, 128, 128])\n",
      "torch.Size([8, 1, 128, 128])\n",
      "torch.Size([8, 1, 128, 128])\n",
      "torch.Size([8, 1, 128, 128])\n"
     ]
    },
    {
     "name": "stderr",
     "output_type": "stream",
     "text": [
      "\r",
      " 14%|██████████▌                                                                | 21/150 [2:54:55<17:21:45, 484.54s/it]"
     ]
    },
    {
     "name": "stdout",
     "output_type": "stream",
     "text": [
      "torch.Size([1, 1, 128, 128])\n",
      "[INFO] EPOCH: 21/150\n",
      "Train loss: 0.521587, Validation loss: 0.4869\n",
      "torch.Size([8, 1, 128, 128])\n",
      "torch.Size([8, 1, 128, 128])\n",
      "torch.Size([8, 1, 128, 128])\n",
      "torch.Size([8, 1, 128, 128])\n",
      "torch.Size([8, 1, 128, 128])\n",
      "torch.Size([8, 1, 128, 128])\n",
      "torch.Size([8, 1, 128, 128])\n",
      "torch.Size([8, 1, 128, 128])\n",
      "torch.Size([8, 1, 128, 128])\n",
      "torch.Size([8, 1, 128, 128])\n"
     ]
    },
    {
     "name": "stderr",
     "output_type": "stream",
     "text": [
      "\r",
      " 15%|███████████                                                                | 22/150 [3:03:07<17:18:38, 486.86s/it]"
     ]
    },
    {
     "name": "stdout",
     "output_type": "stream",
     "text": [
      "torch.Size([1, 1, 128, 128])\n",
      "[INFO] EPOCH: 22/150\n",
      "Train loss: 0.520293, Validation loss: 0.4849\n",
      "torch.Size([8, 1, 128, 128])\n",
      "torch.Size([8, 1, 128, 128])\n",
      "torch.Size([8, 1, 128, 128])\n",
      "torch.Size([8, 1, 128, 128])\n",
      "torch.Size([8, 1, 128, 128])\n",
      "torch.Size([8, 1, 128, 128])\n",
      "torch.Size([8, 1, 128, 128])\n",
      "torch.Size([8, 1, 128, 128])\n",
      "torch.Size([8, 1, 128, 128])\n",
      "torch.Size([8, 1, 128, 128])\n"
     ]
    },
    {
     "name": "stderr",
     "output_type": "stream",
     "text": [
      "\r",
      " 15%|███████████▌                                                               | 23/150 [3:11:12<17:09:35, 486.42s/it]"
     ]
    },
    {
     "name": "stdout",
     "output_type": "stream",
     "text": [
      "torch.Size([1, 1, 128, 128])\n",
      "[INFO] EPOCH: 23/150\n",
      "Train loss: 0.517020, Validation loss: 0.4853\n",
      "torch.Size([8, 1, 128, 128])\n",
      "torch.Size([8, 1, 128, 128])\n",
      "torch.Size([8, 1, 128, 128])\n",
      "torch.Size([8, 1, 128, 128])\n",
      "torch.Size([8, 1, 128, 128])\n",
      "torch.Size([8, 1, 128, 128])\n",
      "torch.Size([8, 1, 128, 128])\n",
      "torch.Size([8, 1, 128, 128])\n",
      "torch.Size([8, 1, 128, 128])\n",
      "torch.Size([8, 1, 128, 128])\n"
     ]
    },
    {
     "name": "stderr",
     "output_type": "stream",
     "text": [
      "\r",
      " 16%|████████████                                                               | 24/150 [3:19:18<17:01:16, 486.32s/it]"
     ]
    },
    {
     "name": "stdout",
     "output_type": "stream",
     "text": [
      "torch.Size([1, 1, 128, 128])\n",
      "[INFO] EPOCH: 24/150\n",
      "Train loss: 0.512528, Validation loss: 0.4712\n",
      "torch.Size([8, 1, 128, 128])\n",
      "torch.Size([8, 1, 128, 128])\n",
      "torch.Size([8, 1, 128, 128])\n",
      "torch.Size([8, 1, 128, 128])\n",
      "torch.Size([8, 1, 128, 128])\n",
      "torch.Size([8, 1, 128, 128])\n",
      "torch.Size([8, 1, 128, 128])\n",
      "torch.Size([8, 1, 128, 128])\n",
      "torch.Size([8, 1, 128, 128])\n",
      "torch.Size([8, 1, 128, 128])\n"
     ]
    },
    {
     "name": "stderr",
     "output_type": "stream",
     "text": [
      "\r",
      " 17%|████████████▌                                                              | 25/150 [3:27:27<16:54:24, 486.92s/it]"
     ]
    },
    {
     "name": "stdout",
     "output_type": "stream",
     "text": [
      "torch.Size([1, 1, 128, 128])\n",
      "[INFO] EPOCH: 25/150\n",
      "Train loss: 0.525704, Validation loss: 0.4927\n",
      "torch.Size([8, 1, 128, 128])\n",
      "torch.Size([8, 1, 128, 128])\n",
      "torch.Size([8, 1, 128, 128])\n",
      "torch.Size([8, 1, 128, 128])\n",
      "torch.Size([8, 1, 128, 128])\n",
      "torch.Size([8, 1, 128, 128])\n",
      "torch.Size([8, 1, 128, 128])\n",
      "torch.Size([8, 1, 128, 128])\n",
      "torch.Size([8, 1, 128, 128])\n",
      "torch.Size([8, 1, 128, 128])\n"
     ]
    },
    {
     "name": "stderr",
     "output_type": "stream",
     "text": [
      "\r",
      " 17%|█████████████                                                              | 26/150 [3:35:35<16:47:20, 487.42s/it]"
     ]
    },
    {
     "name": "stdout",
     "output_type": "stream",
     "text": [
      "torch.Size([1, 1, 128, 128])\n",
      "[INFO] EPOCH: 26/150\n",
      "Train loss: 0.517245, Validation loss: 0.4779\n",
      "torch.Size([8, 1, 128, 128])\n",
      "torch.Size([8, 1, 128, 128])\n",
      "torch.Size([8, 1, 128, 128])\n",
      "torch.Size([8, 1, 128, 128])\n",
      "torch.Size([8, 1, 128, 128])\n",
      "torch.Size([8, 1, 128, 128])\n",
      "torch.Size([8, 1, 128, 128])\n",
      "torch.Size([8, 1, 128, 128])\n",
      "torch.Size([8, 1, 128, 128])\n",
      "torch.Size([8, 1, 128, 128])\n"
     ]
    },
    {
     "name": "stderr",
     "output_type": "stream",
     "text": [
      "\r",
      " 18%|█████████████▌                                                             | 27/150 [3:43:42<16:38:32, 487.09s/it]"
     ]
    },
    {
     "name": "stdout",
     "output_type": "stream",
     "text": [
      "torch.Size([1, 1, 128, 128])\n",
      "[INFO] EPOCH: 27/150\n",
      "Train loss: 0.512551, Validation loss: 0.4817\n",
      "torch.Size([8, 1, 128, 128])\n",
      "torch.Size([8, 1, 128, 128])\n",
      "torch.Size([8, 1, 128, 128])\n",
      "torch.Size([8, 1, 128, 128])\n",
      "torch.Size([8, 1, 128, 128])\n",
      "torch.Size([8, 1, 128, 128])\n",
      "torch.Size([8, 1, 128, 128])\n",
      "torch.Size([8, 1, 128, 128])\n",
      "torch.Size([8, 1, 128, 128])\n",
      "torch.Size([8, 1, 128, 128])\n"
     ]
    },
    {
     "name": "stderr",
     "output_type": "stream",
     "text": [
      "\r",
      " 19%|██████████████                                                             | 28/150 [3:51:46<16:28:28, 486.14s/it]"
     ]
    },
    {
     "name": "stdout",
     "output_type": "stream",
     "text": [
      "torch.Size([1, 1, 128, 128])\n",
      "[INFO] EPOCH: 28/150\n",
      "Train loss: 0.508936, Validation loss: 0.4735\n",
      "torch.Size([8, 1, 128, 128])\n",
      "torch.Size([8, 1, 128, 128])\n",
      "torch.Size([8, 1, 128, 128])\n",
      "torch.Size([8, 1, 128, 128])\n",
      "torch.Size([8, 1, 128, 128])\n",
      "torch.Size([8, 1, 128, 128])\n",
      "torch.Size([8, 1, 128, 128])\n",
      "torch.Size([8, 1, 128, 128])\n",
      "torch.Size([8, 1, 128, 128])\n",
      "torch.Size([8, 1, 128, 128])\n"
     ]
    },
    {
     "name": "stderr",
     "output_type": "stream",
     "text": [
      "\r",
      " 19%|██████████████▌                                                            | 29/150 [4:00:15<16:34:18, 493.05s/it]"
     ]
    },
    {
     "name": "stdout",
     "output_type": "stream",
     "text": [
      "torch.Size([1, 1, 128, 128])\n",
      "[INFO] EPOCH: 29/150\n",
      "Train loss: 0.511506, Validation loss: 0.4727\n",
      "torch.Size([8, 1, 128, 128])\n",
      "torch.Size([8, 1, 128, 128])\n",
      "torch.Size([8, 1, 128, 128])\n",
      "torch.Size([8, 1, 128, 128])\n",
      "torch.Size([8, 1, 128, 128])\n",
      "torch.Size([8, 1, 128, 128])\n",
      "torch.Size([8, 1, 128, 128])\n",
      "torch.Size([8, 1, 128, 128])\n",
      "torch.Size([8, 1, 128, 128])\n",
      "torch.Size([8, 1, 128, 128])\n"
     ]
    },
    {
     "name": "stderr",
     "output_type": "stream",
     "text": [
      "\r",
      " 20%|███████████████                                                            | 30/150 [4:08:49<16:39:05, 499.55s/it]"
     ]
    },
    {
     "name": "stdout",
     "output_type": "stream",
     "text": [
      "torch.Size([1, 1, 128, 128])\n",
      "[INFO] EPOCH: 30/150\n",
      "Train loss: 0.508570, Validation loss: 0.4832\n",
      "torch.Size([8, 1, 128, 128])\n",
      "torch.Size([8, 1, 128, 128])\n",
      "torch.Size([8, 1, 128, 128])\n",
      "torch.Size([8, 1, 128, 128])\n",
      "torch.Size([8, 1, 128, 128])\n",
      "torch.Size([8, 1, 128, 128])\n",
      "torch.Size([8, 1, 128, 128])\n",
      "torch.Size([8, 1, 128, 128])\n",
      "torch.Size([8, 1, 128, 128])\n",
      "torch.Size([8, 1, 128, 128])\n"
     ]
    },
    {
     "name": "stderr",
     "output_type": "stream",
     "text": [
      "\r",
      " 21%|███████████████▌                                                           | 31/150 [4:22:23<19:37:33, 593.72s/it]"
     ]
    },
    {
     "name": "stdout",
     "output_type": "stream",
     "text": [
      "torch.Size([1, 1, 128, 128])\n",
      "[INFO] EPOCH: 31/150\n",
      "Train loss: 0.504820, Validation loss: 0.4692\n",
      "torch.Size([8, 1, 128, 128])\n",
      "torch.Size([8, 1, 128, 128])\n",
      "torch.Size([8, 1, 128, 128])\n",
      "torch.Size([8, 1, 128, 128])\n",
      "torch.Size([8, 1, 128, 128])\n",
      "torch.Size([8, 1, 128, 128])\n",
      "torch.Size([8, 1, 128, 128])\n",
      "torch.Size([8, 1, 128, 128])\n",
      "torch.Size([8, 1, 128, 128])\n",
      "torch.Size([8, 1, 128, 128])\n"
     ]
    },
    {
     "name": "stderr",
     "output_type": "stream",
     "text": [
      "\r",
      " 21%|████████████████                                                           | 32/150 [4:30:54<18:38:40, 568.81s/it]"
     ]
    },
    {
     "name": "stdout",
     "output_type": "stream",
     "text": [
      "torch.Size([1, 1, 128, 128])\n",
      "[INFO] EPOCH: 32/150\n",
      "Train loss: 0.503520, Validation loss: 0.4619\n",
      "torch.Size([8, 1, 128, 128])\n",
      "torch.Size([8, 1, 128, 128])\n",
      "torch.Size([8, 1, 128, 128])\n",
      "torch.Size([8, 1, 128, 128])\n",
      "torch.Size([8, 1, 128, 128])\n",
      "torch.Size([8, 1, 128, 128])\n",
      "torch.Size([8, 1, 128, 128])\n",
      "torch.Size([8, 1, 128, 128])\n",
      "torch.Size([8, 1, 128, 128])\n",
      "torch.Size([8, 1, 128, 128])\n",
      "torch.Size([1, 1, 128, 128])\n"
     ]
    },
    {
     "name": "stderr",
     "output_type": "stream",
     "text": [
      "\r",
      " 22%|████████████████▌                                                          | 33/150 [4:44:59<21:11:15, 651.93s/it]"
     ]
    },
    {
     "name": "stdout",
     "output_type": "stream",
     "text": [
      "[INFO] EPOCH: 33/150\n",
      "Train loss: 0.504112, Validation loss: 0.4719\n",
      "torch.Size([8, 1, 128, 128])\n",
      "torch.Size([8, 1, 128, 128])\n",
      "torch.Size([8, 1, 128, 128])\n",
      "torch.Size([8, 1, 128, 128])\n",
      "torch.Size([8, 1, 128, 128])\n",
      "torch.Size([8, 1, 128, 128])\n",
      "torch.Size([8, 1, 128, 128])\n",
      "torch.Size([8, 1, 128, 128])\n",
      "torch.Size([8, 1, 128, 128])\n",
      "torch.Size([8, 1, 128, 128])\n"
     ]
    },
    {
     "name": "stderr",
     "output_type": "stream",
     "text": [
      "\r",
      " 23%|█████████████████                                                          | 34/150 [4:54:01<19:56:12, 618.73s/it]"
     ]
    },
    {
     "name": "stdout",
     "output_type": "stream",
     "text": [
      "torch.Size([1, 1, 128, 128])\n",
      "[INFO] EPOCH: 34/150\n",
      "Train loss: 0.503827, Validation loss: 0.4681\n",
      "torch.Size([8, 1, 128, 128])\n",
      "torch.Size([8, 1, 128, 128])\n",
      "torch.Size([8, 1, 128, 128])\n",
      "torch.Size([8, 1, 128, 128])\n",
      "torch.Size([8, 1, 128, 128])\n",
      "torch.Size([8, 1, 128, 128])\n",
      "torch.Size([8, 1, 128, 128])\n",
      "torch.Size([8, 1, 128, 128])\n",
      "torch.Size([8, 1, 128, 128])\n",
      "torch.Size([8, 1, 128, 128])\n",
      "torch.Size([1, 1, 128, 128])\n"
     ]
    },
    {
     "name": "stderr",
     "output_type": "stream",
     "text": [
      "\r",
      " 23%|█████████████████▌                                                         | 35/150 [5:11:51<24:05:20, 754.09s/it]"
     ]
    },
    {
     "name": "stdout",
     "output_type": "stream",
     "text": [
      "[INFO] EPOCH: 35/150\n",
      "Train loss: 0.506088, Validation loss: 0.4911\n",
      "torch.Size([8, 1, 128, 128])\n",
      "torch.Size([8, 1, 128, 128])\n",
      "torch.Size([8, 1, 128, 128])\n",
      "torch.Size([8, 1, 128, 128])\n",
      "torch.Size([8, 1, 128, 128])\n",
      "torch.Size([8, 1, 128, 128])\n",
      "torch.Size([8, 1, 128, 128])\n",
      "torch.Size([8, 1, 128, 128])\n",
      "torch.Size([8, 1, 128, 128])\n",
      "torch.Size([8, 1, 128, 128])\n",
      "torch.Size([1, 1, 128, 128])\n"
     ]
    },
    {
     "name": "stderr",
     "output_type": "stream",
     "text": [
      "\r",
      " 24%|██████████████████                                                         | 36/150 [5:31:58<28:11:05, 890.05s/it]"
     ]
    },
    {
     "name": "stdout",
     "output_type": "stream",
     "text": [
      "[INFO] EPOCH: 36/150\n",
      "Train loss: 0.500118, Validation loss: 0.4676\n",
      "torch.Size([8, 1, 128, 128])\n",
      "torch.Size([8, 1, 128, 128])\n",
      "torch.Size([8, 1, 128, 128])\n",
      "torch.Size([8, 1, 128, 128])\n",
      "torch.Size([8, 1, 128, 128])\n",
      "torch.Size([8, 1, 128, 128])\n",
      "torch.Size([8, 1, 128, 128])\n",
      "torch.Size([8, 1, 128, 128])\n",
      "torch.Size([8, 1, 128, 128])\n",
      "torch.Size([8, 1, 128, 128])\n",
      "torch.Size([1, 1, 128, 128])\n"
     ]
    },
    {
     "name": "stderr",
     "output_type": "stream",
     "text": [
      "\r",
      " 25%|██████████████████▌                                                        | 37/150 [5:52:08<30:57:09, 986.10s/it]"
     ]
    },
    {
     "name": "stdout",
     "output_type": "stream",
     "text": [
      "[INFO] EPOCH: 37/150\n",
      "Train loss: 0.496956, Validation loss: 0.4675\n",
      "torch.Size([8, 1, 128, 128])\n",
      "torch.Size([8, 1, 128, 128])\n",
      "torch.Size([8, 1, 128, 128])\n",
      "torch.Size([8, 1, 128, 128])\n",
      "torch.Size([8, 1, 128, 128])\n",
      "torch.Size([8, 1, 128, 128])\n",
      "torch.Size([8, 1, 128, 128])\n",
      "torch.Size([8, 1, 128, 128])\n",
      "torch.Size([8, 1, 128, 128])\n",
      "torch.Size([8, 1, 128, 128])\n"
     ]
    },
    {
     "name": "stderr",
     "output_type": "stream",
     "text": [
      "\r",
      " 25%|███████████████████                                                        | 38/150 [6:09:14<31:02:59, 998.03s/it]"
     ]
    },
    {
     "name": "stdout",
     "output_type": "stream",
     "text": [
      "torch.Size([1, 1, 128, 128])\n",
      "[INFO] EPOCH: 38/150\n",
      "Train loss: 0.497644, Validation loss: 0.4964\n",
      "torch.Size([8, 1, 128, 128])\n",
      "torch.Size([8, 1, 128, 128])\n",
      "torch.Size([8, 1, 128, 128])\n",
      "torch.Size([8, 1, 128, 128])\n",
      "torch.Size([8, 1, 128, 128])\n",
      "torch.Size([8, 1, 128, 128])\n",
      "torch.Size([8, 1, 128, 128])\n",
      "torch.Size([8, 1, 128, 128])\n",
      "torch.Size([8, 1, 128, 128])\n",
      "torch.Size([8, 1, 128, 128])\n"
     ]
    },
    {
     "name": "stderr",
     "output_type": "stream",
     "text": [
      "\r",
      " 26%|███████████████████▌                                                       | 39/150 [6:20:02<27:31:55, 892.94s/it]"
     ]
    },
    {
     "name": "stdout",
     "output_type": "stream",
     "text": [
      "torch.Size([1, 1, 128, 128])\n",
      "[INFO] EPOCH: 39/150\n",
      "Train loss: 0.503069, Validation loss: 0.4739\n",
      "torch.Size([8, 1, 128, 128])\n",
      "torch.Size([8, 1, 128, 128])\n",
      "torch.Size([8, 1, 128, 128])\n",
      "torch.Size([8, 1, 128, 128])\n",
      "torch.Size([8, 1, 128, 128])\n",
      "torch.Size([8, 1, 128, 128])\n",
      "torch.Size([8, 1, 128, 128])\n",
      "torch.Size([8, 1, 128, 128])\n",
      "torch.Size([8, 1, 128, 128])\n",
      "torch.Size([8, 1, 128, 128])\n"
     ]
    },
    {
     "name": "stderr",
     "output_type": "stream",
     "text": [
      "\r",
      " 27%|████████████████████                                                       | 40/150 [6:28:19<23:39:28, 774.25s/it]"
     ]
    },
    {
     "name": "stdout",
     "output_type": "stream",
     "text": [
      "torch.Size([1, 1, 128, 128])\n",
      "[INFO] EPOCH: 40/150\n",
      "Train loss: 0.496127, Validation loss: 0.4561\n",
      "torch.Size([8, 1, 128, 128])\n",
      "torch.Size([8, 1, 128, 128])\n",
      "torch.Size([8, 1, 128, 128])\n",
      "torch.Size([8, 1, 128, 128])\n",
      "torch.Size([8, 1, 128, 128])\n",
      "torch.Size([8, 1, 128, 128])\n",
      "torch.Size([8, 1, 128, 128])\n",
      "torch.Size([8, 1, 128, 128])\n",
      "torch.Size([8, 1, 128, 128])\n",
      "torch.Size([8, 1, 128, 128])\n"
     ]
    },
    {
     "name": "stderr",
     "output_type": "stream",
     "text": [
      "\r",
      " 27%|████████████████████▌                                                      | 41/150 [6:36:37<20:55:42, 691.21s/it]"
     ]
    },
    {
     "name": "stdout",
     "output_type": "stream",
     "text": [
      "torch.Size([1, 1, 128, 128])\n",
      "[INFO] EPOCH: 41/150\n",
      "Train loss: 0.499538, Validation loss: 0.4669\n",
      "torch.Size([8, 1, 128, 128])\n",
      "torch.Size([8, 1, 128, 128])\n",
      "torch.Size([8, 1, 128, 128])\n",
      "torch.Size([8, 1, 128, 128])\n",
      "torch.Size([8, 1, 128, 128])\n",
      "torch.Size([8, 1, 128, 128])\n",
      "torch.Size([8, 1, 128, 128])\n",
      "torch.Size([8, 1, 128, 128])\n",
      "torch.Size([8, 1, 128, 128])\n",
      "torch.Size([8, 1, 128, 128])\n"
     ]
    },
    {
     "name": "stderr",
     "output_type": "stream",
     "text": [
      "\r",
      " 28%|█████████████████████                                                      | 42/150 [6:44:56<19:00:25, 633.57s/it]"
     ]
    },
    {
     "name": "stdout",
     "output_type": "stream",
     "text": [
      "torch.Size([1, 1, 128, 128])\n",
      "[INFO] EPOCH: 42/150\n",
      "Train loss: 0.491902, Validation loss: 0.4514\n",
      "torch.Size([8, 1, 128, 128])\n",
      "torch.Size([8, 1, 128, 128])\n",
      "torch.Size([8, 1, 128, 128])\n",
      "torch.Size([8, 1, 128, 128])\n",
      "torch.Size([8, 1, 128, 128])\n",
      "torch.Size([8, 1, 128, 128])\n",
      "torch.Size([8, 1, 128, 128])\n",
      "torch.Size([8, 1, 128, 128])\n",
      "torch.Size([8, 1, 128, 128])\n",
      "torch.Size([8, 1, 128, 128])\n"
     ]
    },
    {
     "name": "stderr",
     "output_type": "stream",
     "text": [
      "\r",
      " 29%|█████████████████████▌                                                     | 43/150 [6:53:15<17:38:13, 593.40s/it]"
     ]
    },
    {
     "name": "stdout",
     "output_type": "stream",
     "text": [
      "torch.Size([1, 1, 128, 128])\n",
      "[INFO] EPOCH: 43/150\n",
      "Train loss: 0.493403, Validation loss: 0.4802\n",
      "torch.Size([8, 1, 128, 128])\n",
      "torch.Size([8, 1, 128, 128])\n",
      "torch.Size([8, 1, 128, 128])\n",
      "torch.Size([8, 1, 128, 128])\n",
      "torch.Size([8, 1, 128, 128])\n",
      "torch.Size([8, 1, 128, 128])\n",
      "torch.Size([8, 1, 128, 128])\n",
      "torch.Size([8, 1, 128, 128])\n",
      "torch.Size([8, 1, 128, 128])\n",
      "torch.Size([8, 1, 128, 128])\n"
     ]
    },
    {
     "name": "stderr",
     "output_type": "stream",
     "text": [
      "\r",
      " 29%|██████████████████████                                                     | 44/150 [7:01:38<16:40:12, 566.16s/it]"
     ]
    },
    {
     "name": "stdout",
     "output_type": "stream",
     "text": [
      "torch.Size([1, 1, 128, 128])\n",
      "[INFO] EPOCH: 44/150\n",
      "Train loss: 0.494471, Validation loss: 0.4812\n",
      "torch.Size([8, 1, 128, 128])\n",
      "torch.Size([8, 1, 128, 128])\n",
      "torch.Size([8, 1, 128, 128])\n",
      "torch.Size([8, 1, 128, 128])\n",
      "torch.Size([8, 1, 128, 128])\n",
      "torch.Size([8, 1, 128, 128])\n",
      "torch.Size([8, 1, 128, 128])\n",
      "torch.Size([8, 1, 128, 128])\n",
      "torch.Size([8, 1, 128, 128])\n",
      "torch.Size([8, 1, 128, 128])\n"
     ]
    },
    {
     "name": "stderr",
     "output_type": "stream",
     "text": [
      "\r",
      " 30%|██████████████████████▌                                                    | 45/150 [7:09:59<15:56:34, 546.61s/it]"
     ]
    },
    {
     "name": "stdout",
     "output_type": "stream",
     "text": [
      "torch.Size([1, 1, 128, 128])\n",
      "[INFO] EPOCH: 45/150\n",
      "Train loss: 0.494319, Validation loss: 0.4604\n",
      "torch.Size([8, 1, 128, 128])\n",
      "torch.Size([8, 1, 128, 128])\n",
      "torch.Size([8, 1, 128, 128])\n",
      "torch.Size([8, 1, 128, 128])\n",
      "torch.Size([8, 1, 128, 128])\n",
      "torch.Size([8, 1, 128, 128])\n",
      "torch.Size([8, 1, 128, 128])\n",
      "torch.Size([8, 1, 128, 128])\n",
      "torch.Size([8, 1, 128, 128])\n",
      "torch.Size([8, 1, 128, 128])\n"
     ]
    },
    {
     "name": "stderr",
     "output_type": "stream",
     "text": [
      "\r",
      " 31%|███████████████████████                                                    | 46/150 [7:18:21<15:24:06, 533.14s/it]"
     ]
    },
    {
     "name": "stdout",
     "output_type": "stream",
     "text": [
      "torch.Size([1, 1, 128, 128])\n",
      "[INFO] EPOCH: 46/150\n",
      "Train loss: 0.490522, Validation loss: 0.4834\n",
      "torch.Size([8, 1, 128, 128])\n",
      "torch.Size([8, 1, 128, 128])\n",
      "torch.Size([8, 1, 128, 128])\n",
      "torch.Size([8, 1, 128, 128])\n",
      "torch.Size([8, 1, 128, 128])\n",
      "torch.Size([8, 1, 128, 128])\n",
      "torch.Size([8, 1, 128, 128])\n",
      "torch.Size([8, 1, 128, 128])\n",
      "torch.Size([8, 1, 128, 128])\n",
      "torch.Size([8, 1, 128, 128])\n"
     ]
    },
    {
     "name": "stderr",
     "output_type": "stream",
     "text": [
      "\r",
      " 31%|███████████████████████▌                                                   | 47/150 [7:26:45<15:00:25, 524.52s/it]"
     ]
    },
    {
     "name": "stdout",
     "output_type": "stream",
     "text": [
      "torch.Size([1, 1, 128, 128])\n",
      "[INFO] EPOCH: 47/150\n",
      "Train loss: 0.488610, Validation loss: 0.4740\n",
      "torch.Size([8, 1, 128, 128])\n",
      "torch.Size([8, 1, 128, 128])\n",
      "torch.Size([8, 1, 128, 128])\n",
      "torch.Size([8, 1, 128, 128])\n",
      "torch.Size([8, 1, 128, 128])\n",
      "torch.Size([8, 1, 128, 128])\n",
      "torch.Size([8, 1, 128, 128])\n",
      "torch.Size([8, 1, 128, 128])\n",
      "torch.Size([8, 1, 128, 128])\n",
      "torch.Size([8, 1, 128, 128])\n"
     ]
    },
    {
     "name": "stderr",
     "output_type": "stream",
     "text": [
      "\r",
      " 32%|████████████████████████                                                   | 48/150 [7:35:10<14:41:31, 518.54s/it]"
     ]
    },
    {
     "name": "stdout",
     "output_type": "stream",
     "text": [
      "torch.Size([1, 1, 128, 128])\n",
      "[INFO] EPOCH: 48/150\n",
      "Train loss: 0.489732, Validation loss: 0.4772\n",
      "torch.Size([8, 1, 128, 128])\n",
      "torch.Size([8, 1, 128, 128])\n",
      "torch.Size([8, 1, 128, 128])\n",
      "torch.Size([8, 1, 128, 128])\n",
      "torch.Size([8, 1, 128, 128])\n",
      "torch.Size([8, 1, 128, 128])\n",
      "torch.Size([8, 1, 128, 128])\n",
      "torch.Size([8, 1, 128, 128])\n",
      "torch.Size([8, 1, 128, 128])\n",
      "torch.Size([8, 1, 128, 128])\n"
     ]
    },
    {
     "name": "stderr",
     "output_type": "stream",
     "text": [
      "\r",
      " 33%|████████████████████████▌                                                  | 49/150 [7:43:34<14:25:30, 514.17s/it]"
     ]
    },
    {
     "name": "stdout",
     "output_type": "stream",
     "text": [
      "torch.Size([1, 1, 128, 128])\n",
      "[INFO] EPOCH: 49/150\n",
      "Train loss: 0.495399, Validation loss: 0.4591\n",
      "torch.Size([8, 1, 128, 128])\n",
      "torch.Size([8, 1, 128, 128])\n",
      "torch.Size([8, 1, 128, 128])\n",
      "torch.Size([8, 1, 128, 128])\n",
      "torch.Size([8, 1, 128, 128])\n",
      "torch.Size([8, 1, 128, 128])\n",
      "torch.Size([8, 1, 128, 128])\n",
      "torch.Size([8, 1, 128, 128])\n",
      "torch.Size([8, 1, 128, 128])\n",
      "torch.Size([8, 1, 128, 128])\n"
     ]
    },
    {
     "name": "stderr",
     "output_type": "stream",
     "text": [
      "\r",
      " 33%|█████████████████████████                                                  | 50/150 [7:52:01<14:13:22, 512.03s/it]"
     ]
    },
    {
     "name": "stdout",
     "output_type": "stream",
     "text": [
      "torch.Size([1, 1, 128, 128])\n",
      "[INFO] EPOCH: 50/150\n",
      "Train loss: 0.483925, Validation loss: 0.4621\n",
      "torch.Size([8, 1, 128, 128])\n",
      "torch.Size([8, 1, 128, 128])\n",
      "torch.Size([8, 1, 128, 128])\n",
      "torch.Size([8, 1, 128, 128])\n",
      "torch.Size([8, 1, 128, 128])\n",
      "torch.Size([8, 1, 128, 128])\n",
      "torch.Size([8, 1, 128, 128])\n",
      "torch.Size([8, 1, 128, 128])\n",
      "torch.Size([8, 1, 128, 128])\n",
      "torch.Size([8, 1, 128, 128])\n"
     ]
    },
    {
     "name": "stderr",
     "output_type": "stream",
     "text": [
      "\r",
      " 34%|█████████████████████████▌                                                 | 51/150 [8:00:46<14:11:14, 515.91s/it]"
     ]
    },
    {
     "name": "stdout",
     "output_type": "stream",
     "text": [
      "torch.Size([1, 1, 128, 128])\n",
      "[INFO] EPOCH: 51/150\n",
      "Train loss: 0.490279, Validation loss: 0.4713\n",
      "torch.Size([8, 1, 128, 128])\n",
      "torch.Size([8, 1, 128, 128])\n",
      "torch.Size([8, 1, 128, 128])\n",
      "torch.Size([8, 1, 128, 128])\n",
      "torch.Size([8, 1, 128, 128])\n",
      "torch.Size([8, 1, 128, 128])\n",
      "torch.Size([8, 1, 128, 128])\n",
      "torch.Size([8, 1, 128, 128])\n",
      "torch.Size([8, 1, 128, 128])\n",
      "torch.Size([8, 1, 128, 128])\n"
     ]
    },
    {
     "name": "stderr",
     "output_type": "stream",
     "text": [
      "\r",
      " 35%|██████████████████████████                                                 | 52/150 [8:09:16<14:00:06, 514.36s/it]"
     ]
    },
    {
     "name": "stdout",
     "output_type": "stream",
     "text": [
      "torch.Size([1, 1, 128, 128])\n",
      "[INFO] EPOCH: 52/150\n",
      "Train loss: 0.481590, Validation loss: 0.4634\n",
      "torch.Size([8, 1, 128, 128])\n",
      "torch.Size([8, 1, 128, 128])\n",
      "torch.Size([8, 1, 128, 128])\n",
      "torch.Size([8, 1, 128, 128])\n",
      "torch.Size([8, 1, 128, 128])\n",
      "torch.Size([8, 1, 128, 128])\n",
      "torch.Size([8, 1, 128, 128])\n",
      "torch.Size([8, 1, 128, 128])\n",
      "torch.Size([8, 1, 128, 128])\n",
      "torch.Size([8, 1, 128, 128])\n"
     ]
    },
    {
     "name": "stderr",
     "output_type": "stream",
     "text": [
      "\r",
      " 35%|██████████████████████████▌                                                | 53/150 [8:17:44<13:48:05, 512.22s/it]"
     ]
    },
    {
     "name": "stdout",
     "output_type": "stream",
     "text": [
      "torch.Size([1, 1, 128, 128])\n",
      "[INFO] EPOCH: 53/150\n",
      "Train loss: 0.482263, Validation loss: 0.4449\n",
      "torch.Size([8, 1, 128, 128])\n",
      "torch.Size([8, 1, 128, 128])\n",
      "torch.Size([8, 1, 128, 128])\n",
      "torch.Size([8, 1, 128, 128])\n",
      "torch.Size([8, 1, 128, 128])\n",
      "torch.Size([8, 1, 128, 128])\n",
      "torch.Size([8, 1, 128, 128])\n",
      "torch.Size([8, 1, 128, 128])\n",
      "torch.Size([8, 1, 128, 128])\n",
      "torch.Size([8, 1, 128, 128])\n"
     ]
    },
    {
     "name": "stderr",
     "output_type": "stream",
     "text": [
      "\r",
      " 36%|███████████████████████████                                                | 54/150 [8:26:06<13:34:38, 509.15s/it]"
     ]
    },
    {
     "name": "stdout",
     "output_type": "stream",
     "text": [
      "torch.Size([1, 1, 128, 128])\n",
      "[INFO] EPOCH: 54/150\n",
      "Train loss: 0.479934, Validation loss: 0.4420\n",
      "torch.Size([8, 1, 128, 128])\n",
      "torch.Size([8, 1, 128, 128])\n",
      "torch.Size([8, 1, 128, 128])\n",
      "torch.Size([8, 1, 128, 128])\n",
      "torch.Size([8, 1, 128, 128])\n",
      "torch.Size([8, 1, 128, 128])\n",
      "torch.Size([8, 1, 128, 128])\n",
      "torch.Size([8, 1, 128, 128])\n",
      "torch.Size([8, 1, 128, 128])\n",
      "torch.Size([8, 1, 128, 128])\n"
     ]
    },
    {
     "name": "stderr",
     "output_type": "stream",
     "text": [
      "\r",
      " 37%|███████████████████████████▍                                               | 55/150 [8:34:34<13:25:42, 508.87s/it]"
     ]
    },
    {
     "name": "stdout",
     "output_type": "stream",
     "text": [
      "torch.Size([1, 1, 128, 128])\n",
      "[INFO] EPOCH: 55/150\n",
      "Train loss: 0.478269, Validation loss: 0.4605\n",
      "torch.Size([8, 1, 128, 128])\n",
      "torch.Size([8, 1, 128, 128])\n",
      "torch.Size([8, 1, 128, 128])\n",
      "torch.Size([8, 1, 128, 128])\n",
      "torch.Size([8, 1, 128, 128])\n",
      "torch.Size([8, 1, 128, 128])\n",
      "torch.Size([8, 1, 128, 128])\n",
      "torch.Size([8, 1, 128, 128])\n",
      "torch.Size([8, 1, 128, 128])\n",
      "torch.Size([8, 1, 128, 128])\n"
     ]
    },
    {
     "name": "stderr",
     "output_type": "stream",
     "text": [
      "\r",
      " 37%|████████████████████████████                                               | 56/150 [8:43:32<13:30:54, 517.60s/it]"
     ]
    },
    {
     "name": "stdout",
     "output_type": "stream",
     "text": [
      "torch.Size([1, 1, 128, 128])\n",
      "[INFO] EPOCH: 56/150\n",
      "Train loss: 0.486489, Validation loss: 0.4409\n",
      "torch.Size([8, 1, 128, 128])\n",
      "torch.Size([8, 1, 128, 128])\n",
      "torch.Size([8, 1, 128, 128])\n",
      "torch.Size([8, 1, 128, 128])\n",
      "torch.Size([8, 1, 128, 128])\n",
      "torch.Size([8, 1, 128, 128])\n",
      "torch.Size([8, 1, 128, 128])\n",
      "torch.Size([8, 1, 128, 128])\n",
      "torch.Size([8, 1, 128, 128])\n",
      "torch.Size([8, 1, 128, 128])\n"
     ]
    },
    {
     "name": "stderr",
     "output_type": "stream",
     "text": [
      "\r",
      " 38%|████████████████████████████▌                                              | 57/150 [8:52:12<13:23:27, 518.36s/it]"
     ]
    },
    {
     "name": "stdout",
     "output_type": "stream",
     "text": [
      "torch.Size([1, 1, 128, 128])\n",
      "[INFO] EPOCH: 57/150\n",
      "Train loss: 0.473486, Validation loss: 0.4427\n",
      "torch.Size([8, 1, 128, 128])\n",
      "torch.Size([8, 1, 128, 128])\n",
      "torch.Size([8, 1, 128, 128])\n",
      "torch.Size([8, 1, 128, 128])\n",
      "torch.Size([8, 1, 128, 128])\n",
      "torch.Size([8, 1, 128, 128])\n",
      "torch.Size([8, 1, 128, 128])\n",
      "torch.Size([8, 1, 128, 128])\n",
      "torch.Size([8, 1, 128, 128])\n",
      "torch.Size([8, 1, 128, 128])\n"
     ]
    },
    {
     "name": "stderr",
     "output_type": "stream",
     "text": [
      "\r",
      " 39%|█████████████████████████████                                              | 58/150 [9:00:44<13:12:08, 516.61s/it]"
     ]
    },
    {
     "name": "stdout",
     "output_type": "stream",
     "text": [
      "torch.Size([1, 1, 128, 128])\n",
      "[INFO] EPOCH: 58/150\n",
      "Train loss: 0.472092, Validation loss: 0.4390\n",
      "torch.Size([8, 1, 128, 128])\n",
      "torch.Size([8, 1, 128, 128])\n",
      "torch.Size([8, 1, 128, 128])\n",
      "torch.Size([8, 1, 128, 128])\n",
      "torch.Size([8, 1, 128, 128])\n",
      "torch.Size([8, 1, 128, 128])\n",
      "torch.Size([8, 1, 128, 128])\n",
      "torch.Size([8, 1, 128, 128])\n",
      "torch.Size([8, 1, 128, 128])\n",
      "torch.Size([8, 1, 128, 128])\n"
     ]
    },
    {
     "name": "stderr",
     "output_type": "stream",
     "text": [
      "\r",
      " 39%|█████████████████████████████▌                                             | 59/150 [9:09:36<13:10:23, 521.13s/it]"
     ]
    },
    {
     "name": "stdout",
     "output_type": "stream",
     "text": [
      "torch.Size([1, 1, 128, 128])\n",
      "[INFO] EPOCH: 59/150\n",
      "Train loss: 0.479161, Validation loss: 0.4360\n",
      "torch.Size([8, 1, 128, 128])\n",
      "torch.Size([8, 1, 128, 128])\n",
      "torch.Size([8, 1, 128, 128])\n",
      "torch.Size([8, 1, 128, 128])\n",
      "torch.Size([8, 1, 128, 128])\n",
      "torch.Size([8, 1, 128, 128])\n",
      "torch.Size([8, 1, 128, 128])\n",
      "torch.Size([8, 1, 128, 128])\n",
      "torch.Size([8, 1, 128, 128])\n",
      "torch.Size([8, 1, 128, 128])\n"
     ]
    },
    {
     "name": "stderr",
     "output_type": "stream",
     "text": [
      "\r",
      " 40%|██████████████████████████████                                             | 60/150 [9:18:21<13:03:31, 522.35s/it]"
     ]
    },
    {
     "name": "stdout",
     "output_type": "stream",
     "text": [
      "torch.Size([1, 1, 128, 128])\n",
      "[INFO] EPOCH: 60/150\n",
      "Train loss: 0.470675, Validation loss: 0.4327\n",
      "torch.Size([8, 1, 128, 128])\n",
      "torch.Size([8, 1, 128, 128])\n",
      "torch.Size([8, 1, 128, 128])\n",
      "torch.Size([8, 1, 128, 128])\n",
      "torch.Size([8, 1, 128, 128])\n",
      "torch.Size([8, 1, 128, 128])\n",
      "torch.Size([8, 1, 128, 128])\n",
      "torch.Size([8, 1, 128, 128])\n",
      "torch.Size([8, 1, 128, 128])\n",
      "torch.Size([8, 1, 128, 128])\n"
     ]
    },
    {
     "name": "stderr",
     "output_type": "stream",
     "text": [
      "\r",
      " 41%|██████████████████████████████▌                                            | 61/150 [9:27:08<12:56:52, 523.74s/it]"
     ]
    },
    {
     "name": "stdout",
     "output_type": "stream",
     "text": [
      "torch.Size([1, 1, 128, 128])\n",
      "[INFO] EPOCH: 61/150\n",
      "Train loss: 0.474565, Validation loss: 0.4554\n",
      "torch.Size([8, 1, 128, 128])\n",
      "torch.Size([8, 1, 128, 128])\n",
      "torch.Size([8, 1, 128, 128])\n",
      "torch.Size([8, 1, 128, 128])\n",
      "torch.Size([8, 1, 128, 128])\n",
      "torch.Size([8, 1, 128, 128])\n",
      "torch.Size([8, 1, 128, 128])\n",
      "torch.Size([8, 1, 128, 128])\n",
      "torch.Size([8, 1, 128, 128])\n",
      "torch.Size([8, 1, 128, 128])\n"
     ]
    },
    {
     "name": "stderr",
     "output_type": "stream",
     "text": [
      "\r",
      " 41%|███████████████████████████████                                            | 62/150 [9:35:44<12:44:40, 521.37s/it]"
     ]
    },
    {
     "name": "stdout",
     "output_type": "stream",
     "text": [
      "torch.Size([1, 1, 128, 128])\n",
      "[INFO] EPOCH: 62/150\n",
      "Train loss: 0.473069, Validation loss: 0.4447\n",
      "torch.Size([8, 1, 128, 128])\n",
      "torch.Size([8, 1, 128, 128])\n",
      "torch.Size([8, 1, 128, 128])\n",
      "torch.Size([8, 1, 128, 128])\n",
      "torch.Size([8, 1, 128, 128])\n",
      "torch.Size([8, 1, 128, 128])\n",
      "torch.Size([8, 1, 128, 128])\n",
      "torch.Size([8, 1, 128, 128])\n",
      "torch.Size([8, 1, 128, 128])\n",
      "torch.Size([8, 1, 128, 128])\n"
     ]
    },
    {
     "name": "stderr",
     "output_type": "stream",
     "text": [
      "\r",
      " 42%|███████████████████████████████▌                                           | 63/150 [9:44:12<12:30:17, 517.44s/it]"
     ]
    },
    {
     "name": "stdout",
     "output_type": "stream",
     "text": [
      "torch.Size([1, 1, 128, 128])\n",
      "[INFO] EPOCH: 63/150\n",
      "Train loss: 0.469063, Validation loss: 0.4429\n",
      "torch.Size([8, 1, 128, 128])\n",
      "torch.Size([8, 1, 128, 128])\n",
      "torch.Size([8, 1, 128, 128])\n",
      "torch.Size([8, 1, 128, 128])\n",
      "torch.Size([8, 1, 128, 128])\n",
      "torch.Size([8, 1, 128, 128])\n",
      "torch.Size([8, 1, 128, 128])\n",
      "torch.Size([8, 1, 128, 128])\n",
      "torch.Size([8, 1, 128, 128])\n",
      "torch.Size([8, 1, 128, 128])\n"
     ]
    },
    {
     "name": "stderr",
     "output_type": "stream",
     "text": [
      "\r",
      " 43%|████████████████████████████████                                           | 64/150 [9:52:52<12:22:39, 518.13s/it]"
     ]
    },
    {
     "name": "stdout",
     "output_type": "stream",
     "text": [
      "torch.Size([1, 1, 128, 128])\n",
      "[INFO] EPOCH: 64/150\n",
      "Train loss: 0.474058, Validation loss: 0.4419\n",
      "torch.Size([8, 1, 128, 128])\n",
      "torch.Size([8, 1, 128, 128])\n",
      "torch.Size([8, 1, 128, 128])\n",
      "torch.Size([8, 1, 128, 128])\n",
      "torch.Size([8, 1, 128, 128])\n",
      "torch.Size([8, 1, 128, 128])\n",
      "torch.Size([8, 1, 128, 128])\n",
      "torch.Size([8, 1, 128, 128])\n",
      "torch.Size([8, 1, 128, 128])\n",
      "torch.Size([8, 1, 128, 128])\n"
     ]
    },
    {
     "name": "stderr",
     "output_type": "stream",
     "text": [
      "\r",
      " 43%|████████████████████████████████                                          | 65/150 [10:01:42<12:19:12, 521.79s/it]"
     ]
    },
    {
     "name": "stdout",
     "output_type": "stream",
     "text": [
      "torch.Size([1, 1, 128, 128])\n",
      "[INFO] EPOCH: 65/150\n",
      "Train loss: 0.469120, Validation loss: 0.4521\n",
      "torch.Size([8, 1, 128, 128])\n",
      "torch.Size([8, 1, 128, 128])\n",
      "torch.Size([8, 1, 128, 128])\n",
      "torch.Size([8, 1, 128, 128])\n",
      "torch.Size([8, 1, 128, 128])\n",
      "torch.Size([8, 1, 128, 128])\n",
      "torch.Size([8, 1, 128, 128])\n",
      "torch.Size([8, 1, 128, 128])\n",
      "torch.Size([8, 1, 128, 128])\n",
      "torch.Size([8, 1, 128, 128])\n"
     ]
    },
    {
     "name": "stderr",
     "output_type": "stream",
     "text": [
      "\r",
      " 44%|████████████████████████████████▌                                         | 66/150 [10:10:57<12:24:19, 531.66s/it]"
     ]
    },
    {
     "name": "stdout",
     "output_type": "stream",
     "text": [
      "torch.Size([1, 1, 128, 128])\n",
      "[INFO] EPOCH: 66/150\n",
      "Train loss: 0.462223, Validation loss: 0.4195\n",
      "torch.Size([8, 1, 128, 128])\n",
      "torch.Size([8, 1, 128, 128])\n",
      "torch.Size([8, 1, 128, 128])\n",
      "torch.Size([8, 1, 128, 128])\n",
      "torch.Size([8, 1, 128, 128])\n",
      "torch.Size([8, 1, 128, 128])\n",
      "torch.Size([8, 1, 128, 128])\n",
      "torch.Size([8, 1, 128, 128])\n",
      "torch.Size([8, 1, 128, 128])\n",
      "torch.Size([8, 1, 128, 128])\n"
     ]
    },
    {
     "name": "stderr",
     "output_type": "stream",
     "text": [
      "\r",
      " 45%|█████████████████████████████████                                         | 67/150 [10:20:04<12:21:38, 536.13s/it]"
     ]
    },
    {
     "name": "stdout",
     "output_type": "stream",
     "text": [
      "torch.Size([1, 1, 128, 128])\n",
      "[INFO] EPOCH: 67/150\n",
      "Train loss: 0.463581, Validation loss: 0.4335\n",
      "torch.Size([8, 1, 128, 128])\n",
      "torch.Size([8, 1, 128, 128])\n",
      "torch.Size([8, 1, 128, 128])\n",
      "torch.Size([8, 1, 128, 128])\n",
      "torch.Size([8, 1, 128, 128])\n",
      "torch.Size([8, 1, 128, 128])\n",
      "torch.Size([8, 1, 128, 128])\n",
      "torch.Size([8, 1, 128, 128])\n",
      "torch.Size([8, 1, 128, 128])\n",
      "torch.Size([8, 1, 128, 128])\n"
     ]
    },
    {
     "name": "stderr",
     "output_type": "stream",
     "text": [
      "\r",
      " 45%|█████████████████████████████████▌                                        | 68/150 [10:29:09<12:16:41, 539.04s/it]"
     ]
    },
    {
     "name": "stdout",
     "output_type": "stream",
     "text": [
      "torch.Size([1, 1, 128, 128])\n",
      "[INFO] EPOCH: 68/150\n",
      "Train loss: 0.456372, Validation loss: 0.4312\n",
      "torch.Size([8, 1, 128, 128])\n",
      "torch.Size([8, 1, 128, 128])\n",
      "torch.Size([8, 1, 128, 128])\n",
      "torch.Size([8, 1, 128, 128])\n",
      "torch.Size([8, 1, 128, 128])\n",
      "torch.Size([8, 1, 128, 128])\n",
      "torch.Size([8, 1, 128, 128])\n",
      "torch.Size([8, 1, 128, 128])\n",
      "torch.Size([8, 1, 128, 128])\n",
      "torch.Size([8, 1, 128, 128])\n"
     ]
    },
    {
     "name": "stderr",
     "output_type": "stream",
     "text": [
      "\r",
      " 46%|██████████████████████████████████                                        | 69/150 [10:38:13<12:09:25, 540.32s/it]"
     ]
    },
    {
     "name": "stdout",
     "output_type": "stream",
     "text": [
      "torch.Size([1, 1, 128, 128])\n",
      "[INFO] EPOCH: 69/150\n",
      "Train loss: 0.460438, Validation loss: 0.4263\n",
      "torch.Size([8, 1, 128, 128])\n",
      "torch.Size([8, 1, 128, 128])\n",
      "torch.Size([8, 1, 128, 128])\n",
      "torch.Size([8, 1, 128, 128])\n",
      "torch.Size([8, 1, 128, 128])\n",
      "torch.Size([8, 1, 128, 128])\n",
      "torch.Size([8, 1, 128, 128])\n",
      "torch.Size([8, 1, 128, 128])\n",
      "torch.Size([8, 1, 128, 128])\n",
      "torch.Size([8, 1, 128, 128])\n"
     ]
    },
    {
     "name": "stderr",
     "output_type": "stream",
     "text": [
      "\r",
      " 47%|██████████████████████████████████▌                                       | 70/150 [10:47:14<12:00:37, 540.47s/it]"
     ]
    },
    {
     "name": "stdout",
     "output_type": "stream",
     "text": [
      "torch.Size([1, 1, 128, 128])\n",
      "[INFO] EPOCH: 70/150\n",
      "Train loss: 0.459179, Validation loss: 0.4238\n",
      "torch.Size([8, 1, 128, 128])\n",
      "torch.Size([8, 1, 128, 128])\n",
      "torch.Size([8, 1, 128, 128])\n",
      "torch.Size([8, 1, 128, 128])\n",
      "torch.Size([8, 1, 128, 128])\n",
      "torch.Size([8, 1, 128, 128])\n",
      "torch.Size([8, 1, 128, 128])\n",
      "torch.Size([8, 1, 128, 128])\n",
      "torch.Size([8, 1, 128, 128])\n",
      "torch.Size([8, 1, 128, 128])\n"
     ]
    },
    {
     "name": "stderr",
     "output_type": "stream",
     "text": [
      "\r",
      " 47%|███████████████████████████████████                                       | 71/150 [10:56:09<11:49:41, 539.01s/it]"
     ]
    },
    {
     "name": "stdout",
     "output_type": "stream",
     "text": [
      "torch.Size([1, 1, 128, 128])\n",
      "[INFO] EPOCH: 71/150\n",
      "Train loss: 0.461485, Validation loss: 0.4289\n",
      "torch.Size([8, 1, 128, 128])\n",
      "torch.Size([8, 1, 128, 128])\n",
      "torch.Size([8, 1, 128, 128])\n",
      "torch.Size([8, 1, 128, 128])\n",
      "torch.Size([8, 1, 128, 128])\n",
      "torch.Size([8, 1, 128, 128])\n",
      "torch.Size([8, 1, 128, 128])\n",
      "torch.Size([8, 1, 128, 128])\n",
      "torch.Size([8, 1, 128, 128])\n",
      "torch.Size([8, 1, 128, 128])\n"
     ]
    },
    {
     "name": "stderr",
     "output_type": "stream",
     "text": [
      "\r",
      " 48%|███████████████████████████████████▌                                      | 72/150 [11:05:10<11:41:27, 539.59s/it]"
     ]
    },
    {
     "name": "stdout",
     "output_type": "stream",
     "text": [
      "torch.Size([1, 1, 128, 128])\n",
      "[INFO] EPOCH: 72/150\n",
      "Train loss: 0.457667, Validation loss: 0.4447\n",
      "torch.Size([8, 1, 128, 128])\n",
      "torch.Size([8, 1, 128, 128])\n",
      "torch.Size([8, 1, 128, 128])\n",
      "torch.Size([8, 1, 128, 128])\n",
      "torch.Size([8, 1, 128, 128])\n",
      "torch.Size([8, 1, 128, 128])\n",
      "torch.Size([8, 1, 128, 128])\n",
      "torch.Size([8, 1, 128, 128])\n",
      "torch.Size([8, 1, 128, 128])\n",
      "torch.Size([8, 1, 128, 128])\n"
     ]
    },
    {
     "name": "stderr",
     "output_type": "stream",
     "text": [
      "\r",
      " 49%|████████████████████████████████████                                      | 73/150 [11:14:10<11:32:26, 539.57s/it]"
     ]
    },
    {
     "name": "stdout",
     "output_type": "stream",
     "text": [
      "torch.Size([1, 1, 128, 128])\n",
      "[INFO] EPOCH: 73/150\n",
      "Train loss: 0.451363, Validation loss: 0.4176\n",
      "torch.Size([8, 1, 128, 128])\n",
      "torch.Size([8, 1, 128, 128])\n",
      "torch.Size([8, 1, 128, 128])\n",
      "torch.Size([8, 1, 128, 128])\n",
      "torch.Size([8, 1, 128, 128])\n",
      "torch.Size([8, 1, 128, 128])\n",
      "torch.Size([8, 1, 128, 128])\n",
      "torch.Size([8, 1, 128, 128])\n",
      "torch.Size([8, 1, 128, 128])\n",
      "torch.Size([8, 1, 128, 128])\n"
     ]
    },
    {
     "name": "stderr",
     "output_type": "stream",
     "text": [
      "\r",
      " 49%|████████████████████████████████████▌                                     | 74/150 [11:23:11<11:24:12, 540.17s/it]"
     ]
    },
    {
     "name": "stdout",
     "output_type": "stream",
     "text": [
      "torch.Size([1, 1, 128, 128])\n",
      "[INFO] EPOCH: 74/150\n",
      "Train loss: 0.439632, Validation loss: 0.4091\n",
      "torch.Size([8, 1, 128, 128])\n",
      "torch.Size([8, 1, 128, 128])\n",
      "torch.Size([8, 1, 128, 128])\n",
      "torch.Size([8, 1, 128, 128])\n",
      "torch.Size([8, 1, 128, 128])\n",
      "torch.Size([8, 1, 128, 128])\n",
      "torch.Size([8, 1, 128, 128])\n",
      "torch.Size([8, 1, 128, 128])\n",
      "torch.Size([8, 1, 128, 128])\n",
      "torch.Size([8, 1, 128, 128])\n"
     ]
    },
    {
     "name": "stderr",
     "output_type": "stream",
     "text": [
      "\r",
      " 50%|█████████████████████████████████████                                     | 75/150 [11:32:09<11:14:08, 539.31s/it]"
     ]
    },
    {
     "name": "stdout",
     "output_type": "stream",
     "text": [
      "torch.Size([1, 1, 128, 128])\n",
      "[INFO] EPOCH: 75/150\n",
      "Train loss: 0.446039, Validation loss: 0.4067\n",
      "torch.Size([8, 1, 128, 128])\n",
      "torch.Size([8, 1, 128, 128])\n",
      "torch.Size([8, 1, 128, 128])\n",
      "torch.Size([8, 1, 128, 128])\n",
      "torch.Size([8, 1, 128, 128])\n",
      "torch.Size([8, 1, 128, 128])\n",
      "torch.Size([8, 1, 128, 128])\n",
      "torch.Size([8, 1, 128, 128])\n",
      "torch.Size([8, 1, 128, 128])\n",
      "torch.Size([8, 1, 128, 128])\n"
     ]
    },
    {
     "name": "stderr",
     "output_type": "stream",
     "text": [
      "\r",
      " 51%|█████████████████████████████████████▍                                    | 76/150 [11:41:03<11:03:23, 537.89s/it]"
     ]
    },
    {
     "name": "stdout",
     "output_type": "stream",
     "text": [
      "torch.Size([1, 1, 128, 128])\n",
      "[INFO] EPOCH: 76/150\n",
      "Train loss: 0.437723, Validation loss: 0.4120\n",
      "torch.Size([8, 1, 128, 128])\n",
      "torch.Size([8, 1, 128, 128])\n",
      "torch.Size([8, 1, 128, 128])\n",
      "torch.Size([8, 1, 128, 128])\n",
      "torch.Size([8, 1, 128, 128])\n",
      "torch.Size([8, 1, 128, 128])\n",
      "torch.Size([8, 1, 128, 128])\n",
      "torch.Size([8, 1, 128, 128])\n",
      "torch.Size([8, 1, 128, 128])\n",
      "torch.Size([8, 1, 128, 128])\n"
     ]
    },
    {
     "name": "stderr",
     "output_type": "stream",
     "text": [
      "\r",
      " 51%|█████████████████████████████████████▉                                    | 77/150 [11:50:01<10:54:20, 537.82s/it]"
     ]
    },
    {
     "name": "stdout",
     "output_type": "stream",
     "text": [
      "torch.Size([1, 1, 128, 128])\n",
      "[INFO] EPOCH: 77/150\n",
      "Train loss: 0.433777, Validation loss: 0.4208\n",
      "torch.Size([8, 1, 128, 128])\n",
      "torch.Size([8, 1, 128, 128])\n",
      "torch.Size([8, 1, 128, 128])\n",
      "torch.Size([8, 1, 128, 128])\n",
      "torch.Size([8, 1, 128, 128])\n",
      "torch.Size([8, 1, 128, 128])\n",
      "torch.Size([8, 1, 128, 128])\n",
      "torch.Size([8, 1, 128, 128])\n",
      "torch.Size([8, 1, 128, 128])\n",
      "torch.Size([8, 1, 128, 128])\n"
     ]
    },
    {
     "name": "stderr",
     "output_type": "stream",
     "text": [
      "\r",
      " 52%|██████████████████████████████████████▍                                   | 78/150 [11:59:15<10:51:21, 542.81s/it]"
     ]
    },
    {
     "name": "stdout",
     "output_type": "stream",
     "text": [
      "torch.Size([1, 1, 128, 128])\n",
      "[INFO] EPOCH: 78/150\n",
      "Train loss: 0.427590, Validation loss: 0.4033\n",
      "torch.Size([8, 1, 128, 128])\n",
      "torch.Size([8, 1, 128, 128])\n",
      "torch.Size([8, 1, 128, 128])\n",
      "torch.Size([8, 1, 128, 128])\n",
      "torch.Size([8, 1, 128, 128])\n",
      "torch.Size([8, 1, 128, 128])\n",
      "torch.Size([8, 1, 128, 128])\n",
      "torch.Size([8, 1, 128, 128])\n",
      "torch.Size([8, 1, 128, 128])\n",
      "torch.Size([8, 1, 128, 128])\n"
     ]
    },
    {
     "name": "stderr",
     "output_type": "stream",
     "text": [
      "\r",
      " 53%|██████████████████████████████████████▉                                   | 79/150 [12:08:06<10:38:02, 539.19s/it]"
     ]
    },
    {
     "name": "stdout",
     "output_type": "stream",
     "text": [
      "torch.Size([1, 1, 128, 128])\n",
      "[INFO] EPOCH: 79/150\n",
      "Train loss: 0.425625, Validation loss: 0.4136\n",
      "torch.Size([8, 1, 128, 128])\n",
      "torch.Size([8, 1, 128, 128])\n",
      "torch.Size([8, 1, 128, 128])\n",
      "torch.Size([8, 1, 128, 128])\n",
      "torch.Size([8, 1, 128, 128])\n",
      "torch.Size([8, 1, 128, 128])\n",
      "torch.Size([8, 1, 128, 128])\n",
      "torch.Size([8, 1, 128, 128])\n",
      "torch.Size([8, 1, 128, 128])\n",
      "torch.Size([8, 1, 128, 128])\n"
     ]
    },
    {
     "name": "stderr",
     "output_type": "stream",
     "text": [
      "\r",
      " 53%|███████████████████████████████████████▍                                  | 80/150 [12:16:55<10:25:34, 536.21s/it]"
     ]
    },
    {
     "name": "stdout",
     "output_type": "stream",
     "text": [
      "torch.Size([1, 1, 128, 128])\n",
      "[INFO] EPOCH: 80/150\n",
      "Train loss: 0.420525, Validation loss: 0.3866\n",
      "torch.Size([8, 1, 128, 128])\n",
      "torch.Size([8, 1, 128, 128])\n",
      "torch.Size([8, 1, 128, 128])\n",
      "torch.Size([8, 1, 128, 128])\n",
      "torch.Size([8, 1, 128, 128])\n",
      "torch.Size([8, 1, 128, 128])\n",
      "torch.Size([8, 1, 128, 128])\n",
      "torch.Size([8, 1, 128, 128])\n",
      "torch.Size([8, 1, 128, 128])\n",
      "torch.Size([8, 1, 128, 128])\n"
     ]
    },
    {
     "name": "stderr",
     "output_type": "stream",
     "text": [
      "\r",
      " 54%|███████████████████████████████████████▉                                  | 81/150 [12:25:36<10:11:24, 531.67s/it]"
     ]
    },
    {
     "name": "stdout",
     "output_type": "stream",
     "text": [
      "torch.Size([1, 1, 128, 128])\n",
      "[INFO] EPOCH: 81/150\n",
      "Train loss: 0.414726, Validation loss: 0.3864\n",
      "torch.Size([8, 1, 128, 128])\n",
      "torch.Size([8, 1, 128, 128])\n",
      "torch.Size([8, 1, 128, 128])\n",
      "torch.Size([8, 1, 128, 128])\n",
      "torch.Size([8, 1, 128, 128])\n",
      "torch.Size([8, 1, 128, 128])\n",
      "torch.Size([8, 1, 128, 128])\n",
      "torch.Size([8, 1, 128, 128])\n",
      "torch.Size([8, 1, 128, 128])\n",
      "torch.Size([8, 1, 128, 128])\n"
     ]
    },
    {
     "name": "stderr",
     "output_type": "stream",
     "text": [
      "\r",
      " 55%|████████████████████████████████████████▍                                 | 82/150 [12:34:24<10:01:13, 530.50s/it]"
     ]
    },
    {
     "name": "stdout",
     "output_type": "stream",
     "text": [
      "torch.Size([1, 1, 128, 128])\n",
      "[INFO] EPOCH: 82/150\n",
      "Train loss: 0.407384, Validation loss: 0.3897\n",
      "torch.Size([8, 1, 128, 128])\n",
      "torch.Size([8, 1, 128, 128])\n",
      "torch.Size([8, 1, 128, 128])\n",
      "torch.Size([8, 1, 128, 128])\n",
      "torch.Size([8, 1, 128, 128])\n",
      "torch.Size([8, 1, 128, 128])\n",
      "torch.Size([8, 1, 128, 128])\n",
      "torch.Size([8, 1, 128, 128])\n",
      "torch.Size([8, 1, 128, 128])\n",
      "torch.Size([8, 1, 128, 128])\n"
     ]
    },
    {
     "name": "stderr",
     "output_type": "stream",
     "text": [
      "\r",
      " 55%|████████████████████████████████████████▉                                 | 83/150 [12:43:39<10:00:39, 537.90s/it]"
     ]
    },
    {
     "name": "stdout",
     "output_type": "stream",
     "text": [
      "torch.Size([1, 1, 128, 128])\n",
      "[INFO] EPOCH: 83/150\n",
      "Train loss: 0.409153, Validation loss: 0.4021\n",
      "torch.Size([8, 1, 128, 128])\n",
      "torch.Size([8, 1, 128, 128])\n",
      "torch.Size([8, 1, 128, 128])\n",
      "torch.Size([8, 1, 128, 128])\n",
      "torch.Size([8, 1, 128, 128])\n",
      "torch.Size([8, 1, 128, 128])\n",
      "torch.Size([8, 1, 128, 128])\n",
      "torch.Size([8, 1, 128, 128])\n",
      "torch.Size([8, 1, 128, 128])\n",
      "torch.Size([8, 1, 128, 128])\n"
     ]
    },
    {
     "name": "stderr",
     "output_type": "stream",
     "text": [
      "\r",
      " 56%|██████████████████████████████████████████                                 | 84/150 [12:52:37<9:51:39, 537.87s/it]"
     ]
    },
    {
     "name": "stdout",
     "output_type": "stream",
     "text": [
      "torch.Size([1, 1, 128, 128])\n",
      "[INFO] EPOCH: 84/150\n",
      "Train loss: 0.404874, Validation loss: 0.3757\n",
      "torch.Size([8, 1, 128, 128])\n",
      "torch.Size([8, 1, 128, 128])\n",
      "torch.Size([8, 1, 128, 128])\n",
      "torch.Size([8, 1, 128, 128])\n",
      "torch.Size([8, 1, 128, 128])\n",
      "torch.Size([8, 1, 128, 128])\n",
      "torch.Size([8, 1, 128, 128])\n",
      "torch.Size([8, 1, 128, 128])\n",
      "torch.Size([8, 1, 128, 128])\n",
      "torch.Size([8, 1, 128, 128])\n"
     ]
    },
    {
     "name": "stderr",
     "output_type": "stream",
     "text": [
      "\r",
      " 57%|██████████████████████████████████████████▌                                | 85/150 [13:01:38<9:43:49, 538.91s/it]"
     ]
    },
    {
     "name": "stdout",
     "output_type": "stream",
     "text": [
      "torch.Size([1, 1, 128, 128])\n",
      "[INFO] EPOCH: 85/150\n",
      "Train loss: 0.409307, Validation loss: 0.3742\n",
      "torch.Size([8, 1, 128, 128])\n",
      "torch.Size([8, 1, 128, 128])\n",
      "torch.Size([8, 1, 128, 128])\n",
      "torch.Size([8, 1, 128, 128])\n",
      "torch.Size([8, 1, 128, 128])\n",
      "torch.Size([8, 1, 128, 128])\n",
      "torch.Size([8, 1, 128, 128])\n",
      "torch.Size([8, 1, 128, 128])\n",
      "torch.Size([8, 1, 128, 128])\n",
      "torch.Size([8, 1, 128, 128])\n"
     ]
    },
    {
     "name": "stderr",
     "output_type": "stream",
     "text": [
      "\r",
      " 57%|███████████████████████████████████████████                                | 86/150 [13:10:50<9:38:57, 542.77s/it]"
     ]
    },
    {
     "name": "stdout",
     "output_type": "stream",
     "text": [
      "torch.Size([1, 1, 128, 128])\n",
      "[INFO] EPOCH: 86/150\n",
      "Train loss: 0.405550, Validation loss: 0.3960\n",
      "torch.Size([8, 1, 128, 128])\n",
      "torch.Size([8, 1, 128, 128])\n",
      "torch.Size([8, 1, 128, 128])\n",
      "torch.Size([8, 1, 128, 128])\n",
      "torch.Size([8, 1, 128, 128])\n",
      "torch.Size([8, 1, 128, 128])\n",
      "torch.Size([8, 1, 128, 128])\n",
      "torch.Size([8, 1, 128, 128])\n",
      "torch.Size([8, 1, 128, 128])\n",
      "torch.Size([8, 1, 128, 128])\n"
     ]
    },
    {
     "name": "stderr",
     "output_type": "stream",
     "text": [
      "\r",
      " 58%|███████████████████████████████████████████▌                               | 87/150 [13:20:00<9:31:58, 544.74s/it]"
     ]
    },
    {
     "name": "stdout",
     "output_type": "stream",
     "text": [
      "torch.Size([1, 1, 128, 128])\n",
      "[INFO] EPOCH: 87/150\n",
      "Train loss: 0.408577, Validation loss: 0.3787\n",
      "torch.Size([8, 1, 128, 128])\n",
      "torch.Size([8, 1, 128, 128])\n",
      "torch.Size([8, 1, 128, 128])\n",
      "torch.Size([8, 1, 128, 128])\n",
      "torch.Size([8, 1, 128, 128])\n",
      "torch.Size([8, 1, 128, 128])\n",
      "torch.Size([8, 1, 128, 128])\n",
      "torch.Size([8, 1, 128, 128])\n",
      "torch.Size([8, 1, 128, 128])\n",
      "torch.Size([8, 1, 128, 128])\n"
     ]
    },
    {
     "name": "stderr",
     "output_type": "stream",
     "text": [
      "\r",
      " 59%|████████████████████████████████████████████                               | 88/150 [13:29:07<9:23:51, 545.67s/it]"
     ]
    },
    {
     "name": "stdout",
     "output_type": "stream",
     "text": [
      "torch.Size([1, 1, 128, 128])\n",
      "[INFO] EPOCH: 88/150\n",
      "Train loss: 0.395462, Validation loss: 0.3840\n",
      "torch.Size([8, 1, 128, 128])\n",
      "torch.Size([8, 1, 128, 128])\n",
      "torch.Size([8, 1, 128, 128])\n",
      "torch.Size([8, 1, 128, 128])\n",
      "torch.Size([8, 1, 128, 128])\n",
      "torch.Size([8, 1, 128, 128])\n",
      "torch.Size([8, 1, 128, 128])\n",
      "torch.Size([8, 1, 128, 128])\n",
      "torch.Size([8, 1, 128, 128])\n",
      "torch.Size([8, 1, 128, 128])\n"
     ]
    },
    {
     "name": "stderr",
     "output_type": "stream",
     "text": [
      "\r",
      " 59%|████████████████████████████████████████████▌                              | 89/150 [13:38:07<9:12:53, 543.83s/it]"
     ]
    },
    {
     "name": "stdout",
     "output_type": "stream",
     "text": [
      "torch.Size([1, 1, 128, 128])\n",
      "[INFO] EPOCH: 89/150\n",
      "Train loss: 0.394659, Validation loss: 0.3983\n",
      "torch.Size([8, 1, 128, 128])\n",
      "torch.Size([8, 1, 128, 128])\n",
      "torch.Size([8, 1, 128, 128])\n",
      "torch.Size([8, 1, 128, 128])\n",
      "torch.Size([8, 1, 128, 128])\n",
      "torch.Size([8, 1, 128, 128])\n",
      "torch.Size([8, 1, 128, 128])\n",
      "torch.Size([8, 1, 128, 128])\n",
      "torch.Size([8, 1, 128, 128])\n",
      "torch.Size([8, 1, 128, 128])\n"
     ]
    },
    {
     "name": "stderr",
     "output_type": "stream",
     "text": [
      "\r",
      " 60%|█████████████████████████████████████████████                              | 90/150 [13:47:05<9:01:58, 541.98s/it]"
     ]
    },
    {
     "name": "stdout",
     "output_type": "stream",
     "text": [
      "torch.Size([1, 1, 128, 128])\n",
      "[INFO] EPOCH: 90/150\n",
      "Train loss: 0.390707, Validation loss: 0.3991\n",
      "torch.Size([8, 1, 128, 128])\n",
      "torch.Size([8, 1, 128, 128])\n",
      "torch.Size([8, 1, 128, 128])\n",
      "torch.Size([8, 1, 128, 128])\n",
      "torch.Size([8, 1, 128, 128])\n",
      "torch.Size([8, 1, 128, 128])\n",
      "torch.Size([8, 1, 128, 128])\n",
      "torch.Size([8, 1, 128, 128])\n",
      "torch.Size([8, 1, 128, 128])\n",
      "torch.Size([8, 1, 128, 128])\n"
     ]
    },
    {
     "name": "stderr",
     "output_type": "stream",
     "text": [
      "\r",
      " 61%|█████████████████████████████████████████████▌                             | 91/150 [13:55:58<8:50:21, 539.35s/it]"
     ]
    },
    {
     "name": "stdout",
     "output_type": "stream",
     "text": [
      "torch.Size([1, 1, 128, 128])\n",
      "[INFO] EPOCH: 91/150\n",
      "Train loss: 0.393573, Validation loss: 0.3963\n",
      "torch.Size([8, 1, 128, 128])\n",
      "torch.Size([8, 1, 128, 128])\n",
      "torch.Size([8, 1, 128, 128])\n",
      "torch.Size([8, 1, 128, 128])\n",
      "torch.Size([8, 1, 128, 128])\n",
      "torch.Size([8, 1, 128, 128])\n",
      "torch.Size([8, 1, 128, 128])\n",
      "torch.Size([8, 1, 128, 128])\n",
      "torch.Size([8, 1, 128, 128])\n",
      "torch.Size([8, 1, 128, 128])\n"
     ]
    },
    {
     "name": "stderr",
     "output_type": "stream",
     "text": [
      "\r",
      " 61%|██████████████████████████████████████████████                             | 92/150 [14:05:01<8:42:37, 540.64s/it]"
     ]
    },
    {
     "name": "stdout",
     "output_type": "stream",
     "text": [
      "torch.Size([1, 1, 128, 128])\n",
      "[INFO] EPOCH: 92/150\n",
      "Train loss: 0.390439, Validation loss: 0.3881\n",
      "torch.Size([8, 1, 128, 128])\n",
      "torch.Size([8, 1, 128, 128])\n",
      "torch.Size([8, 1, 128, 128])\n",
      "torch.Size([8, 1, 128, 128])\n",
      "torch.Size([8, 1, 128, 128])\n",
      "torch.Size([8, 1, 128, 128])\n",
      "torch.Size([8, 1, 128, 128])\n",
      "torch.Size([8, 1, 128, 128])\n",
      "torch.Size([8, 1, 128, 128])\n",
      "torch.Size([8, 1, 128, 128])\n"
     ]
    },
    {
     "name": "stderr",
     "output_type": "stream",
     "text": [
      "\r",
      " 62%|██████████████████████████████████████████████▌                            | 93/150 [14:14:21<8:38:55, 546.24s/it]"
     ]
    },
    {
     "name": "stdout",
     "output_type": "stream",
     "text": [
      "torch.Size([1, 1, 128, 128])\n",
      "[INFO] EPOCH: 93/150\n",
      "Train loss: 0.385466, Validation loss: 0.3761\n",
      "torch.Size([8, 1, 128, 128])\n",
      "torch.Size([8, 1, 128, 128])\n",
      "torch.Size([8, 1, 128, 128])\n",
      "torch.Size([8, 1, 128, 128])\n",
      "torch.Size([8, 1, 128, 128])\n",
      "torch.Size([8, 1, 128, 128])\n",
      "torch.Size([8, 1, 128, 128])\n",
      "torch.Size([8, 1, 128, 128])\n",
      "torch.Size([8, 1, 128, 128])\n",
      "torch.Size([8, 1, 128, 128])\n"
     ]
    },
    {
     "name": "stderr",
     "output_type": "stream",
     "text": [
      "\r",
      " 63%|███████████████████████████████████████████████                            | 94/150 [14:23:14<8:26:15, 542.41s/it]"
     ]
    },
    {
     "name": "stdout",
     "output_type": "stream",
     "text": [
      "torch.Size([1, 1, 128, 128])\n",
      "[INFO] EPOCH: 94/150\n",
      "Train loss: 0.383811, Validation loss: 0.3954\n",
      "torch.Size([8, 1, 128, 128])\n",
      "torch.Size([8, 1, 128, 128])\n",
      "torch.Size([8, 1, 128, 128])\n",
      "torch.Size([8, 1, 128, 128])\n",
      "torch.Size([8, 1, 128, 128])\n",
      "torch.Size([8, 1, 128, 128])\n",
      "torch.Size([8, 1, 128, 128])\n",
      "torch.Size([8, 1, 128, 128])\n",
      "torch.Size([8, 1, 128, 128])\n",
      "torch.Size([8, 1, 128, 128])\n",
      "torch.Size([1, 1, 128, 128])\n"
     ]
    },
    {
     "name": "stderr",
     "output_type": "stream",
     "text": [
      "\r",
      " 63%|███████████████████████████████████████████████▌                           | 95/150 [14:32:08<8:14:51, 539.84s/it]"
     ]
    },
    {
     "name": "stdout",
     "output_type": "stream",
     "text": [
      "[INFO] EPOCH: 95/150\n",
      "Train loss: 0.387176, Validation loss: 0.3666\n",
      "torch.Size([8, 1, 128, 128])\n",
      "torch.Size([8, 1, 128, 128])\n",
      "torch.Size([8, 1, 128, 128])\n",
      "torch.Size([8, 1, 128, 128])\n",
      "torch.Size([8, 1, 128, 128])\n",
      "torch.Size([8, 1, 128, 128])\n",
      "torch.Size([8, 1, 128, 128])\n",
      "torch.Size([8, 1, 128, 128])\n",
      "torch.Size([8, 1, 128, 128])\n",
      "torch.Size([8, 1, 128, 128])\n"
     ]
    },
    {
     "name": "stderr",
     "output_type": "stream",
     "text": [
      "\r",
      " 64%|████████████████████████████████████████████████                           | 96/150 [14:41:22<8:09:48, 544.23s/it]"
     ]
    },
    {
     "name": "stdout",
     "output_type": "stream",
     "text": [
      "torch.Size([1, 1, 128, 128])\n",
      "[INFO] EPOCH: 96/150\n",
      "Train loss: 0.382422, Validation loss: 0.3719\n",
      "torch.Size([8, 1, 128, 128])\n",
      "torch.Size([8, 1, 128, 128])\n",
      "torch.Size([8, 1, 128, 128])\n",
      "torch.Size([8, 1, 128, 128])\n",
      "torch.Size([8, 1, 128, 128])\n",
      "torch.Size([8, 1, 128, 128])\n",
      "torch.Size([8, 1, 128, 128])\n",
      "torch.Size([8, 1, 128, 128])\n",
      "torch.Size([8, 1, 128, 128])\n",
      "torch.Size([8, 1, 128, 128])\n"
     ]
    },
    {
     "name": "stderr",
     "output_type": "stream",
     "text": [
      "\r",
      " 65%|████████████████████████████████████████████████▍                          | 97/150 [14:50:46<8:05:46, 549.93s/it]"
     ]
    },
    {
     "name": "stdout",
     "output_type": "stream",
     "text": [
      "torch.Size([1, 1, 128, 128])\n",
      "[INFO] EPOCH: 97/150\n",
      "Train loss: 0.383430, Validation loss: 0.3656\n",
      "torch.Size([8, 1, 128, 128])\n",
      "torch.Size([8, 1, 128, 128])\n",
      "torch.Size([8, 1, 128, 128])\n",
      "torch.Size([8, 1, 128, 128])\n",
      "torch.Size([8, 1, 128, 128])\n",
      "torch.Size([8, 1, 128, 128])\n",
      "torch.Size([8, 1, 128, 128])\n",
      "torch.Size([8, 1, 128, 128])\n",
      "torch.Size([8, 1, 128, 128])\n",
      "torch.Size([8, 1, 128, 128])\n"
     ]
    },
    {
     "name": "stderr",
     "output_type": "stream",
     "text": [
      "\r",
      " 65%|█████████████████████████████████████████████████                          | 98/150 [15:00:00<7:57:45, 551.26s/it]"
     ]
    },
    {
     "name": "stdout",
     "output_type": "stream",
     "text": [
      "torch.Size([1, 1, 128, 128])\n",
      "[INFO] EPOCH: 98/150\n",
      "Train loss: 0.385250, Validation loss: 0.3771\n",
      "torch.Size([8, 1, 128, 128])\n",
      "torch.Size([8, 1, 128, 128])\n",
      "torch.Size([8, 1, 128, 128])\n",
      "torch.Size([8, 1, 128, 128])\n",
      "torch.Size([8, 1, 128, 128])\n",
      "torch.Size([8, 1, 128, 128])\n",
      "torch.Size([8, 1, 128, 128])\n",
      "torch.Size([8, 1, 128, 128])\n",
      "torch.Size([8, 1, 128, 128])\n",
      "torch.Size([8, 1, 128, 128])\n"
     ]
    },
    {
     "name": "stderr",
     "output_type": "stream",
     "text": [
      "\r",
      " 66%|█████████████████████████████████████████████████▌                         | 99/150 [15:09:28<7:52:48, 556.24s/it]"
     ]
    },
    {
     "name": "stdout",
     "output_type": "stream",
     "text": [
      "torch.Size([1, 1, 128, 128])\n",
      "[INFO] EPOCH: 99/150\n",
      "Train loss: 0.378158, Validation loss: 0.3615\n",
      "torch.Size([8, 1, 128, 128])\n",
      "torch.Size([8, 1, 128, 128])\n",
      "torch.Size([8, 1, 128, 128])\n",
      "torch.Size([8, 1, 128, 128])\n",
      "torch.Size([8, 1, 128, 128])\n",
      "torch.Size([8, 1, 128, 128])\n",
      "torch.Size([8, 1, 128, 128])\n",
      "torch.Size([8, 1, 128, 128])\n",
      "torch.Size([8, 1, 128, 128])\n",
      "torch.Size([8, 1, 128, 128])\n"
     ]
    },
    {
     "name": "stderr",
     "output_type": "stream",
     "text": [
      "\r",
      " 67%|█████████████████████████████████████████████████▎                        | 100/150 [15:18:49<7:44:46, 557.73s/it]"
     ]
    },
    {
     "name": "stdout",
     "output_type": "stream",
     "text": [
      "torch.Size([1, 1, 128, 128])\n",
      "[INFO] EPOCH: 100/150\n",
      "Train loss: 0.381491, Validation loss: 0.3909\n",
      "torch.Size([8, 1, 128, 128])\n",
      "torch.Size([8, 1, 128, 128])\n",
      "torch.Size([8, 1, 128, 128])\n",
      "torch.Size([8, 1, 128, 128])\n",
      "torch.Size([8, 1, 128, 128])\n",
      "torch.Size([8, 1, 128, 128])\n",
      "torch.Size([8, 1, 128, 128])\n",
      "torch.Size([8, 1, 128, 128])\n",
      "torch.Size([8, 1, 128, 128])\n",
      "torch.Size([8, 1, 128, 128])\n"
     ]
    },
    {
     "name": "stderr",
     "output_type": "stream",
     "text": [
      "\r",
      " 67%|█████████████████████████████████████████████████▊                        | 101/150 [15:28:03<7:34:37, 556.69s/it]"
     ]
    },
    {
     "name": "stdout",
     "output_type": "stream",
     "text": [
      "torch.Size([1, 1, 128, 128])\n",
      "[INFO] EPOCH: 101/150\n",
      "Train loss: 0.377840, Validation loss: 0.3723\n",
      "torch.Size([8, 1, 128, 128])\n",
      "torch.Size([8, 1, 128, 128])\n",
      "torch.Size([8, 1, 128, 128])\n",
      "torch.Size([8, 1, 128, 128])\n",
      "torch.Size([8, 1, 128, 128])\n",
      "torch.Size([8, 1, 128, 128])\n",
      "torch.Size([8, 1, 128, 128])\n",
      "torch.Size([8, 1, 128, 128])\n",
      "torch.Size([8, 1, 128, 128])\n",
      "torch.Size([8, 1, 128, 128])\n"
     ]
    },
    {
     "name": "stderr",
     "output_type": "stream",
     "text": [
      "\r",
      " 68%|██████████████████████████████████████████████████▎                       | 102/150 [15:37:25<7:26:27, 558.08s/it]"
     ]
    },
    {
     "name": "stdout",
     "output_type": "stream",
     "text": [
      "torch.Size([1, 1, 128, 128])\n",
      "[INFO] EPOCH: 102/150\n",
      "Train loss: 0.381090, Validation loss: 0.3630\n",
      "torch.Size([8, 1, 128, 128])\n",
      "torch.Size([8, 1, 128, 128])\n",
      "torch.Size([8, 1, 128, 128])\n",
      "torch.Size([8, 1, 128, 128])\n",
      "torch.Size([8, 1, 128, 128])\n",
      "torch.Size([8, 1, 128, 128])\n",
      "torch.Size([8, 1, 128, 128])\n",
      "torch.Size([8, 1, 128, 128])\n",
      "torch.Size([8, 1, 128, 128])\n",
      "torch.Size([8, 1, 128, 128])\n"
     ]
    },
    {
     "name": "stderr",
     "output_type": "stream",
     "text": [
      "\r",
      " 69%|██████████████████████████████████████████████████▊                       | 103/150 [15:46:31<7:14:17, 554.42s/it]"
     ]
    },
    {
     "name": "stdout",
     "output_type": "stream",
     "text": [
      "torch.Size([1, 1, 128, 128])\n",
      "[INFO] EPOCH: 103/150\n",
      "Train loss: 0.374577, Validation loss: 0.3784\n",
      "torch.Size([8, 1, 128, 128])\n",
      "torch.Size([8, 1, 128, 128])\n",
      "torch.Size([8, 1, 128, 128])\n",
      "torch.Size([8, 1, 128, 128])\n",
      "torch.Size([8, 1, 128, 128])\n",
      "torch.Size([8, 1, 128, 128])\n",
      "torch.Size([8, 1, 128, 128])\n",
      "torch.Size([8, 1, 128, 128])\n",
      "torch.Size([8, 1, 128, 128])\n",
      "torch.Size([8, 1, 128, 128])\n"
     ]
    },
    {
     "name": "stderr",
     "output_type": "stream",
     "text": [
      "\r",
      " 69%|███████████████████████████████████████████████████▎                      | 104/150 [15:55:26<7:00:42, 548.74s/it]"
     ]
    },
    {
     "name": "stdout",
     "output_type": "stream",
     "text": [
      "torch.Size([1, 1, 128, 128])\n",
      "[INFO] EPOCH: 104/150\n",
      "Train loss: 0.368785, Validation loss: 0.3724\n",
      "torch.Size([8, 1, 128, 128])\n",
      "torch.Size([8, 1, 128, 128])\n",
      "torch.Size([8, 1, 128, 128])\n",
      "torch.Size([8, 1, 128, 128])\n",
      "torch.Size([8, 1, 128, 128])\n",
      "torch.Size([8, 1, 128, 128])\n",
      "torch.Size([8, 1, 128, 128])\n",
      "torch.Size([8, 1, 128, 128])\n",
      "torch.Size([8, 1, 128, 128])\n",
      "torch.Size([8, 1, 128, 128])\n"
     ]
    },
    {
     "name": "stderr",
     "output_type": "stream",
     "text": [
      "\r",
      " 70%|███████████████████████████████████████████████████▊                      | 105/150 [16:04:41<6:52:54, 550.55s/it]"
     ]
    },
    {
     "name": "stdout",
     "output_type": "stream",
     "text": [
      "torch.Size([1, 1, 128, 128])\n",
      "[INFO] EPOCH: 105/150\n",
      "Train loss: 0.369890, Validation loss: 0.3583\n",
      "torch.Size([8, 1, 128, 128])\n",
      "torch.Size([8, 1, 128, 128])\n",
      "torch.Size([8, 1, 128, 128])\n",
      "torch.Size([8, 1, 128, 128])\n",
      "torch.Size([8, 1, 128, 128])\n",
      "torch.Size([8, 1, 128, 128])\n",
      "torch.Size([8, 1, 128, 128])\n",
      "torch.Size([8, 1, 128, 128])\n",
      "torch.Size([8, 1, 128, 128])\n",
      "torch.Size([8, 1, 128, 128])\n"
     ]
    },
    {
     "name": "stderr",
     "output_type": "stream",
     "text": [
      "\r",
      " 71%|████████████████████████████████████████████████████▎                     | 106/150 [16:13:53<6:44:05, 551.04s/it]"
     ]
    },
    {
     "name": "stdout",
     "output_type": "stream",
     "text": [
      "torch.Size([1, 1, 128, 128])\n",
      "[INFO] EPOCH: 106/150\n",
      "Train loss: 0.365537, Validation loss: 0.3607\n",
      "torch.Size([8, 1, 128, 128])\n",
      "torch.Size([8, 1, 128, 128])\n",
      "torch.Size([8, 1, 128, 128])\n",
      "torch.Size([8, 1, 128, 128])\n",
      "torch.Size([8, 1, 128, 128])\n",
      "torch.Size([8, 1, 128, 128])\n",
      "torch.Size([8, 1, 128, 128])\n",
      "torch.Size([8, 1, 128, 128])\n",
      "torch.Size([8, 1, 128, 128])\n",
      "torch.Size([8, 1, 128, 128])\n"
     ]
    },
    {
     "name": "stderr",
     "output_type": "stream",
     "text": [
      "\r",
      " 71%|████████████████████████████████████████████████████▊                     | 107/150 [16:22:41<6:30:02, 544.25s/it]"
     ]
    },
    {
     "name": "stdout",
     "output_type": "stream",
     "text": [
      "torch.Size([1, 1, 128, 128])\n",
      "[INFO] EPOCH: 107/150\n",
      "Train loss: 0.366927, Validation loss: 0.3627\n",
      "torch.Size([8, 1, 128, 128])\n",
      "torch.Size([8, 1, 128, 128])\n",
      "torch.Size([8, 1, 128, 128])\n",
      "torch.Size([8, 1, 128, 128])\n",
      "torch.Size([8, 1, 128, 128])\n",
      "torch.Size([8, 1, 128, 128])\n",
      "torch.Size([8, 1, 128, 128])\n",
      "torch.Size([8, 1, 128, 128])\n",
      "torch.Size([8, 1, 128, 128])\n",
      "torch.Size([8, 1, 128, 128])\n"
     ]
    },
    {
     "name": "stderr",
     "output_type": "stream",
     "text": [
      "\r",
      " 72%|█████████████████████████████████████████████████████▎                    | 108/150 [16:31:28<6:17:20, 539.05s/it]"
     ]
    },
    {
     "name": "stdout",
     "output_type": "stream",
     "text": [
      "torch.Size([1, 1, 128, 128])\n",
      "[INFO] EPOCH: 108/150\n",
      "Train loss: 0.366872, Validation loss: 0.3767\n",
      "torch.Size([8, 1, 128, 128])\n",
      "torch.Size([8, 1, 128, 128])\n",
      "torch.Size([8, 1, 128, 128])\n",
      "torch.Size([8, 1, 128, 128])\n",
      "torch.Size([8, 1, 128, 128])\n",
      "torch.Size([8, 1, 128, 128])\n",
      "torch.Size([8, 1, 128, 128])\n",
      "torch.Size([8, 1, 128, 128])\n",
      "torch.Size([8, 1, 128, 128])\n",
      "torch.Size([8, 1, 128, 128])\n"
     ]
    },
    {
     "name": "stderr",
     "output_type": "stream",
     "text": [
      "\r",
      " 73%|█████████████████████████████████████████████████████▊                    | 109/150 [16:40:38<6:10:34, 542.30s/it]"
     ]
    },
    {
     "name": "stdout",
     "output_type": "stream",
     "text": [
      "torch.Size([1, 1, 128, 128])\n",
      "[INFO] EPOCH: 109/150\n",
      "Train loss: 0.367141, Validation loss: 0.3653\n",
      "torch.Size([8, 1, 128, 128])\n",
      "torch.Size([8, 1, 128, 128])\n",
      "torch.Size([8, 1, 128, 128])\n",
      "torch.Size([8, 1, 128, 128])\n",
      "torch.Size([8, 1, 128, 128])\n",
      "torch.Size([8, 1, 128, 128])\n",
      "torch.Size([8, 1, 128, 128])\n",
      "torch.Size([8, 1, 128, 128])\n",
      "torch.Size([8, 1, 128, 128])\n",
      "torch.Size([8, 1, 128, 128])\n",
      "torch.Size([1, 1, 128, 128])\n",
      "[INFO] EPOCH: 110/150\n"
     ]
    },
    {
     "name": "stderr",
     "output_type": "stream",
     "text": [
      "\r",
      " 73%|██████████████████████████████████████████████████████▎                   | 110/150 [16:51:03<6:18:02, 567.07s/it]"
     ]
    },
    {
     "name": "stdout",
     "output_type": "stream",
     "text": [
      "Train loss: 0.368324, Validation loss: 0.3562\n",
      "torch.Size([8, 1, 128, 128])\n",
      "torch.Size([8, 1, 128, 128])\n",
      "torch.Size([8, 1, 128, 128])\n",
      "torch.Size([8, 1, 128, 128])\n",
      "torch.Size([8, 1, 128, 128])\n",
      "torch.Size([8, 1, 128, 128])\n",
      "torch.Size([8, 1, 128, 128])\n",
      "torch.Size([8, 1, 128, 128])\n",
      "torch.Size([8, 1, 128, 128])\n",
      "torch.Size([8, 1, 128, 128])\n"
     ]
    },
    {
     "name": "stderr",
     "output_type": "stream",
     "text": [
      "\r",
      " 74%|██████████████████████████████████████████████████████▊                   | 111/150 [17:00:55<6:13:25, 574.50s/it]"
     ]
    },
    {
     "name": "stdout",
     "output_type": "stream",
     "text": [
      "torch.Size([1, 1, 128, 128])\n",
      "[INFO] EPOCH: 111/150\n",
      "Train loss: 0.363636, Validation loss: 0.3569\n",
      "torch.Size([8, 1, 128, 128])\n",
      "torch.Size([8, 1, 128, 128])\n",
      "torch.Size([8, 1, 128, 128])\n",
      "torch.Size([8, 1, 128, 128])\n",
      "torch.Size([8, 1, 128, 128])\n",
      "torch.Size([8, 1, 128, 128])\n",
      "torch.Size([8, 1, 128, 128])\n",
      "torch.Size([8, 1, 128, 128])\n",
      "torch.Size([8, 1, 128, 128])\n",
      "torch.Size([8, 1, 128, 128])\n"
     ]
    },
    {
     "name": "stderr",
     "output_type": "stream",
     "text": [
      "\r",
      " 75%|███████████████████████████████████████████████████████▎                  | 112/150 [17:10:07<5:59:36, 567.81s/it]"
     ]
    },
    {
     "name": "stdout",
     "output_type": "stream",
     "text": [
      "torch.Size([1, 1, 128, 128])\n",
      "[INFO] EPOCH: 112/150\n",
      "Train loss: 0.359417, Validation loss: 0.3607\n",
      "torch.Size([8, 1, 128, 128])\n",
      "torch.Size([8, 1, 128, 128])\n",
      "torch.Size([8, 1, 128, 128])\n",
      "torch.Size([8, 1, 128, 128])\n",
      "torch.Size([8, 1, 128, 128])\n",
      "torch.Size([8, 1, 128, 128])\n",
      "torch.Size([8, 1, 128, 128])\n",
      "torch.Size([8, 1, 128, 128])\n",
      "torch.Size([8, 1, 128, 128])\n",
      "torch.Size([8, 1, 128, 128])\n"
     ]
    },
    {
     "name": "stderr",
     "output_type": "stream",
     "text": [
      "\r",
      " 75%|███████████████████████████████████████████████████████▋                  | 113/150 [17:19:09<5:45:20, 560.02s/it]"
     ]
    },
    {
     "name": "stdout",
     "output_type": "stream",
     "text": [
      "torch.Size([1, 1, 128, 128])\n",
      "[INFO] EPOCH: 113/150\n",
      "Train loss: 0.362782, Validation loss: 0.3746\n",
      "torch.Size([8, 1, 128, 128])\n",
      "torch.Size([8, 1, 128, 128])\n",
      "torch.Size([8, 1, 128, 128])\n",
      "torch.Size([8, 1, 128, 128])\n",
      "torch.Size([8, 1, 128, 128])\n",
      "torch.Size([8, 1, 128, 128])\n",
      "torch.Size([8, 1, 128, 128])\n",
      "torch.Size([8, 1, 128, 128])\n",
      "torch.Size([8, 1, 128, 128])\n",
      "torch.Size([8, 1, 128, 128])\n"
     ]
    },
    {
     "name": "stderr",
     "output_type": "stream",
     "text": [
      "\r",
      " 76%|████████████████████████████████████████████████████████▏                 | 114/150 [17:28:15<5:33:25, 555.72s/it]"
     ]
    },
    {
     "name": "stdout",
     "output_type": "stream",
     "text": [
      "torch.Size([1, 1, 128, 128])\n",
      "[INFO] EPOCH: 114/150\n",
      "Train loss: 0.363626, Validation loss: 0.3597\n",
      "torch.Size([8, 1, 128, 128])\n",
      "torch.Size([8, 1, 128, 128])\n",
      "torch.Size([8, 1, 128, 128])\n",
      "torch.Size([8, 1, 128, 128])\n",
      "torch.Size([8, 1, 128, 128])\n",
      "torch.Size([8, 1, 128, 128])\n",
      "torch.Size([8, 1, 128, 128])\n",
      "torch.Size([8, 1, 128, 128])\n",
      "torch.Size([8, 1, 128, 128])\n",
      "torch.Size([8, 1, 128, 128])\n"
     ]
    },
    {
     "name": "stderr",
     "output_type": "stream",
     "text": [
      "\r",
      " 77%|████████████████████████████████████████████████████████▋                 | 115/150 [17:37:13<5:21:03, 550.38s/it]"
     ]
    },
    {
     "name": "stdout",
     "output_type": "stream",
     "text": [
      "torch.Size([1, 1, 128, 128])\n",
      "[INFO] EPOCH: 115/150\n",
      "Train loss: 0.360798, Validation loss: 0.3629\n",
      "torch.Size([8, 1, 128, 128])\n",
      "torch.Size([8, 1, 128, 128])\n",
      "torch.Size([8, 1, 128, 128])\n",
      "torch.Size([8, 1, 128, 128])\n",
      "torch.Size([8, 1, 128, 128])\n",
      "torch.Size([8, 1, 128, 128])\n",
      "torch.Size([8, 1, 128, 128])\n",
      "torch.Size([8, 1, 128, 128])\n",
      "torch.Size([8, 1, 128, 128])\n",
      "torch.Size([8, 1, 128, 128])\n"
     ]
    },
    {
     "name": "stderr",
     "output_type": "stream",
     "text": [
      "\r",
      " 77%|█████████████████████████████████████████████████████████▏                | 116/150 [17:46:07<5:09:07, 545.53s/it]"
     ]
    },
    {
     "name": "stdout",
     "output_type": "stream",
     "text": [
      "torch.Size([1, 1, 128, 128])\n",
      "[INFO] EPOCH: 116/150\n",
      "Train loss: 0.355564, Validation loss: 0.3651\n",
      "torch.Size([8, 1, 128, 128])\n",
      "torch.Size([8, 1, 128, 128])\n",
      "torch.Size([8, 1, 128, 128])\n",
      "torch.Size([8, 1, 128, 128])\n",
      "torch.Size([8, 1, 128, 128])\n",
      "torch.Size([8, 1, 128, 128])\n",
      "torch.Size([8, 1, 128, 128])\n",
      "torch.Size([8, 1, 128, 128])\n",
      "torch.Size([8, 1, 128, 128])\n",
      "torch.Size([8, 1, 128, 128])\n"
     ]
    },
    {
     "name": "stderr",
     "output_type": "stream",
     "text": [
      "\r",
      " 78%|█████████████████████████████████████████████████████████▋                | 117/150 [17:55:35<5:03:42, 552.20s/it]"
     ]
    },
    {
     "name": "stdout",
     "output_type": "stream",
     "text": [
      "torch.Size([1, 1, 128, 128])\n",
      "[INFO] EPOCH: 117/150\n",
      "Train loss: 0.356099, Validation loss: 0.3662\n",
      "torch.Size([8, 1, 128, 128])\n",
      "torch.Size([8, 1, 128, 128])\n",
      "torch.Size([8, 1, 128, 128])\n",
      "torch.Size([8, 1, 128, 128])\n",
      "torch.Size([8, 1, 128, 128])\n",
      "torch.Size([8, 1, 128, 128])\n",
      "torch.Size([8, 1, 128, 128])\n",
      "torch.Size([8, 1, 128, 128])\n",
      "torch.Size([8, 1, 128, 128])\n",
      "torch.Size([8, 1, 128, 128])\n"
     ]
    },
    {
     "name": "stderr",
     "output_type": "stream",
     "text": [
      "\r",
      " 79%|██████████████████████████████████████████████████████████▏               | 118/150 [18:04:34<4:52:24, 548.25s/it]"
     ]
    },
    {
     "name": "stdout",
     "output_type": "stream",
     "text": [
      "torch.Size([1, 1, 128, 128])\n",
      "[INFO] EPOCH: 118/150\n",
      "Train loss: 0.360971, Validation loss: 0.3701\n",
      "torch.Size([8, 1, 128, 128])\n",
      "torch.Size([8, 1, 128, 128])\n",
      "torch.Size([8, 1, 128, 128])\n",
      "torch.Size([8, 1, 128, 128])\n",
      "torch.Size([8, 1, 128, 128])\n",
      "torch.Size([8, 1, 128, 128])\n",
      "torch.Size([8, 1, 128, 128])\n",
      "torch.Size([8, 1, 128, 128])\n",
      "torch.Size([8, 1, 128, 128])\n",
      "torch.Size([8, 1, 128, 128])\n"
     ]
    },
    {
     "name": "stderr",
     "output_type": "stream",
     "text": [
      "\r",
      " 79%|██████████████████████████████████████████████████████████▋               | 119/150 [18:13:56<4:45:23, 552.39s/it]"
     ]
    },
    {
     "name": "stdout",
     "output_type": "stream",
     "text": [
      "torch.Size([1, 1, 128, 128])\n",
      "[INFO] EPOCH: 119/150\n",
      "Train loss: 0.353797, Validation loss: 0.3720\n",
      "torch.Size([8, 1, 128, 128])\n",
      "torch.Size([8, 1, 128, 128])\n",
      "torch.Size([8, 1, 128, 128])\n",
      "torch.Size([8, 1, 128, 128])\n",
      "torch.Size([8, 1, 128, 128])\n",
      "torch.Size([8, 1, 128, 128])\n",
      "torch.Size([8, 1, 128, 128])\n",
      "torch.Size([8, 1, 128, 128])\n",
      "torch.Size([8, 1, 128, 128])\n",
      "torch.Size([8, 1, 128, 128])\n"
     ]
    },
    {
     "name": "stderr",
     "output_type": "stream",
     "text": [
      "\r",
      " 80%|███████████████████████████████████████████████████████████▏              | 120/150 [18:23:06<4:35:48, 551.62s/it]"
     ]
    },
    {
     "name": "stdout",
     "output_type": "stream",
     "text": [
      "torch.Size([1, 1, 128, 128])\n",
      "[INFO] EPOCH: 120/150\n",
      "Train loss: 0.352723, Validation loss: 0.3531\n",
      "torch.Size([8, 1, 128, 128])\n",
      "torch.Size([8, 1, 128, 128])\n",
      "torch.Size([8, 1, 128, 128])\n",
      "torch.Size([8, 1, 128, 128])\n",
      "torch.Size([8, 1, 128, 128])\n",
      "torch.Size([8, 1, 128, 128])\n",
      "torch.Size([8, 1, 128, 128])\n",
      "torch.Size([8, 1, 128, 128])\n",
      "torch.Size([8, 1, 128, 128])\n",
      "torch.Size([8, 1, 128, 128])\n"
     ]
    },
    {
     "name": "stderr",
     "output_type": "stream",
     "text": [
      "\r",
      " 81%|███████████████████████████████████████████████████████████▋              | 121/150 [18:32:12<4:25:56, 550.22s/it]"
     ]
    },
    {
     "name": "stdout",
     "output_type": "stream",
     "text": [
      "torch.Size([1, 1, 128, 128])\n",
      "[INFO] EPOCH: 121/150\n",
      "Train loss: 0.352797, Validation loss: 0.3723\n",
      "torch.Size([8, 1, 128, 128])\n",
      "torch.Size([8, 1, 128, 128])\n",
      "torch.Size([8, 1, 128, 128])\n",
      "torch.Size([8, 1, 128, 128])\n",
      "torch.Size([8, 1, 128, 128])\n",
      "torch.Size([8, 1, 128, 128])\n",
      "torch.Size([8, 1, 128, 128])\n",
      "torch.Size([8, 1, 128, 128])\n",
      "torch.Size([8, 1, 128, 128])\n",
      "torch.Size([8, 1, 128, 128])\n"
     ]
    },
    {
     "name": "stderr",
     "output_type": "stream",
     "text": [
      "\r",
      " 81%|████████████████████████████████████████████████████████████▏             | 122/150 [18:41:57<4:21:37, 560.62s/it]"
     ]
    },
    {
     "name": "stdout",
     "output_type": "stream",
     "text": [
      "torch.Size([1, 1, 128, 128])\n",
      "[INFO] EPOCH: 122/150\n",
      "Train loss: 0.353255, Validation loss: 0.3666\n",
      "torch.Size([8, 1, 128, 128])\n",
      "torch.Size([8, 1, 128, 128])\n",
      "torch.Size([8, 1, 128, 128])\n",
      "torch.Size([8, 1, 128, 128])\n",
      "torch.Size([8, 1, 128, 128])\n",
      "torch.Size([8, 1, 128, 128])\n",
      "torch.Size([8, 1, 128, 128])\n",
      "torch.Size([8, 1, 128, 128])\n",
      "torch.Size([8, 1, 128, 128])\n",
      "torch.Size([8, 1, 128, 128])\n"
     ]
    },
    {
     "name": "stderr",
     "output_type": "stream",
     "text": [
      "\r",
      " 82%|████████████████████████████████████████████████████████████▋             | 123/150 [18:51:12<4:11:28, 558.83s/it]"
     ]
    },
    {
     "name": "stdout",
     "output_type": "stream",
     "text": [
      "torch.Size([1, 1, 128, 128])\n",
      "[INFO] EPOCH: 123/150\n",
      "Train loss: 0.346215, Validation loss: 0.3600\n",
      "torch.Size([8, 1, 128, 128])\n",
      "torch.Size([8, 1, 128, 128])\n",
      "torch.Size([8, 1, 128, 128])\n",
      "torch.Size([8, 1, 128, 128])\n",
      "torch.Size([8, 1, 128, 128])\n",
      "torch.Size([8, 1, 128, 128])\n",
      "torch.Size([8, 1, 128, 128])\n",
      "torch.Size([8, 1, 128, 128])\n",
      "torch.Size([8, 1, 128, 128])\n",
      "torch.Size([8, 1, 128, 128])\n"
     ]
    },
    {
     "name": "stderr",
     "output_type": "stream",
     "text": [
      "\r",
      " 83%|█████████████████████████████████████████████████████████████▏            | 124/150 [19:00:27<4:01:39, 557.68s/it]"
     ]
    },
    {
     "name": "stdout",
     "output_type": "stream",
     "text": [
      "torch.Size([1, 1, 128, 128])\n",
      "[INFO] EPOCH: 124/150\n",
      "Train loss: 0.345186, Validation loss: 0.3596\n",
      "torch.Size([8, 1, 128, 128])\n",
      "torch.Size([8, 1, 128, 128])\n",
      "torch.Size([8, 1, 128, 128])\n",
      "torch.Size([8, 1, 128, 128])\n",
      "torch.Size([8, 1, 128, 128])\n",
      "torch.Size([8, 1, 128, 128])\n",
      "torch.Size([8, 1, 128, 128])\n",
      "torch.Size([8, 1, 128, 128])\n",
      "torch.Size([8, 1, 128, 128])\n",
      "torch.Size([8, 1, 128, 128])\n"
     ]
    },
    {
     "name": "stderr",
     "output_type": "stream",
     "text": [
      "\r",
      " 83%|█████████████████████████████████████████████████████████████▋            | 125/150 [19:09:42<3:51:58, 556.76s/it]"
     ]
    },
    {
     "name": "stdout",
     "output_type": "stream",
     "text": [
      "torch.Size([1, 1, 128, 128])\n",
      "[INFO] EPOCH: 125/150\n",
      "Train loss: 0.348080, Validation loss: 0.3597\n",
      "torch.Size([8, 1, 128, 128])\n",
      "torch.Size([8, 1, 128, 128])\n",
      "torch.Size([8, 1, 128, 128])\n",
      "torch.Size([8, 1, 128, 128])\n",
      "torch.Size([8, 1, 128, 128])\n",
      "torch.Size([8, 1, 128, 128])\n",
      "torch.Size([8, 1, 128, 128])\n",
      "torch.Size([8, 1, 128, 128])\n",
      "torch.Size([8, 1, 128, 128])\n",
      "torch.Size([8, 1, 128, 128])\n"
     ]
    },
    {
     "name": "stderr",
     "output_type": "stream",
     "text": [
      "\r",
      " 84%|██████████████████████████████████████████████████████████████▏           | 126/150 [19:18:55<3:42:20, 555.85s/it]"
     ]
    },
    {
     "name": "stdout",
     "output_type": "stream",
     "text": [
      "torch.Size([1, 1, 128, 128])\n",
      "[INFO] EPOCH: 126/150\n",
      "Train loss: 0.350675, Validation loss: 0.3484\n",
      "torch.Size([8, 1, 128, 128])\n",
      "torch.Size([8, 1, 128, 128])\n",
      "torch.Size([8, 1, 128, 128])\n",
      "torch.Size([8, 1, 128, 128])\n",
      "torch.Size([8, 1, 128, 128])\n",
      "torch.Size([8, 1, 128, 128])\n",
      "torch.Size([8, 1, 128, 128])\n",
      "torch.Size([8, 1, 128, 128])\n",
      "torch.Size([8, 1, 128, 128])\n",
      "torch.Size([8, 1, 128, 128])\n"
     ]
    },
    {
     "name": "stderr",
     "output_type": "stream",
     "text": [
      "\r",
      " 85%|██████████████████████████████████████████████████████████████▋           | 127/150 [19:27:45<3:30:06, 548.13s/it]"
     ]
    },
    {
     "name": "stdout",
     "output_type": "stream",
     "text": [
      "torch.Size([1, 1, 128, 128])\n",
      "[INFO] EPOCH: 127/150\n",
      "Train loss: 0.350106, Validation loss: 0.3611\n",
      "torch.Size([8, 1, 128, 128])\n",
      "torch.Size([8, 1, 128, 128])\n",
      "torch.Size([8, 1, 128, 128])\n",
      "torch.Size([8, 1, 128, 128])\n",
      "torch.Size([8, 1, 128, 128])\n",
      "torch.Size([8, 1, 128, 128])\n",
      "torch.Size([8, 1, 128, 128])\n",
      "torch.Size([8, 1, 128, 128])\n",
      "torch.Size([8, 1, 128, 128])\n",
      "torch.Size([8, 1, 128, 128])\n"
     ]
    },
    {
     "name": "stderr",
     "output_type": "stream",
     "text": [
      "\r",
      " 85%|███████████████████████████████████████████████████████████████▏          | 128/150 [19:36:28<3:18:09, 540.42s/it]"
     ]
    },
    {
     "name": "stdout",
     "output_type": "stream",
     "text": [
      "torch.Size([1, 1, 128, 128])\n",
      "[INFO] EPOCH: 128/150\n",
      "Train loss: 0.343106, Validation loss: 0.3619\n",
      "torch.Size([8, 1, 128, 128])\n",
      "torch.Size([8, 1, 128, 128])\n",
      "torch.Size([8, 1, 128, 128])\n",
      "torch.Size([8, 1, 128, 128])\n",
      "torch.Size([8, 1, 128, 128])\n",
      "torch.Size([8, 1, 128, 128])\n",
      "torch.Size([8, 1, 128, 128])\n",
      "torch.Size([8, 1, 128, 128])\n",
      "torch.Size([8, 1, 128, 128])\n",
      "torch.Size([8, 1, 128, 128])\n"
     ]
    },
    {
     "name": "stderr",
     "output_type": "stream",
     "text": [
      "\r",
      " 86%|███████████████████████████████████████████████████████████████▋          | 129/150 [19:45:08<3:07:00, 534.31s/it]"
     ]
    },
    {
     "name": "stdout",
     "output_type": "stream",
     "text": [
      "torch.Size([1, 1, 128, 128])\n",
      "[INFO] EPOCH: 129/150\n",
      "Train loss: 0.343473, Validation loss: 0.3549\n",
      "torch.Size([8, 1, 128, 128])\n",
      "torch.Size([8, 1, 128, 128])\n",
      "torch.Size([8, 1, 128, 128])\n",
      "torch.Size([8, 1, 128, 128])\n",
      "torch.Size([8, 1, 128, 128])\n",
      "torch.Size([8, 1, 128, 128])\n",
      "torch.Size([8, 1, 128, 128])\n",
      "torch.Size([8, 1, 128, 128])\n",
      "torch.Size([8, 1, 128, 128])\n",
      "torch.Size([8, 1, 128, 128])\n"
     ]
    },
    {
     "name": "stderr",
     "output_type": "stream",
     "text": [
      "\r",
      " 87%|████████████████████████████████████████████████████████████████▏         | 130/150 [19:53:24<2:54:18, 522.93s/it]"
     ]
    },
    {
     "name": "stdout",
     "output_type": "stream",
     "text": [
      "torch.Size([1, 1, 128, 128])\n",
      "[INFO] EPOCH: 130/150\n",
      "Train loss: 0.337504, Validation loss: 0.3562\n",
      "torch.Size([8, 1, 128, 128])\n",
      "torch.Size([8, 1, 128, 128])\n",
      "torch.Size([8, 1, 128, 128])\n",
      "torch.Size([8, 1, 128, 128])\n",
      "torch.Size([8, 1, 128, 128])\n",
      "torch.Size([8, 1, 128, 128])\n",
      "torch.Size([8, 1, 128, 128])\n",
      "torch.Size([8, 1, 128, 128])\n",
      "torch.Size([8, 1, 128, 128])\n",
      "torch.Size([8, 1, 128, 128])\n"
     ]
    },
    {
     "name": "stderr",
     "output_type": "stream",
     "text": [
      "\r",
      " 87%|████████████████████████████████████████████████████████████████▋         | 131/150 [20:02:03<2:45:09, 521.57s/it]"
     ]
    },
    {
     "name": "stdout",
     "output_type": "stream",
     "text": [
      "torch.Size([1, 1, 128, 128])\n",
      "[INFO] EPOCH: 131/150\n",
      "Train loss: 0.343463, Validation loss: 0.3472\n",
      "torch.Size([8, 1, 128, 128])\n",
      "torch.Size([8, 1, 128, 128])\n",
      "torch.Size([8, 1, 128, 128])\n",
      "torch.Size([8, 1, 128, 128])\n",
      "torch.Size([8, 1, 128, 128])\n",
      "torch.Size([8, 1, 128, 128])\n",
      "torch.Size([8, 1, 128, 128])\n",
      "torch.Size([8, 1, 128, 128])\n",
      "torch.Size([8, 1, 128, 128])\n",
      "torch.Size([8, 1, 128, 128])\n"
     ]
    },
    {
     "name": "stderr",
     "output_type": "stream",
     "text": [
      "\r",
      " 88%|█████████████████████████████████████████████████████████████████         | 132/150 [20:10:24<2:34:36, 515.33s/it]"
     ]
    },
    {
     "name": "stdout",
     "output_type": "stream",
     "text": [
      "torch.Size([1, 1, 128, 128])\n",
      "[INFO] EPOCH: 132/150\n",
      "Train loss: 0.335875, Validation loss: 0.3649\n",
      "torch.Size([8, 1, 128, 128])\n",
      "torch.Size([8, 1, 128, 128])\n",
      "torch.Size([8, 1, 128, 128])\n",
      "torch.Size([8, 1, 128, 128])\n",
      "torch.Size([8, 1, 128, 128])\n",
      "torch.Size([8, 1, 128, 128])\n",
      "torch.Size([8, 1, 128, 128])\n",
      "torch.Size([8, 1, 128, 128])\n",
      "torch.Size([8, 1, 128, 128])\n",
      "torch.Size([8, 1, 128, 128])\n"
     ]
    },
    {
     "name": "stderr",
     "output_type": "stream",
     "text": [
      "\r",
      " 89%|█████████████████████████████████████████████████████████████████▌        | 133/150 [20:18:44<2:24:43, 510.78s/it]"
     ]
    },
    {
     "name": "stdout",
     "output_type": "stream",
     "text": [
      "torch.Size([1, 1, 128, 128])\n",
      "[INFO] EPOCH: 133/150\n",
      "Train loss: 0.342454, Validation loss: 0.3495\n",
      "torch.Size([8, 1, 128, 128])\n",
      "torch.Size([8, 1, 128, 128])\n",
      "torch.Size([8, 1, 128, 128])\n",
      "torch.Size([8, 1, 128, 128])\n",
      "torch.Size([8, 1, 128, 128])\n",
      "torch.Size([8, 1, 128, 128])\n",
      "torch.Size([8, 1, 128, 128])\n",
      "torch.Size([8, 1, 128, 128])\n",
      "torch.Size([8, 1, 128, 128])\n",
      "torch.Size([8, 1, 128, 128])\n"
     ]
    },
    {
     "name": "stderr",
     "output_type": "stream",
     "text": [
      "\r",
      " 89%|██████████████████████████████████████████████████████████████████        | 134/150 [20:27:06<2:15:32, 508.31s/it]"
     ]
    },
    {
     "name": "stdout",
     "output_type": "stream",
     "text": [
      "torch.Size([1, 1, 128, 128])\n",
      "[INFO] EPOCH: 134/150\n",
      "Train loss: 0.339970, Validation loss: 0.4095\n",
      "torch.Size([8, 1, 128, 128])\n",
      "torch.Size([8, 1, 128, 128])\n",
      "torch.Size([8, 1, 128, 128])\n",
      "torch.Size([8, 1, 128, 128])\n",
      "torch.Size([8, 1, 128, 128])\n",
      "torch.Size([8, 1, 128, 128])\n",
      "torch.Size([8, 1, 128, 128])\n",
      "torch.Size([8, 1, 128, 128])\n",
      "torch.Size([8, 1, 128, 128])\n",
      "torch.Size([8, 1, 128, 128])\n",
      "torch.Size([1, 1, 128, 128])\n"
     ]
    },
    {
     "name": "stderr",
     "output_type": "stream",
     "text": [
      "\r",
      " 90%|██████████████████████████████████████████████████████████████████▌       | 135/150 [20:35:33<2:06:58, 507.93s/it]"
     ]
    },
    {
     "name": "stdout",
     "output_type": "stream",
     "text": [
      "[INFO] EPOCH: 135/150\n",
      "Train loss: 0.339477, Validation loss: 0.3540\n",
      "torch.Size([8, 1, 128, 128])\n",
      "torch.Size([8, 1, 128, 128])\n",
      "torch.Size([8, 1, 128, 128])\n",
      "torch.Size([8, 1, 128, 128])\n",
      "torch.Size([8, 1, 128, 128])\n",
      "torch.Size([8, 1, 128, 128])\n",
      "torch.Size([8, 1, 128, 128])\n",
      "torch.Size([8, 1, 128, 128])\n",
      "torch.Size([8, 1, 128, 128])\n",
      "torch.Size([8, 1, 128, 128])\n"
     ]
    },
    {
     "name": "stderr",
     "output_type": "stream",
     "text": [
      "\r",
      " 91%|███████████████████████████████████████████████████████████████████       | 136/150 [20:44:44<2:01:29, 520.66s/it]"
     ]
    },
    {
     "name": "stdout",
     "output_type": "stream",
     "text": [
      "torch.Size([1, 1, 128, 128])\n",
      "[INFO] EPOCH: 136/150\n",
      "Train loss: 0.332717, Validation loss: 0.3417\n",
      "torch.Size([8, 1, 128, 128])\n",
      "torch.Size([8, 1, 128, 128])\n",
      "torch.Size([8, 1, 128, 128])\n",
      "torch.Size([8, 1, 128, 128])\n",
      "torch.Size([8, 1, 128, 128])\n",
      "torch.Size([8, 1, 128, 128])\n",
      "torch.Size([8, 1, 128, 128])\n",
      "torch.Size([8, 1, 128, 128])\n",
      "torch.Size([8, 1, 128, 128])\n",
      "torch.Size([8, 1, 128, 128])\n"
     ]
    },
    {
     "name": "stderr",
     "output_type": "stream",
     "text": [
      "\r",
      " 91%|███████████████████████████████████████████████████████████████████▌      | 137/150 [20:53:49<1:54:26, 528.22s/it]"
     ]
    },
    {
     "name": "stdout",
     "output_type": "stream",
     "text": [
      "torch.Size([1, 1, 128, 128])\n",
      "[INFO] EPOCH: 137/150\n",
      "Train loss: 0.333509, Validation loss: 0.3505\n",
      "torch.Size([8, 1, 128, 128])\n",
      "torch.Size([8, 1, 128, 128])\n",
      "torch.Size([8, 1, 128, 128])\n",
      "torch.Size([8, 1, 128, 128])\n",
      "torch.Size([8, 1, 128, 128])\n",
      "torch.Size([8, 1, 128, 128])\n",
      "torch.Size([8, 1, 128, 128])\n",
      "torch.Size([8, 1, 128, 128])\n",
      "torch.Size([8, 1, 128, 128])\n",
      "torch.Size([8, 1, 128, 128])\n"
     ]
    },
    {
     "name": "stderr",
     "output_type": "stream",
     "text": [
      "\r",
      " 92%|████████████████████████████████████████████████████████████████████      | 138/150 [21:03:10<1:47:35, 537.98s/it]"
     ]
    },
    {
     "name": "stdout",
     "output_type": "stream",
     "text": [
      "torch.Size([1, 1, 128, 128])\n",
      "[INFO] EPOCH: 138/150\n",
      "Train loss: 0.331498, Validation loss: 0.3566\n",
      "torch.Size([8, 1, 128, 128])\n",
      "torch.Size([8, 1, 128, 128])\n",
      "torch.Size([8, 1, 128, 128])\n",
      "torch.Size([8, 1, 128, 128])\n",
      "torch.Size([8, 1, 128, 128])\n",
      "torch.Size([8, 1, 128, 128])\n",
      "torch.Size([8, 1, 128, 128])\n",
      "torch.Size([8, 1, 128, 128])\n",
      "torch.Size([8, 1, 128, 128])\n",
      "torch.Size([8, 1, 128, 128])\n"
     ]
    },
    {
     "name": "stderr",
     "output_type": "stream",
     "text": [
      "\r",
      " 93%|████████████████████████████████████████████████████████████████████▌     | 139/150 [21:12:29<1:39:45, 544.16s/it]"
     ]
    },
    {
     "name": "stdout",
     "output_type": "stream",
     "text": [
      "torch.Size([1, 1, 128, 128])\n",
      "[INFO] EPOCH: 139/150\n",
      "Train loss: 0.336065, Validation loss: 0.3528\n",
      "torch.Size([8, 1, 128, 128])\n",
      "torch.Size([8, 1, 128, 128])\n",
      "torch.Size([8, 1, 128, 128])\n",
      "torch.Size([8, 1, 128, 128])\n",
      "torch.Size([8, 1, 128, 128])\n",
      "torch.Size([8, 1, 128, 128])\n",
      "torch.Size([8, 1, 128, 128])\n",
      "torch.Size([8, 1, 128, 128])\n",
      "torch.Size([8, 1, 128, 128])\n",
      "torch.Size([8, 1, 128, 128])\n"
     ]
    },
    {
     "name": "stderr",
     "output_type": "stream",
     "text": [
      "\r",
      " 93%|█████████████████████████████████████████████████████████████████████     | 140/150 [21:21:36<1:30:49, 544.98s/it]"
     ]
    },
    {
     "name": "stdout",
     "output_type": "stream",
     "text": [
      "torch.Size([1, 1, 128, 128])\n",
      "[INFO] EPOCH: 140/150\n",
      "Train loss: 0.334414, Validation loss: 0.3440\n",
      "torch.Size([8, 1, 128, 128])\n",
      "torch.Size([8, 1, 128, 128])\n",
      "torch.Size([8, 1, 128, 128])\n",
      "torch.Size([8, 1, 128, 128])\n",
      "torch.Size([8, 1, 128, 128])\n",
      "torch.Size([8, 1, 128, 128])\n",
      "torch.Size([8, 1, 128, 128])\n",
      "torch.Size([8, 1, 128, 128])\n",
      "torch.Size([8, 1, 128, 128])\n",
      "torch.Size([8, 1, 128, 128])\n"
     ]
    },
    {
     "name": "stderr",
     "output_type": "stream",
     "text": [
      "\r",
      " 94%|█████████████████████████████████████████████████████████████████████▌    | 141/150 [21:30:41<1:21:45, 545.03s/it]"
     ]
    },
    {
     "name": "stdout",
     "output_type": "stream",
     "text": [
      "torch.Size([1, 1, 128, 128])\n",
      "[INFO] EPOCH: 141/150\n",
      "Train loss: 0.328528, Validation loss: 0.3490\n",
      "torch.Size([8, 1, 128, 128])\n",
      "torch.Size([8, 1, 128, 128])\n",
      "torch.Size([8, 1, 128, 128])\n",
      "torch.Size([8, 1, 128, 128])\n",
      "torch.Size([8, 1, 128, 128])\n",
      "torch.Size([8, 1, 128, 128])\n",
      "torch.Size([8, 1, 128, 128])\n",
      "torch.Size([8, 1, 128, 128])\n",
      "torch.Size([8, 1, 128, 128])\n",
      "torch.Size([8, 1, 128, 128])\n"
     ]
    },
    {
     "name": "stderr",
     "output_type": "stream",
     "text": [
      "\r",
      " 95%|██████████████████████████████████████████████████████████████████████    | 142/150 [21:39:52<1:12:54, 546.85s/it]"
     ]
    },
    {
     "name": "stdout",
     "output_type": "stream",
     "text": [
      "torch.Size([1, 1, 128, 128])\n",
      "[INFO] EPOCH: 142/150\n",
      "Train loss: 0.334579, Validation loss: 0.3693\n",
      "torch.Size([8, 1, 128, 128])\n",
      "torch.Size([8, 1, 128, 128])\n",
      "torch.Size([8, 1, 128, 128])\n",
      "torch.Size([8, 1, 128, 128])\n",
      "torch.Size([8, 1, 128, 128])\n",
      "torch.Size([8, 1, 128, 128])\n",
      "torch.Size([8, 1, 128, 128])\n",
      "torch.Size([8, 1, 128, 128])\n",
      "torch.Size([8, 1, 128, 128])\n",
      "torch.Size([8, 1, 128, 128])\n"
     ]
    },
    {
     "name": "stderr",
     "output_type": "stream",
     "text": [
      "\r",
      " 95%|██████████████████████████████████████████████████████████████████████▌   | 143/150 [21:48:52<1:03:33, 544.84s/it]"
     ]
    },
    {
     "name": "stdout",
     "output_type": "stream",
     "text": [
      "torch.Size([1, 1, 128, 128])\n",
      "[INFO] EPOCH: 143/150\n",
      "Train loss: 0.336210, Validation loss: 0.3800\n",
      "torch.Size([8, 1, 128, 128])\n",
      "torch.Size([8, 1, 128, 128])\n",
      "torch.Size([8, 1, 128, 128])\n",
      "torch.Size([8, 1, 128, 128])\n",
      "torch.Size([8, 1, 128, 128])\n",
      "torch.Size([8, 1, 128, 128])\n",
      "torch.Size([8, 1, 128, 128])\n",
      "torch.Size([8, 1, 128, 128])\n",
      "torch.Size([8, 1, 128, 128])\n",
      "torch.Size([8, 1, 128, 128])\n"
     ]
    },
    {
     "name": "stderr",
     "output_type": "stream",
     "text": [
      "\r",
      " 96%|████████████████████████████████████████████████████████████████████████▉   | 144/150 [21:58:00<54:34, 545.74s/it]"
     ]
    },
    {
     "name": "stdout",
     "output_type": "stream",
     "text": [
      "torch.Size([1, 1, 128, 128])\n",
      "[INFO] EPOCH: 144/150\n",
      "Train loss: 0.343850, Validation loss: 0.3926\n",
      "torch.Size([8, 1, 128, 128])\n",
      "torch.Size([8, 1, 128, 128])\n",
      "torch.Size([8, 1, 128, 128])\n",
      "torch.Size([8, 1, 128, 128])\n",
      "torch.Size([8, 1, 128, 128])\n",
      "torch.Size([8, 1, 128, 128])\n",
      "torch.Size([8, 1, 128, 128])\n",
      "torch.Size([8, 1, 128, 128])\n",
      "torch.Size([8, 1, 128, 128])\n",
      "torch.Size([8, 1, 128, 128])\n"
     ]
    },
    {
     "name": "stderr",
     "output_type": "stream",
     "text": [
      "\r",
      " 97%|█████████████████████████████████████████████████████████████████████████▍  | 145/150 [22:07:16<45:44, 548.81s/it]"
     ]
    },
    {
     "name": "stdout",
     "output_type": "stream",
     "text": [
      "torch.Size([1, 1, 128, 128])\n",
      "[INFO] EPOCH: 145/150\n",
      "Train loss: 0.336926, Validation loss: 0.3634\n",
      "torch.Size([8, 1, 128, 128])\n",
      "torch.Size([8, 1, 128, 128])\n",
      "torch.Size([8, 1, 128, 128])\n",
      "torch.Size([8, 1, 128, 128])\n",
      "torch.Size([8, 1, 128, 128])\n",
      "torch.Size([8, 1, 128, 128])\n",
      "torch.Size([8, 1, 128, 128])\n",
      "torch.Size([8, 1, 128, 128])\n",
      "torch.Size([8, 1, 128, 128])\n",
      "torch.Size([8, 1, 128, 128])\n"
     ]
    },
    {
     "name": "stderr",
     "output_type": "stream",
     "text": [
      "\r",
      " 97%|█████████████████████████████████████████████████████████████████████████▉  | 146/150 [22:16:34<36:46, 551.63s/it]"
     ]
    },
    {
     "name": "stdout",
     "output_type": "stream",
     "text": [
      "torch.Size([1, 1, 128, 128])\n",
      "[INFO] EPOCH: 146/150\n",
      "Train loss: 0.327988, Validation loss: 0.3624\n",
      "torch.Size([8, 1, 128, 128])\n",
      "torch.Size([8, 1, 128, 128])\n",
      "torch.Size([8, 1, 128, 128])\n",
      "torch.Size([8, 1, 128, 128])\n",
      "torch.Size([8, 1, 128, 128])\n",
      "torch.Size([8, 1, 128, 128])\n",
      "torch.Size([8, 1, 128, 128])\n",
      "torch.Size([8, 1, 128, 128])\n",
      "torch.Size([8, 1, 128, 128])\n",
      "torch.Size([8, 1, 128, 128])\n"
     ]
    },
    {
     "name": "stderr",
     "output_type": "stream",
     "text": [
      "\r",
      " 98%|██████████████████████████████████████████████████████████████████████████▍ | 147/150 [22:25:50<27:38, 552.91s/it]"
     ]
    },
    {
     "name": "stdout",
     "output_type": "stream",
     "text": [
      "torch.Size([1, 1, 128, 128])\n",
      "[INFO] EPOCH: 147/150\n",
      "Train loss: 0.326626, Validation loss: 0.3808\n",
      "torch.Size([8, 1, 128, 128])\n",
      "torch.Size([8, 1, 128, 128])\n",
      "torch.Size([8, 1, 128, 128])\n",
      "torch.Size([8, 1, 128, 128])\n",
      "torch.Size([8, 1, 128, 128])\n",
      "torch.Size([8, 1, 128, 128])\n",
      "torch.Size([8, 1, 128, 128])\n",
      "torch.Size([8, 1, 128, 128])\n",
      "torch.Size([8, 1, 128, 128])\n",
      "torch.Size([8, 1, 128, 128])\n"
     ]
    },
    {
     "name": "stderr",
     "output_type": "stream",
     "text": [
      "\r",
      " 99%|██████████████████████████████████████████████████████████████████████████▉ | 148/150 [22:34:57<18:22, 551.04s/it]"
     ]
    },
    {
     "name": "stdout",
     "output_type": "stream",
     "text": [
      "torch.Size([1, 1, 128, 128])\n",
      "[INFO] EPOCH: 148/150\n",
      "Train loss: 0.331660, Validation loss: 0.3519\n",
      "torch.Size([8, 1, 128, 128])\n",
      "torch.Size([8, 1, 128, 128])\n",
      "torch.Size([8, 1, 128, 128])\n",
      "torch.Size([8, 1, 128, 128])\n",
      "torch.Size([8, 1, 128, 128])\n",
      "torch.Size([8, 1, 128, 128])\n",
      "torch.Size([8, 1, 128, 128])\n",
      "torch.Size([8, 1, 128, 128])\n",
      "torch.Size([8, 1, 128, 128])\n",
      "torch.Size([8, 1, 128, 128])\n"
     ]
    },
    {
     "name": "stderr",
     "output_type": "stream",
     "text": [
      "\r",
      " 99%|███████████████████████████████████████████████████████████████████████████▍| 149/150 [22:45:05<09:28, 568.28s/it]"
     ]
    },
    {
     "name": "stdout",
     "output_type": "stream",
     "text": [
      "torch.Size([1, 1, 128, 128])\n",
      "[INFO] EPOCH: 149/150\n",
      "Train loss: 0.326503, Validation loss: 0.3488\n",
      "torch.Size([8, 1, 128, 128])\n",
      "torch.Size([8, 1, 128, 128])\n",
      "torch.Size([8, 1, 128, 128])\n",
      "torch.Size([8, 1, 128, 128])\n",
      "torch.Size([8, 1, 128, 128])\n",
      "torch.Size([8, 1, 128, 128])\n",
      "torch.Size([8, 1, 128, 128])\n",
      "torch.Size([8, 1, 128, 128])\n",
      "torch.Size([8, 1, 128, 128])\n",
      "torch.Size([8, 1, 128, 128])\n"
     ]
    },
    {
     "name": "stderr",
     "output_type": "stream",
     "text": [
      "100%|████████████████████████████████████████████████████████████████████████████| 150/150 [22:55:00<00:00, 550.00s/it]"
     ]
    },
    {
     "name": "stdout",
     "output_type": "stream",
     "text": [
      "torch.Size([1, 1, 128, 128])\n",
      "[INFO] EPOCH: 150/150\n",
      "Train loss: 0.321896, Validation loss: 0.3590\n",
      "[INFO] total time taken to train the model: 82500.42s\n"
     ]
    },
    {
     "name": "stderr",
     "output_type": "stream",
     "text": [
      "\n"
     ]
    }
   ],
   "source": [
    "# loop over epochs\n",
    "print(\"[INFO] training the network...\")\n",
    "startTime = time.time()\n",
    "for e in tqdm(range(config.NUM_EPOCHS)):\n",
    "    # set the model in training mode\n",
    "    unet.train()\n",
    "    # initialize the total training and validation loss\n",
    "    totalTrainLoss = 0\n",
    "    totalTestLoss = 0\n",
    "    # loop over the training set\n",
    "    for (i, (x, y)) in enumerate(trainLoader):\n",
    "        # send the input to the device\n",
    "        ##(x, y) = (x.to(config.DEVICE), y.to(config.DEVICE))\n",
    "        # perform a forward pass and calculate the training loss\n",
    "        pred = unet(x)\n",
    "        loss = lossFunc(pred, y)\n",
    "        # first, zero out any previously accumulated gradients, then\n",
    "        # perform backpropagation, and then update model parameters\n",
    "        opt.zero_grad()\n",
    "        loss.backward()\n",
    "        opt.step()\n",
    "        # add the loss to the total training loss so far\n",
    "        totalTrainLoss += loss\n",
    "        P['x'].append(x)\n",
    "        P['y1'].append(pred)\n",
    "    # switch off autograd\n",
    "    with torch.no_grad():\n",
    "        # set the model in evaluation mode\n",
    "        unet.eval()\n",
    "        # loop over the validation set\n",
    "        for (x, y) in testLoader:\n",
    "            # send the input to the device\n",
    "            print(y.shape)\n",
    "            ##(x, y) = (x.to(config.DEVICE), y.to(config.DEVICE))\n",
    "            # make the predictions and calculate the validation loss\n",
    "            pred = unet(x)\n",
    "            totalTestLoss += lossFunc(pred, y)\n",
    "            P['x'].append(x)\n",
    "            P['y1'].append(pred)\n",
    "    # calculate the average training and validation loss\n",
    "    avgTrainLoss = totalTrainLoss / trainSteps\n",
    "    avgTestLoss = totalTestLoss / testSteps\n",
    "    # update our training history\n",
    "    H[\"train_loss\"].append(avgTrainLoss.cpu().detach().numpy())\n",
    "    H[\"test_loss\"].append(avgTestLoss.cpu().detach().numpy())\n",
    "    # print the model training and validation information\n",
    "    print(\"[INFO] EPOCH: {}/{}\".format(e + 1, config.NUM_EPOCHS))\n",
    "    print(\"Train loss: {:.6f}, Validation loss: {:.4f}\".format(\n",
    "        avgTrainLoss, avgTestLoss))\n",
    "# display the total time needed to perform the training\n",
    "endTime = time.time()\n",
    "print(\"[INFO] total time taken to train the model: {:.2f}s\".format(\n",
    "    endTime - startTime))"
   ]
  },
  {
   "cell_type": "code",
   "execution_count": 9,
   "id": "afee5ff1",
   "metadata": {},
   "outputs": [
    {
     "data": {
      "image/png": "[encoded data removed]",
      "text/plain": [
       "<Figure size 432x288 with 1 Axes>"
      ]
     },
     "metadata": {},
     "output_type": "display_data"
    }
   ],
   "source": [
    "# plot the training loss\n",
    "plt.style.use(\"ggplot\")\n",
    "plt.figure()\n",
    "plt.plot(H[\"train_loss\"], label=\"train_loss\")\n",
    "plt.plot(H[\"test_loss\"], label=\"val_loss\")\n",
    "plt.title(\"Training Loss on Dataset\")\n",
    "plt.xlabel(\"Epoch #\")\n",
    "plt.ylabel(\"Loss\")\n",
    "plt.legend(loc=\"lower left\")\n",
    "plt.savefig(config.PLOT_PATH)"
   ]
  },
  {
   "cell_type": "code",
   "execution_count": 10,
   "id": "43c65eb9",
   "metadata": {},
   "outputs": [],
   "source": [
    "# serialize the model to disk\n",
    "torch.save(unet, config.MODEL_PATH)"
   ]
  },
  {
   "cell_type": "code",
   "execution_count": 12,
   "id": "9ce56ab2",
   "metadata": {},
   "outputs": [
    {
     "data": {
      "text/plain": [
       "['..\\\\cellpose dataset\\\\train_img\\\\033_img.png',\n",
       " '..\\\\cellpose dataset\\\\train_img\\\\084_img.png',\n",
       " '..\\\\cellpose dataset\\\\train_img\\\\177_img.png',\n",
       " '..\\\\cellpose dataset\\\\train_img\\\\000_img.png',\n",
       " '..\\\\cellpose dataset\\\\train_img\\\\011_img.png',\n",
       " '..\\\\cellpose dataset\\\\train_img\\\\472_img.png',\n",
       " '..\\\\cellpose dataset\\\\train_img\\\\022_img.png',\n",
       " '..\\\\cellpose dataset\\\\train_img\\\\356_img.png',\n",
       " '..\\\\cellpose dataset\\\\train_img\\\\090_img.png',\n",
       " '..\\\\cellpose dataset\\\\train_img\\\\089_img.png',\n",
       " '..\\\\cellpose dataset\\\\train_img\\\\153_img.png',\n",
       " '..\\\\cellpose dataset\\\\train_img\\\\277_img.png',\n",
       " '..\\\\cellpose dataset\\\\train_img\\\\137_img.png',\n",
       " '..\\\\cellpose dataset\\\\train_img\\\\376_img.png',\n",
       " '..\\\\cellpose dataset\\\\train_img\\\\131_img.png',\n",
       " '..\\\\cellpose dataset\\\\train_img\\\\429_img.png',\n",
       " '..\\\\cellpose dataset\\\\train_img\\\\018_img.png',\n",
       " '..\\\\cellpose dataset\\\\train_img\\\\280_img.png',\n",
       " '..\\\\cellpose dataset\\\\train_img\\\\448_img.png',\n",
       " '..\\\\cellpose dataset\\\\train_img\\\\015_img.png',\n",
       " '..\\\\cellpose dataset\\\\train_img\\\\307_img.png',\n",
       " '..\\\\cellpose dataset\\\\train_img\\\\039_img.png',\n",
       " '..\\\\cellpose dataset\\\\train_img\\\\498_img.png',\n",
       " '..\\\\cellpose dataset\\\\train_img\\\\148_img.png',\n",
       " '..\\\\cellpose dataset\\\\train_img\\\\046_img.png',\n",
       " '..\\\\cellpose dataset\\\\train_img\\\\093_img.png',\n",
       " '..\\\\cellpose dataset\\\\train_img\\\\406_img.png',\n",
       " '..\\\\cellpose dataset\\\\train_img\\\\182_img.png',\n",
       " '..\\\\cellpose dataset\\\\train_img\\\\244_img.png',\n",
       " '..\\\\cellpose dataset\\\\train_img\\\\539_img.png',\n",
       " '..\\\\cellpose dataset\\\\train_img\\\\390_img.png',\n",
       " '..\\\\cellpose dataset\\\\train_img\\\\453_img.png',\n",
       " '..\\\\cellpose dataset\\\\train_img\\\\352_img.png',\n",
       " '..\\\\cellpose dataset\\\\train_img\\\\255_img.png',\n",
       " '..\\\\cellpose dataset\\\\train_img\\\\305_img.png',\n",
       " '..\\\\cellpose dataset\\\\train_img\\\\518_img.png',\n",
       " '..\\\\cellpose dataset\\\\train_img\\\\400_img.png',\n",
       " '..\\\\cellpose dataset\\\\train_img\\\\318_img.png',\n",
       " '..\\\\cellpose dataset\\\\train_img\\\\238_img.png',\n",
       " '..\\\\cellpose dataset\\\\train_img\\\\536_img.png',\n",
       " '..\\\\cellpose dataset\\\\train_img\\\\489_img.png',\n",
       " '..\\\\cellpose dataset\\\\train_img\\\\384_img.png',\n",
       " '..\\\\cellpose dataset\\\\train_img\\\\069_img.png',\n",
       " '..\\\\cellpose dataset\\\\train_img\\\\382_img.png',\n",
       " '..\\\\cellpose dataset\\\\train_img\\\\322_img.png',\n",
       " '..\\\\cellpose dataset\\\\train_img\\\\346_img.png',\n",
       " '..\\\\cellpose dataset\\\\train_img\\\\355_img.png',\n",
       " '..\\\\cellpose dataset\\\\train_img\\\\155_img.png',\n",
       " '..\\\\cellpose dataset\\\\train_img\\\\247_img.png',\n",
       " '..\\\\cellpose dataset\\\\train_img\\\\124_img.png',\n",
       " '..\\\\cellpose dataset\\\\train_img\\\\381_img.png',\n",
       " '..\\\\cellpose dataset\\\\train_img\\\\204_img.png',\n",
       " '..\\\\cellpose dataset\\\\train_img\\\\172_img.png',\n",
       " '..\\\\cellpose dataset\\\\train_img\\\\211_img.png',\n",
       " '..\\\\cellpose dataset\\\\train_img\\\\397_img.png',\n",
       " '..\\\\cellpose dataset\\\\train_img\\\\508_img.png',\n",
       " '..\\\\cellpose dataset\\\\train_img\\\\477_img.png',\n",
       " '..\\\\cellpose dataset\\\\train_img\\\\210_img.png',\n",
       " '..\\\\cellpose dataset\\\\train_img\\\\299_img.png',\n",
       " '..\\\\cellpose dataset\\\\train_img\\\\426_img.png',\n",
       " '..\\\\cellpose dataset\\\\train_img\\\\019_img.png',\n",
       " '..\\\\cellpose dataset\\\\train_img\\\\367_img.png',\n",
       " '..\\\\cellpose dataset\\\\train_img\\\\056_img.png',\n",
       " '..\\\\cellpose dataset\\\\train_img\\\\218_img.png',\n",
       " '..\\\\cellpose dataset\\\\train_img\\\\450_img.png',\n",
       " '..\\\\cellpose dataset\\\\train_img\\\\438_img.png',\n",
       " '..\\\\cellpose dataset\\\\train_img\\\\532_img.png',\n",
       " '..\\\\cellpose dataset\\\\train_img\\\\502_img.png',\n",
       " '..\\\\cellpose dataset\\\\train_img\\\\025_img.png',\n",
       " '..\\\\cellpose dataset\\\\train_img\\\\278_img.png',\n",
       " '..\\\\cellpose dataset\\\\train_img\\\\042_img.png',\n",
       " '..\\\\cellpose dataset\\\\train_img\\\\439_img.png',\n",
       " '..\\\\cellpose dataset\\\\train_img\\\\248_img.png',\n",
       " '..\\\\cellpose dataset\\\\train_img\\\\432_img.png',\n",
       " '..\\\\cellpose dataset\\\\train_img\\\\333_img.png',\n",
       " '..\\\\cellpose dataset\\\\train_img\\\\154_img.png',\n",
       " '..\\\\cellpose dataset\\\\train_img\\\\126_img.png',\n",
       " '..\\\\cellpose dataset\\\\train_img\\\\275_img.png',\n",
       " '..\\\\cellpose dataset\\\\train_img\\\\361_img.png',\n",
       " '..\\\\cellpose dataset\\\\train_img\\\\031_img.png',\n",
       " '..\\\\cellpose dataset\\\\train_img\\\\113_img.png',\n",
       " '..\\\\cellpose dataset\\\\train_img\\\\380_img.png',\n",
       " '..\\\\cellpose dataset\\\\train_img\\\\473_img.png',\n",
       " '..\\\\cellpose dataset\\\\train_img\\\\369_img.png',\n",
       " '..\\\\cellpose dataset\\\\train_img\\\\057_img.png',\n",
       " '..\\\\cellpose dataset\\\\train_img\\\\332_img.png',\n",
       " '..\\\\cellpose dataset\\\\train_img\\\\024_img.png',\n",
       " '..\\\\cellpose dataset\\\\train_img\\\\017_img.png',\n",
       " '..\\\\cellpose dataset\\\\train_img\\\\456_img.png',\n",
       " '..\\\\cellpose dataset\\\\train_img\\\\066_img.png',\n",
       " '..\\\\cellpose dataset\\\\train_img\\\\228_img.png',\n",
       " '..\\\\cellpose dataset\\\\train_img\\\\482_img.png',\n",
       " '..\\\\cellpose dataset\\\\train_img\\\\513_img.png',\n",
       " '..\\\\cellpose dataset\\\\train_img\\\\442_img.png',\n",
       " '..\\\\cellpose dataset\\\\train_img\\\\094_img.png',\n",
       " '..\\\\cellpose dataset\\\\train_img\\\\184_img.png',\n",
       " '..\\\\cellpose dataset\\\\train_img\\\\291_img.png',\n",
       " '..\\\\cellpose dataset\\\\train_img\\\\023_img.png',\n",
       " '..\\\\cellpose dataset\\\\train_img\\\\265_img.png',\n",
       " '..\\\\cellpose dataset\\\\train_img\\\\287_img.png',\n",
       " '..\\\\cellpose dataset\\\\train_img\\\\483_img.png',\n",
       " '..\\\\cellpose dataset\\\\train_img\\\\005_img.png',\n",
       " '..\\\\cellpose dataset\\\\train_img\\\\116_img.png',\n",
       " '..\\\\cellpose dataset\\\\train_img\\\\045_img.png',\n",
       " '..\\\\cellpose dataset\\\\train_img\\\\231_img.png',\n",
       " '..\\\\cellpose dataset\\\\train_img\\\\304_img.png',\n",
       " '..\\\\cellpose dataset\\\\train_img\\\\016_img.png',\n",
       " '..\\\\cellpose dataset\\\\train_img\\\\048_img.png',\n",
       " '..\\\\cellpose dataset\\\\train_img\\\\395_img.png',\n",
       " '..\\\\cellpose dataset\\\\train_img\\\\003_img.png',\n",
       " '..\\\\cellpose dataset\\\\train_img\\\\412_img.png',\n",
       " '..\\\\cellpose dataset\\\\train_img\\\\222_img.png',\n",
       " '..\\\\cellpose dataset\\\\train_img\\\\060_img.png',\n",
       " '..\\\\cellpose dataset\\\\train_img\\\\519_img.png',\n",
       " '..\\\\cellpose dataset\\\\train_img\\\\110_img.png',\n",
       " '..\\\\cellpose dataset\\\\train_img\\\\353_img.png',\n",
       " '..\\\\cellpose dataset\\\\train_img\\\\289_img.png',\n",
       " '..\\\\cellpose dataset\\\\train_img\\\\029_img.png',\n",
       " '..\\\\cellpose dataset\\\\train_img\\\\529_img.png',\n",
       " '..\\\\cellpose dataset\\\\train_img\\\\452_img.png',\n",
       " '..\\\\cellpose dataset\\\\train_img\\\\026_img.png',\n",
       " '..\\\\cellpose dataset\\\\train_img\\\\007_img.png',\n",
       " '..\\\\cellpose dataset\\\\train_img\\\\181_img.png',\n",
       " '..\\\\cellpose dataset\\\\train_img\\\\500_img.png',\n",
       " '..\\\\cellpose dataset\\\\train_img\\\\108_img.png',\n",
       " '..\\\\cellpose dataset\\\\train_img\\\\037_img.png',\n",
       " '..\\\\cellpose dataset\\\\train_img\\\\157_img.png',\n",
       " '..\\\\cellpose dataset\\\\train_img\\\\514_img.png',\n",
       " '..\\\\cellpose dataset\\\\train_img\\\\118_img.png',\n",
       " '..\\\\cellpose dataset\\\\train_img\\\\114_img.png',\n",
       " '..\\\\cellpose dataset\\\\train_img\\\\286_img.png',\n",
       " '..\\\\cellpose dataset\\\\train_img\\\\203_img.png',\n",
       " '..\\\\cellpose dataset\\\\train_img\\\\175_img.png',\n",
       " '..\\\\cellpose dataset\\\\train_img\\\\225_img.png',\n",
       " '..\\\\cellpose dataset\\\\train_img\\\\220_img.png',\n",
       " '..\\\\cellpose dataset\\\\train_img\\\\144_img.png',\n",
       " '..\\\\cellpose dataset\\\\train_img\\\\194_img.png',\n",
       " '..\\\\cellpose dataset\\\\train_img\\\\408_img.png',\n",
       " '..\\\\cellpose dataset\\\\train_img\\\\420_img.png',\n",
       " '..\\\\cellpose dataset\\\\train_img\\\\237_img.png',\n",
       " '..\\\\cellpose dataset\\\\train_img\\\\281_img.png',\n",
       " '..\\\\cellpose dataset\\\\train_img\\\\403_img.png',\n",
       " '..\\\\cellpose dataset\\\\train_img\\\\522_img.png',\n",
       " '..\\\\cellpose dataset\\\\train_img\\\\141_img.png',\n",
       " '..\\\\cellpose dataset\\\\train_img\\\\404_img.png',\n",
       " '..\\\\cellpose dataset\\\\train_img\\\\067_img.png',\n",
       " '..\\\\cellpose dataset\\\\train_img\\\\296_img.png',\n",
       " '..\\\\cellpose dataset\\\\train_img\\\\227_img.png',\n",
       " '..\\\\cellpose dataset\\\\train_img\\\\168_img.png',\n",
       " '..\\\\cellpose dataset\\\\train_img\\\\188_img.png',\n",
       " '..\\\\cellpose dataset\\\\train_img\\\\516_img.png',\n",
       " '..\\\\cellpose dataset\\\\train_img\\\\415_img.png',\n",
       " '..\\\\cellpose dataset\\\\train_img\\\\416_img.png',\n",
       " '..\\\\cellpose dataset\\\\train_img\\\\193_img.png',\n",
       " '..\\\\cellpose dataset\\\\train_img\\\\081_img.png',\n",
       " '..\\\\cellpose dataset\\\\train_img\\\\109_img.png',\n",
       " '..\\\\cellpose dataset\\\\train_img\\\\320_img.png',\n",
       " '..\\\\cellpose dataset\\\\train_img\\\\145_img.png',\n",
       " '..\\\\cellpose dataset\\\\train_img\\\\092_img.png',\n",
       " '..\\\\cellpose dataset\\\\train_img\\\\152_img.png',\n",
       " '..\\\\cellpose dataset\\\\train_img\\\\261_img.png',\n",
       " '..\\\\cellpose dataset\\\\train_img\\\\434_img.png',\n",
       " '..\\\\cellpose dataset\\\\train_img\\\\447_img.png',\n",
       " '..\\\\cellpose dataset\\\\train_img\\\\394_img.png',\n",
       " '..\\\\cellpose dataset\\\\train_img\\\\083_img.png',\n",
       " '..\\\\cellpose dataset\\\\train_img\\\\103_img.png',\n",
       " '..\\\\cellpose dataset\\\\train_img\\\\165_img.png',\n",
       " '..\\\\cellpose dataset\\\\train_img\\\\163_img.png',\n",
       " '..\\\\cellpose dataset\\\\train_img\\\\199_img.png',\n",
       " '..\\\\cellpose dataset\\\\train_img\\\\329_img.png',\n",
       " '..\\\\cellpose dataset\\\\train_img\\\\074_img.png',\n",
       " '..\\\\cellpose dataset\\\\train_img\\\\341_img.png',\n",
       " '..\\\\cellpose dataset\\\\train_img\\\\257_img.png',\n",
       " '..\\\\cellpose dataset\\\\train_img\\\\517_img.png',\n",
       " '..\\\\cellpose dataset\\\\train_img\\\\119_img.png',\n",
       " '..\\\\cellpose dataset\\\\train_img\\\\310_img.png',\n",
       " '..\\\\cellpose dataset\\\\train_img\\\\348_img.png',\n",
       " '..\\\\cellpose dataset\\\\train_img\\\\392_img.png',\n",
       " '..\\\\cellpose dataset\\\\train_img\\\\441_img.png',\n",
       " '..\\\\cellpose dataset\\\\train_img\\\\422_img.png',\n",
       " '..\\\\cellpose dataset\\\\train_img\\\\274_img.png',\n",
       " '..\\\\cellpose dataset\\\\train_img\\\\364_img.png',\n",
       " '..\\\\cellpose dataset\\\\train_img\\\\423_img.png',\n",
       " '..\\\\cellpose dataset\\\\train_img\\\\302_img.png',\n",
       " '..\\\\cellpose dataset\\\\train_img\\\\036_img.png',\n",
       " '..\\\\cellpose dataset\\\\train_img\\\\139_img.png',\n",
       " '..\\\\cellpose dataset\\\\train_img\\\\253_img.png',\n",
       " '..\\\\cellpose dataset\\\\train_img\\\\515_img.png',\n",
       " '..\\\\cellpose dataset\\\\train_img\\\\059_img.png',\n",
       " '..\\\\cellpose dataset\\\\train_img\\\\111_img.png',\n",
       " '..\\\\cellpose dataset\\\\train_img\\\\290_img.png',\n",
       " '..\\\\cellpose dataset\\\\train_img\\\\354_img.png',\n",
       " '..\\\\cellpose dataset\\\\train_img\\\\262_img.png',\n",
       " '..\\\\cellpose dataset\\\\train_img\\\\399_img.png',\n",
       " '..\\\\cellpose dataset\\\\train_img\\\\150_img.png',\n",
       " '..\\\\cellpose dataset\\\\train_img\\\\266_img.png',\n",
       " '..\\\\cellpose dataset\\\\train_img\\\\421_img.png',\n",
       " '..\\\\cellpose dataset\\\\train_img\\\\038_img.png',\n",
       " '..\\\\cellpose dataset\\\\train_img\\\\347_img.png',\n",
       " '..\\\\cellpose dataset\\\\train_img\\\\198_img.png',\n",
       " '..\\\\cellpose dataset\\\\train_img\\\\284_img.png',\n",
       " '..\\\\cellpose dataset\\\\train_img\\\\146_img.png',\n",
       " '..\\\\cellpose dataset\\\\train_img\\\\433_img.png',\n",
       " '..\\\\cellpose dataset\\\\train_img\\\\147_img.png',\n",
       " '..\\\\cellpose dataset\\\\train_img\\\\449_img.png',\n",
       " '..\\\\cellpose dataset\\\\train_img\\\\485_img.png',\n",
       " '..\\\\cellpose dataset\\\\train_img\\\\123_img.png',\n",
       " '..\\\\cellpose dataset\\\\train_img\\\\407_img.png',\n",
       " '..\\\\cellpose dataset\\\\train_img\\\\096_img.png',\n",
       " '..\\\\cellpose dataset\\\\train_img\\\\143_img.png',\n",
       " '..\\\\cellpose dataset\\\\train_img\\\\239_img.png',\n",
       " '..\\\\cellpose dataset\\\\train_img\\\\301_img.png',\n",
       " '..\\\\cellpose dataset\\\\train_img\\\\097_img.png',\n",
       " '..\\\\cellpose dataset\\\\train_img\\\\436_img.png',\n",
       " '..\\\\cellpose dataset\\\\train_img\\\\293_img.png',\n",
       " '..\\\\cellpose dataset\\\\train_img\\\\388_img.png',\n",
       " '..\\\\cellpose dataset\\\\train_img\\\\122_img.png',\n",
       " '..\\\\cellpose dataset\\\\train_img\\\\183_img.png',\n",
       " '..\\\\cellpose dataset\\\\train_img\\\\202_img.png',\n",
       " '..\\\\cellpose dataset\\\\train_img\\\\246_img.png',\n",
       " '..\\\\cellpose dataset\\\\train_img\\\\338_img.png',\n",
       " '..\\\\cellpose dataset\\\\train_img\\\\490_img.png',\n",
       " '..\\\\cellpose dataset\\\\train_img\\\\462_img.png',\n",
       " '..\\\\cellpose dataset\\\\train_img\\\\331_img.png',\n",
       " '..\\\\cellpose dataset\\\\train_img\\\\437_img.png',\n",
       " '..\\\\cellpose dataset\\\\train_img\\\\312_img.png',\n",
       " '..\\\\cellpose dataset\\\\train_img\\\\125_img.png',\n",
       " '..\\\\cellpose dataset\\\\train_img\\\\334_img.png',\n",
       " '..\\\\cellpose dataset\\\\train_img\\\\223_img.png',\n",
       " '..\\\\cellpose dataset\\\\train_img\\\\461_img.png',\n",
       " '..\\\\cellpose dataset\\\\train_img\\\\219_img.png',\n",
       " '..\\\\cellpose dataset\\\\train_img\\\\129_img.png',\n",
       " '..\\\\cellpose dataset\\\\train_img\\\\506_img.png',\n",
       " '..\\\\cellpose dataset\\\\train_img\\\\323_img.png',\n",
       " '..\\\\cellpose dataset\\\\train_img\\\\499_img.png',\n",
       " '..\\\\cellpose dataset\\\\train_img\\\\417_img.png',\n",
       " '..\\\\cellpose dataset\\\\train_img\\\\496_img.png',\n",
       " '..\\\\cellpose dataset\\\\train_img\\\\393_img.png',\n",
       " '..\\\\cellpose dataset\\\\train_img\\\\324_img.png',\n",
       " '..\\\\cellpose dataset\\\\train_img\\\\294_img.png',\n",
       " '..\\\\cellpose dataset\\\\train_img\\\\405_img.png',\n",
       " '..\\\\cellpose dataset\\\\train_img\\\\375_img.png',\n",
       " '..\\\\cellpose dataset\\\\train_img\\\\336_img.png',\n",
       " '..\\\\cellpose dataset\\\\train_img\\\\112_img.png',\n",
       " '..\\\\cellpose dataset\\\\train_img\\\\179_img.png',\n",
       " '..\\\\cellpose dataset\\\\train_img\\\\340_img.png',\n",
       " '..\\\\cellpose dataset\\\\train_img\\\\374_img.png',\n",
       " '..\\\\cellpose dataset\\\\train_img\\\\365_img.png',\n",
       " '..\\\\cellpose dataset\\\\train_img\\\\314_img.png',\n",
       " '..\\\\cellpose dataset\\\\train_img\\\\151_img.png',\n",
       " '..\\\\cellpose dataset\\\\train_img\\\\398_img.png',\n",
       " '..\\\\cellpose dataset\\\\train_img\\\\233_img.png',\n",
       " '..\\\\cellpose dataset\\\\train_img\\\\493_img.png',\n",
       " '..\\\\cellpose dataset\\\\train_img\\\\425_img.png',\n",
       " '..\\\\cellpose dataset\\\\train_img\\\\164_img.png',\n",
       " '..\\\\cellpose dataset\\\\train_img\\\\317_img.png',\n",
       " '..\\\\cellpose dataset\\\\train_img\\\\136_img.png',\n",
       " '..\\\\cellpose dataset\\\\train_img\\\\197_img.png',\n",
       " '..\\\\cellpose dataset\\\\train_img\\\\258_img.png',\n",
       " '..\\\\cellpose dataset\\\\train_img\\\\232_img.png',\n",
       " '..\\\\cellpose dataset\\\\train_img\\\\115_img.png',\n",
       " '..\\\\cellpose dataset\\\\train_img\\\\120_img.png',\n",
       " '..\\\\cellpose dataset\\\\train_img\\\\386_img.png',\n",
       " '..\\\\cellpose dataset\\\\train_img\\\\224_img.png',\n",
       " '..\\\\cellpose dataset\\\\train_img\\\\444_img.png',\n",
       " '..\\\\cellpose dataset\\\\train_img\\\\527_img.png',\n",
       " '..\\\\cellpose dataset\\\\train_img\\\\127_img.png',\n",
       " '..\\\\cellpose dataset\\\\train_img\\\\530_img.png',\n",
       " '..\\\\cellpose dataset\\\\train_img\\\\285_img.png',\n",
       " '..\\\\cellpose dataset\\\\train_img\\\\478_img.png',\n",
       " '..\\\\cellpose dataset\\\\train_img\\\\512_img.png',\n",
       " '..\\\\cellpose dataset\\\\train_img\\\\107_img.png',\n",
       " '..\\\\cellpose dataset\\\\train_img\\\\538_img.png',\n",
       " '..\\\\cellpose dataset\\\\train_img\\\\360_img.png',\n",
       " '..\\\\cellpose dataset\\\\train_img\\\\133_img.png',\n",
       " '..\\\\cellpose dataset\\\\train_img\\\\402_img.png',\n",
       " '..\\\\cellpose dataset\\\\train_img\\\\044_img.png',\n",
       " '..\\\\cellpose dataset\\\\train_img\\\\509_img.png',\n",
       " '..\\\\cellpose dataset\\\\train_img\\\\065_img.png',\n",
       " '..\\\\cellpose dataset\\\\train_img\\\\283_img.png',\n",
       " '..\\\\cellpose dataset\\\\train_img\\\\085_img.png',\n",
       " '..\\\\cellpose dataset\\\\train_img\\\\242_img.png',\n",
       " '..\\\\cellpose dataset\\\\train_img\\\\186_img.png',\n",
       " '..\\\\cellpose dataset\\\\train_img\\\\424_img.png',\n",
       " '..\\\\cellpose dataset\\\\train_img\\\\159_img.png',\n",
       " '..\\\\cellpose dataset\\\\train_img\\\\012_img.png',\n",
       " '..\\\\cellpose dataset\\\\train_img\\\\035_img.png',\n",
       " '..\\\\cellpose dataset\\\\train_img\\\\028_img.png',\n",
       " '..\\\\cellpose dataset\\\\train_img\\\\170_img.png',\n",
       " '..\\\\cellpose dataset\\\\train_img\\\\142_img.png',\n",
       " '..\\\\cellpose dataset\\\\train_img\\\\440_img.png',\n",
       " '..\\\\cellpose dataset\\\\train_img\\\\377_img.png',\n",
       " '..\\\\cellpose dataset\\\\train_img\\\\221_img.png',\n",
       " '..\\\\cellpose dataset\\\\train_img\\\\095_img.png',\n",
       " '..\\\\cellpose dataset\\\\train_img\\\\051_img.png',\n",
       " '..\\\\cellpose dataset\\\\train_img\\\\240_img.png',\n",
       " '..\\\\cellpose dataset\\\\train_img\\\\411_img.png',\n",
       " '..\\\\cellpose dataset\\\\train_img\\\\351_img.png',\n",
       " '..\\\\cellpose dataset\\\\train_img\\\\467_img.png',\n",
       " '..\\\\cellpose dataset\\\\train_img\\\\178_img.png',\n",
       " '..\\\\cellpose dataset\\\\train_img\\\\431_img.png',\n",
       " '..\\\\cellpose dataset\\\\train_img\\\\041_img.png',\n",
       " '..\\\\cellpose dataset\\\\train_img\\\\481_img.png',\n",
       " '..\\\\cellpose dataset\\\\train_img\\\\428_img.png',\n",
       " '..\\\\cellpose dataset\\\\train_img\\\\206_img.png',\n",
       " '..\\\\cellpose dataset\\\\train_img\\\\282_img.png',\n",
       " '..\\\\cellpose dataset\\\\train_img\\\\358_img.png',\n",
       " '..\\\\cellpose dataset\\\\train_img\\\\254_img.png',\n",
       " '..\\\\cellpose dataset\\\\train_img\\\\455_img.png',\n",
       " '..\\\\cellpose dataset\\\\train_img\\\\004_img.png',\n",
       " '..\\\\cellpose dataset\\\\train_img\\\\256_img.png',\n",
       " '..\\\\cellpose dataset\\\\train_img\\\\495_img.png',\n",
       " '..\\\\cellpose dataset\\\\train_img\\\\100_img.png',\n",
       " '..\\\\cellpose dataset\\\\train_img\\\\226_img.png',\n",
       " '..\\\\cellpose dataset\\\\train_img\\\\470_img.png',\n",
       " '..\\\\cellpose dataset\\\\train_img\\\\213_img.png',\n",
       " '..\\\\cellpose dataset\\\\train_img\\\\465_img.png',\n",
       " '..\\\\cellpose dataset\\\\train_img\\\\171_img.png',\n",
       " '..\\\\cellpose dataset\\\\train_img\\\\098_img.png',\n",
       " '..\\\\cellpose dataset\\\\train_img\\\\292_img.png',\n",
       " '..\\\\cellpose dataset\\\\train_img\\\\215_img.png',\n",
       " '..\\\\cellpose dataset\\\\train_img\\\\061_img.png',\n",
       " '..\\\\cellpose dataset\\\\train_img\\\\047_img.png',\n",
       " '..\\\\cellpose dataset\\\\train_img\\\\032_img.png',\n",
       " '..\\\\cellpose dataset\\\\train_img\\\\267_img.png',\n",
       " '..\\\\cellpose dataset\\\\train_img\\\\327_img.png',\n",
       " '..\\\\cellpose dataset\\\\train_img\\\\200_img.png',\n",
       " '..\\\\cellpose dataset\\\\train_img\\\\492_img.png',\n",
       " '..\\\\cellpose dataset\\\\train_img\\\\027_img.png',\n",
       " '..\\\\cellpose dataset\\\\train_img\\\\471_img.png',\n",
       " '..\\\\cellpose dataset\\\\train_img\\\\230_img.png',\n",
       " '..\\\\cellpose dataset\\\\train_img\\\\260_img.png',\n",
       " '..\\\\cellpose dataset\\\\train_img\\\\378_img.png',\n",
       " '..\\\\cellpose dataset\\\\train_img\\\\288_img.png',\n",
       " '..\\\\cellpose dataset\\\\train_img\\\\162_img.png',\n",
       " '..\\\\cellpose dataset\\\\train_img\\\\391_img.png',\n",
       " '..\\\\cellpose dataset\\\\train_img\\\\468_img.png',\n",
       " '..\\\\cellpose dataset\\\\train_img\\\\138_img.png',\n",
       " '..\\\\cellpose dataset\\\\train_img\\\\062_img.png',\n",
       " '..\\\\cellpose dataset\\\\train_img\\\\135_img.png',\n",
       " '..\\\\cellpose dataset\\\\train_img\\\\128_img.png',\n",
       " '..\\\\cellpose dataset\\\\train_img\\\\523_img.png',\n",
       " '..\\\\cellpose dataset\\\\train_img\\\\008_img.png',\n",
       " '..\\\\cellpose dataset\\\\train_img\\\\326_img.png',\n",
       " '..\\\\cellpose dataset\\\\train_img\\\\344_img.png',\n",
       " '..\\\\cellpose dataset\\\\train_img\\\\064_img.png',\n",
       " '..\\\\cellpose dataset\\\\train_img\\\\300_img.png',\n",
       " '..\\\\cellpose dataset\\\\train_img\\\\014_img.png',\n",
       " '..\\\\cellpose dataset\\\\train_img\\\\156_img.png',\n",
       " '..\\\\cellpose dataset\\\\train_img\\\\040_img.png',\n",
       " '..\\\\cellpose dataset\\\\train_img\\\\379_img.png',\n",
       " '..\\\\cellpose dataset\\\\train_img\\\\507_img.png',\n",
       " '..\\\\cellpose dataset\\\\train_img\\\\451_img.png',\n",
       " '..\\\\cellpose dataset\\\\train_img\\\\216_img.png',\n",
       " '..\\\\cellpose dataset\\\\train_img\\\\409_img.png',\n",
       " '..\\\\cellpose dataset\\\\train_img\\\\279_img.png',\n",
       " '..\\\\cellpose dataset\\\\train_img\\\\480_img.png',\n",
       " '..\\\\cellpose dataset\\\\train_img\\\\476_img.png',\n",
       " '..\\\\cellpose dataset\\\\train_img\\\\337_img.png',\n",
       " '..\\\\cellpose dataset\\\\train_img\\\\236_img.png',\n",
       " '..\\\\cellpose dataset\\\\train_img\\\\207_img.png',\n",
       " '..\\\\cellpose dataset\\\\train_img\\\\212_img.png',\n",
       " '..\\\\cellpose dataset\\\\train_img\\\\295_img.png',\n",
       " '..\\\\cellpose dataset\\\\train_img\\\\504_img.png',\n",
       " '..\\\\cellpose dataset\\\\train_img\\\\251_img.png',\n",
       " '..\\\\cellpose dataset\\\\train_img\\\\531_img.png',\n",
       " '..\\\\cellpose dataset\\\\train_img\\\\505_img.png',\n",
       " '..\\\\cellpose dataset\\\\train_img\\\\303_img.png',\n",
       " '..\\\\cellpose dataset\\\\train_img\\\\350_img.png',\n",
       " '..\\\\cellpose dataset\\\\train_img\\\\269_img.png',\n",
       " '..\\\\cellpose dataset\\\\train_img\\\\501_img.png',\n",
       " '..\\\\cellpose dataset\\\\train_img\\\\201_img.png',\n",
       " '..\\\\cellpose dataset\\\\train_img\\\\161_img.png',\n",
       " '..\\\\cellpose dataset\\\\train_img\\\\043_img.png',\n",
       " '..\\\\cellpose dataset\\\\train_img\\\\217_img.png',\n",
       " '..\\\\cellpose dataset\\\\train_img\\\\401_img.png',\n",
       " '..\\\\cellpose dataset\\\\train_img\\\\190_img.png',\n",
       " '..\\\\cellpose dataset\\\\train_img\\\\309_img.png',\n",
       " '..\\\\cellpose dataset\\\\train_img\\\\259_img.png',\n",
       " '..\\\\cellpose dataset\\\\train_img\\\\105_img.png',\n",
       " '..\\\\cellpose dataset\\\\train_img\\\\053_img.png',\n",
       " '..\\\\cellpose dataset\\\\train_img\\\\389_img.png',\n",
       " '..\\\\cellpose dataset\\\\train_img\\\\001_img.png',\n",
       " '..\\\\cellpose dataset\\\\train_img\\\\487_img.png',\n",
       " '..\\\\cellpose dataset\\\\train_img\\\\359_img.png',\n",
       " '..\\\\cellpose dataset\\\\train_img\\\\049_img.png',\n",
       " '..\\\\cellpose dataset\\\\train_img\\\\419_img.png',\n",
       " '..\\\\cellpose dataset\\\\train_img\\\\080_img.png',\n",
       " '..\\\\cellpose dataset\\\\train_img\\\\205_img.png',\n",
       " '..\\\\cellpose dataset\\\\train_img\\\\034_img.png',\n",
       " '..\\\\cellpose dataset\\\\train_img\\\\430_img.png',\n",
       " '..\\\\cellpose dataset\\\\train_img\\\\263_img.png',\n",
       " '..\\\\cellpose dataset\\\\train_img\\\\427_img.png',\n",
       " '..\\\\cellpose dataset\\\\train_img\\\\454_img.png',\n",
       " '..\\\\cellpose dataset\\\\train_img\\\\443_img.png',\n",
       " '..\\\\cellpose dataset\\\\train_img\\\\366_img.png',\n",
       " '..\\\\cellpose dataset\\\\train_img\\\\091_img.png',\n",
       " '..\\\\cellpose dataset\\\\train_img\\\\339_img.png',\n",
       " '..\\\\cellpose dataset\\\\train_img\\\\520_img.png',\n",
       " '..\\\\cellpose dataset\\\\train_img\\\\052_img.png',\n",
       " '..\\\\cellpose dataset\\\\train_img\\\\345_img.png',\n",
       " '..\\\\cellpose dataset\\\\train_img\\\\264_img.png',\n",
       " '..\\\\cellpose dataset\\\\train_img\\\\241_img.png',\n",
       " '..\\\\cellpose dataset\\\\train_img\\\\013_img.png',\n",
       " '..\\\\cellpose dataset\\\\train_img\\\\315_img.png',\n",
       " '..\\\\cellpose dataset\\\\train_img\\\\088_img.png',\n",
       " '..\\\\cellpose dataset\\\\train_img\\\\387_img.png',\n",
       " '..\\\\cellpose dataset\\\\train_img\\\\273_img.png',\n",
       " '..\\\\cellpose dataset\\\\train_img\\\\166_img.png',\n",
       " '..\\\\cellpose dataset\\\\train_img\\\\328_img.png',\n",
       " '..\\\\cellpose dataset\\\\train_img\\\\534_img.png',\n",
       " '..\\\\cellpose dataset\\\\train_img\\\\134_img.png',\n",
       " '..\\\\cellpose dataset\\\\train_img\\\\306_img.png',\n",
       " '..\\\\cellpose dataset\\\\train_img\\\\484_img.png',\n",
       " '..\\\\cellpose dataset\\\\train_img\\\\525_img.png',\n",
       " '..\\\\cellpose dataset\\\\train_img\\\\319_img.png',\n",
       " '..\\\\cellpose dataset\\\\train_img\\\\243_img.png',\n",
       " '..\\\\cellpose dataset\\\\train_img\\\\054_img.png',\n",
       " '..\\\\cellpose dataset\\\\train_img\\\\363_img.png',\n",
       " '..\\\\cellpose dataset\\\\train_img\\\\050_img.png',\n",
       " '..\\\\cellpose dataset\\\\train_img\\\\503_img.png',\n",
       " '..\\\\cellpose dataset\\\\train_img\\\\174_img.png',\n",
       " '..\\\\cellpose dataset\\\\train_img\\\\445_img.png',\n",
       " '..\\\\cellpose dataset\\\\train_img\\\\189_img.png',\n",
       " '..\\\\cellpose dataset\\\\train_img\\\\537_img.png',\n",
       " '..\\\\cellpose dataset\\\\train_img\\\\463_img.png',\n",
       " '..\\\\cellpose dataset\\\\train_img\\\\187_img.png',\n",
       " '..\\\\cellpose dataset\\\\train_img\\\\475_img.png',\n",
       " '..\\\\cellpose dataset\\\\train_img\\\\169_img.png',\n",
       " '..\\\\cellpose dataset\\\\train_img\\\\510_img.png',\n",
       " '..\\\\cellpose dataset\\\\train_img\\\\058_img.png',\n",
       " '..\\\\cellpose dataset\\\\train_img\\\\474_img.png',\n",
       " '..\\\\cellpose dataset\\\\train_img\\\\252_img.png',\n",
       " '..\\\\cellpose dataset\\\\train_img\\\\021_img.png',\n",
       " '..\\\\cellpose dataset\\\\train_img\\\\313_img.png',\n",
       " '..\\\\cellpose dataset\\\\train_img\\\\459_img.png',\n",
       " '..\\\\cellpose dataset\\\\train_img\\\\160_img.png',\n",
       " '..\\\\cellpose dataset\\\\train_img\\\\276_img.png',\n",
       " '..\\\\cellpose dataset\\\\train_img\\\\191_img.png',\n",
       " '..\\\\cellpose dataset\\\\train_img\\\\385_img.png',\n",
       " '..\\\\cellpose dataset\\\\train_img\\\\413_img.png',\n",
       " '..\\\\cellpose dataset\\\\train_img\\\\491_img.png',\n",
       " '..\\\\cellpose dataset\\\\train_img\\\\343_img.png',\n",
       " '..\\\\cellpose dataset\\\\train_img\\\\308_img.png',\n",
       " '..\\\\cellpose dataset\\\\train_img\\\\130_img.png',\n",
       " '..\\\\cellpose dataset\\\\train_img\\\\099_img.png',\n",
       " '..\\\\cellpose dataset\\\\train_img\\\\372_img.png',\n",
       " '..\\\\cellpose dataset\\\\train_img\\\\087_img.png',\n",
       " '..\\\\cellpose dataset\\\\train_img\\\\458_img.png',\n",
       " '..\\\\cellpose dataset\\\\train_img\\\\330_img.png',\n",
       " '..\\\\cellpose dataset\\\\train_img\\\\214_img.png',\n",
       " '..\\\\cellpose dataset\\\\train_img\\\\466_img.png',\n",
       " '..\\\\cellpose dataset\\\\train_img\\\\121_img.png',\n",
       " '..\\\\cellpose dataset\\\\train_img\\\\020_img.png',\n",
       " '..\\\\cellpose dataset\\\\train_img\\\\071_img.png',\n",
       " '..\\\\cellpose dataset\\\\train_img\\\\106_img.png',\n",
       " '..\\\\cellpose dataset\\\\train_img\\\\270_img.png',\n",
       " '..\\\\cellpose dataset\\\\train_img\\\\435_img.png',\n",
       " '..\\\\cellpose dataset\\\\train_img\\\\102_img.png']"
      ]
     },
     "execution_count": 12,
     "metadata": {},
     "output_type": "execute_result"
    }
   ],
   "source": [
    "trainLoader.dataset.imagePaths"
   ]
  },
  {
   "cell_type": "code",
   "execution_count": 15,
   "id": "0fec3f94",
   "metadata": {},
   "outputs": [
    {
     "data": {
      "text/plain": [
       "207"
      ]
     },
     "execution_count": 15,
     "metadata": {},
     "output_type": "execute_result"
    }
   ],
   "source": [
    "len(P['x'])"
   ]
  },
  {
   "cell_type": "code",
   "execution_count": 18,
   "id": "d12c7f98",
   "metadata": {},
   "outputs": [
    {
     "data": {
      "text/plain": [
       "1"
      ]
     },
     "execution_count": 18,
     "metadata": {},
     "output_type": "execute_result"
    }
   ],
   "source": [
    "len(P['y1'][0][0])"
   ]
  },
  {
   "cell_type": "code",
   "execution_count": null,
   "id": "9ef80267",
   "metadata": {},
   "outputs": [],
   "source": []
  }
 ],
 "metadata": {
  "kernelspec": {
   "display_name": "Python 3",
   "language": "python",
   "name": "python3"
  },
  "language_info": {
   "codemirror_mode": {
    "name": "ipython",
    "version": 3
   },
   "file_extension": ".py",
   "mimetype": "text/x-python",
   "name": "python",
   "nbconvert_exporter": "python",
   "pygments_lexer": "ipython3",
   "version": "3.8.8"
  }
 },
 "nbformat": 4,
 "nbformat_minor": 5
}
