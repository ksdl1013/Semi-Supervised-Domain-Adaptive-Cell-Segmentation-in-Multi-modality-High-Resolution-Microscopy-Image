{
 "cells": [
  {
   "cell_type": "code",
   "execution_count": 1,
   "id": "b65179ce",
   "metadata": {},
   "outputs": [
    {
     "name": "stdout",
     "output_type": "stream",
     "text": [
      "importing Jupyter notebook from config.ipynb\n"
     ]
    }
   ],
   "source": [
    "# import the necessary packages\n",
    "import import_ipynb\n",
    "import config\n",
    "from torch.nn import ConvTranspose2d\n",
    "from torch.nn import Conv2d\n",
    "from torch.nn import MaxPool2d\n",
    "from torch.nn import Module\n",
    "from torch.nn import ModuleList\n",
    "from torch.nn import ReLU\n",
    "from torchvision.transforms import CenterCrop\n",
    "from torch.nn import functional as F\n",
    "import torch"
   ]
  },
  {
   "cell_type": "code",
   "execution_count": 2,
   "id": "bb720846",
   "metadata": {},
   "outputs": [],
   "source": [
    "class Block(Module):\n",
    "    def __init__(self, inChannels, outChannels):\n",
    "        super().__init__()\n",
    "        # store the convolution and RELU layers\n",
    "        self.conv1 = Conv2d(inChannels, outChannels, kernel_size = 3,padding='same')\n",
    "        self.relu = ReLU()\n",
    "        self.conv2 = Conv2d(outChannels, outChannels, kernel_size = 3,padding='same')\n",
    "\n",
    "    def forward(self, x):\n",
    "        # apply CONV => RELU => CONV =>RELU block to the inputs and return it\n",
    "        return self.relu(self.conv2(self.relu(self.conv1(x))))"
   ]
  },
  {
   "cell_type": "code",
   "execution_count": 3,
   "id": "79aa83e1",
   "metadata": {},
   "outputs": [],
   "source": [
    "class Encoder(Module):\n",
    "    def __init__(self, channels=(3, 32, 64, 128, 256, 512)):\n",
    "        super().__init__()\n",
    "        # store the encoder blocks and maxpooling layer\n",
    "        self.encBlocks = ModuleList(\n",
    "            [Block(channels[i], channels[i + 1])\n",
    "                for i in range(len(channels) - 1)])\n",
    "        self.pool = MaxPool2d(kernel_size = 2, stride = 2)\n",
    "\n",
    "    def forward(self, x):\n",
    "        # initialize an empty list to store the intermediate outputs\n",
    "        blockOutputs = []\n",
    "\n",
    "        # loop through the encoder blocks\n",
    "        for block in self.encBlocks:\n",
    "            # pass the inputs through the current encoder block, store\n",
    "            # the outputs, and then apply maxpooling on the output\n",
    "            x = block(x)\n",
    "            #print(x.shape)\n",
    "            blockOutputs.append(x)\n",
    "            x = self.pool(x)\n",
    "            #print(x.shape)\n",
    "\n",
    "        # return the list containing the intermediate outputs\n",
    "        return blockOutputs"
   ]
  },
  {
   "cell_type": "code",
   "execution_count": 4,
   "id": "a2a754cf",
   "metadata": {},
   "outputs": [],
   "source": [
    "class Decoder(Module):\n",
    "    def __init__(self, channels=(512, 256, 128, 64, 32)):\n",
    "        super().__init__()\n",
    "        # initialize the number of channels, upsampler blocks, and\n",
    "        # decoder blocks\n",
    "        self.channels = channels\n",
    "        self.upconvs = ModuleList(\n",
    "            [ConvTranspose2d(channels[i], channels[i + 1], 2, 2)\n",
    "                for i in range(len(channels) - 1)])\n",
    "        self.dec_blocks = ModuleList(\n",
    "            [Block(channels[i], channels[i + 1])\n",
    "                for i in range(len(channels) - 1)])\n",
    "\n",
    "    def forward(self, x, encFeatures):\n",
    "        # loop through the number of channels\n",
    "        for i in range(len(self.channels) - 1):\n",
    "            # pass the inputs through the upsampler blocks\n",
    "            x = self.upconvs[i](x)\n",
    "            #print(x.shape)\n",
    "            # concatenate them with the current upsampled features,\n",
    "            # and pass the concatenated output through the current\n",
    "            # decoder block\n",
    "            encFeat = encFeatures[i]\n",
    "            x = torch.cat([x, encFeat], dim=1)\n",
    "            x = self.dec_blocks[i](x)\n",
    "            #print(x.shape)\n",
    "\n",
    "        # return the final decoder output\n",
    "        return x"
   ]
  },
  {
   "cell_type": "code",
   "execution_count": 5,
   "id": "c3e4a355",
   "metadata": {},
   "outputs": [],
   "source": [
    "class UNet(Module):\n",
    "    def __init__(self, encChannels=(3, 32, 64, 128, 256, 512),\n",
    "        decChannels=(512, 256, 128, 64, 32),\n",
    "        nbClasses=1, retainDim=True,\n",
    "        outSize=(config.INPUT_IMAGE_HEIGHT,  config.INPUT_IMAGE_WIDTH)):\n",
    "        super().__init__()\n",
    "        # initialize the encoder and decoder\n",
    "        self.encoder = Encoder(encChannels)\n",
    "        self.decoder = Decoder(decChannels)\n",
    "\n",
    "        # initialize the regression head and store the class variables\n",
    "        self.head = Conv2d(decChannels[-1], nbClasses, 1)\n",
    "        self.retainDim = retainDim\n",
    "        self.outSize = outSize\n",
    "        \n",
    "    def forward(self, x):\n",
    "        # grab the features from the encoder\n",
    "        encFeatures = self.encoder(x)\n",
    "\n",
    "        # pass the encoder features through decoder making sure that\n",
    "        # their dimensions are suited for concatenation\n",
    "        decFeatures = self.decoder(encFeatures[::-1][0],\n",
    "            encFeatures[::-1][1:])\n",
    "\n",
    "        # pass the decoder features through the regression head to\n",
    "        # obtain the segmentation mask\n",
    "        map = self.head(decFeatures)\n",
    "\n",
    "        # check to see if we are retaining the original output\n",
    "        # dimensions and if so, then resize the output to match them\n",
    "        #if self.retainDim:\n",
    "         #   map = F.interpolate(map, self.outSize)\n",
    "\n",
    "        # return the segmentation map\n",
    "        return map"
   ]
  },
  {
   "cell_type": "markdown",
   "id": "2a1ef571",
   "metadata": {},
   "source": [
    "image = torch.rand((1,3,256,256))\n",
    "model = UNet()\n",
    "print(model(image))"
   ]
  },
  {
   "cell_type": "code",
   "execution_count": null,
   "id": "7afc4164",
   "metadata": {},
   "outputs": [],
   "source": []
  }
 ],
 "metadata": {
  "kernelspec": {
   "display_name": "Python 3",
   "language": "python",
   "name": "python3"
  },
  "language_info": {
   "codemirror_mode": {
    "name": "ipython",
    "version": 3
   },
   "file_extension": ".py",
   "mimetype": "text/x-python",
   "name": "python",
   "nbconvert_exporter": "python",
   "pygments_lexer": "ipython3",
   "version": "3.8.8"
  }
 },
 "nbformat": 4,
 "nbformat_minor": 5
}
